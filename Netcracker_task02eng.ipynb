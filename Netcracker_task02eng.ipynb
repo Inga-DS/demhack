{
  "nbformat": 4,
  "nbformat_minor": 0,
  "metadata": {
    "colab": {
      "name": "Netcracker_task02eng.ipynb",
      "provenance": [],
      "collapsed_sections": []
    },
    "kernelspec": {
      "name": "python3",
      "display_name": "Python 3"
    }
  },
  "cells": [
    {
      "cell_type": "markdown",
      "metadata": {
        "id": "b5SxRIhqDZnG"
      },
      "source": [
        "Task from Netcracker to find outliners in data. Made by Alex Bocharov skype bam271074\r\n",
        "\r\n",
        "\r\n",
        "\r\n",
        "Let s install pyldavis lib for visualization"
      ]
    },
    {
      "cell_type": "code",
      "metadata": {
        "colab": {
          "base_uri": "https://localhost:8080/"
        },
        "id": "OqTNMYOuDmC9",
        "outputId": "5a2d8926-4fc0-4274-a5b2-b0e167fe1d2f"
      },
      "source": [
        "!pip install pyldavis"
      ],
      "execution_count": 1,
      "outputs": [
        {
          "output_type": "stream",
          "text": [
            "Collecting pyldavis\n",
            "\u001b[?25l  Downloading https://files.pythonhosted.org/packages/24/38/6d81eff34c84c9158d3b7c846bff978ac88b0c2665548941946d3d591158/pyLDAvis-3.2.2.tar.gz (1.7MB)\n",
            "\u001b[K     |████████████████████████████████| 1.7MB 5.8MB/s \n",
            "\u001b[?25hRequirement already satisfied: wheel>=0.23.0 in /usr/local/lib/python3.7/dist-packages (from pyldavis) (0.36.2)\n",
            "Requirement already satisfied: numpy>=1.9.2 in /usr/local/lib/python3.7/dist-packages (from pyldavis) (1.19.5)\n",
            "Requirement already satisfied: scipy>=0.18.0 in /usr/local/lib/python3.7/dist-packages (from pyldavis) (1.4.1)\n",
            "Requirement already satisfied: joblib>=0.8.4 in /usr/local/lib/python3.7/dist-packages (from pyldavis) (1.0.1)\n",
            "Requirement already satisfied: jinja2>=2.7.2 in /usr/local/lib/python3.7/dist-packages (from pyldavis) (2.11.3)\n",
            "Requirement already satisfied: numexpr in /usr/local/lib/python3.7/dist-packages (from pyldavis) (2.7.2)\n",
            "Requirement already satisfied: future in /usr/local/lib/python3.7/dist-packages (from pyldavis) (0.16.0)\n",
            "Collecting funcy\n",
            "  Downloading https://files.pythonhosted.org/packages/66/89/479de0afbbfb98d1c4b887936808764627300208bb771fcd823403645a36/funcy-1.15-py2.py3-none-any.whl\n",
            "Requirement already satisfied: pandas>=0.17.0 in /usr/local/lib/python3.7/dist-packages (from pyldavis) (1.1.5)\n",
            "Requirement already satisfied: MarkupSafe>=0.23 in /usr/local/lib/python3.7/dist-packages (from jinja2>=2.7.2->pyldavis) (1.1.1)\n",
            "Requirement already satisfied: python-dateutil>=2.7.3 in /usr/local/lib/python3.7/dist-packages (from pandas>=0.17.0->pyldavis) (2.8.1)\n",
            "Requirement already satisfied: pytz>=2017.2 in /usr/local/lib/python3.7/dist-packages (from pandas>=0.17.0->pyldavis) (2018.9)\n",
            "Requirement already satisfied: six>=1.5 in /usr/local/lib/python3.7/dist-packages (from python-dateutil>=2.7.3->pandas>=0.17.0->pyldavis) (1.15.0)\n",
            "Building wheels for collected packages: pyldavis\n",
            "  Building wheel for pyldavis (setup.py) ... \u001b[?25l\u001b[?25hdone\n",
            "  Created wheel for pyldavis: filename=pyLDAvis-3.2.2-py2.py3-none-any.whl size=135593 sha256=e23b61d6d301459fe6cd957dd749f81ce30536a284b2c60ef5dbb37d4dfdcc90\n",
            "  Stored in directory: /root/.cache/pip/wheels/74/df/b6/97234c8446a43be05c9a8687ee0db1f1b5ade5f27729187eae\n",
            "Successfully built pyldavis\n",
            "Installing collected packages: funcy, pyldavis\n",
            "Successfully installed funcy-1.15 pyldavis-3.2.2\n"
          ],
          "name": "stdout"
        }
      ]
    },
    {
      "cell_type": "code",
      "metadata": {
        "id": "zdyAt56KWQAJ",
        "colab": {
          "base_uri": "https://localhost:8080/"
        },
        "outputId": "bff56d69-f4f8-4b66-b1eb-9864b0fb0737"
      },
      "source": [
        "import numpy as np\r\n",
        "import pandas as pd\r\n",
        "import re\r\n",
        "from sklearn.metrics import *\r\n",
        "from sklearn.pipeline import *\r\n",
        "from sklearn.feature_extraction.text import *\r\n",
        "from sklearn.decomposition import TruncatedSVD, PCA\r\n",
        "from sklearn.preprocessing import Normalizer, LabelEncoder\r\n",
        "from gensim.models import *\r\n",
        "from gensim import corpora\r\n",
        "from gensim import similarities\r\n",
        "import random\r\n",
        "import matplotlib.pyplot as plt\r\n",
        "import seaborn as sns\r\n",
        "from matplotlib import style\r\n",
        "# %matplotlib inline\r\n",
        "style.use('ggplot')\r\n",
        "import pyLDAvis\r\n",
        "import pyLDAvis.gensim as gensimvis\r\n",
        "\r\n",
        "\r\n",
        "import warnings\r\n",
        "warnings.filterwarnings('ignore')"
      ],
      "execution_count": 2,
      "outputs": [
        {
          "output_type": "stream",
          "text": [
            "/usr/local/lib/python3.7/dist-packages/past/types/oldstr.py:5: DeprecationWarning: Using or importing the ABCs from 'collections' instead of from 'collections.abc' is deprecated since Python 3.3,and in 3.9 it will stop working\n",
            "  from collections import Iterable\n"
          ],
          "name": "stderr"
        }
      ]
    },
    {
      "cell_type": "code",
      "metadata": {
        "id": "cPYWFgVhWQT6",
        "colab": {
          "resources": {
            "http://localhost:8080/nbextensions/google.colab/files.js": {
              "data": "Ly8gQ29weXJpZ2h0IDIwMTcgR29vZ2xlIExMQwovLwovLyBMaWNlbnNlZCB1bmRlciB0aGUgQXBhY2hlIExpY2Vuc2UsIFZlcnNpb24gMi4wICh0aGUgIkxpY2Vuc2UiKTsKLy8geW91IG1heSBub3QgdXNlIHRoaXMgZmlsZSBleGNlcHQgaW4gY29tcGxpYW5jZSB3aXRoIHRoZSBMaWNlbnNlLgovLyBZb3UgbWF5IG9idGFpbiBhIGNvcHkgb2YgdGhlIExpY2Vuc2UgYXQKLy8KLy8gICAgICBodHRwOi8vd3d3LmFwYWNoZS5vcmcvbGljZW5zZXMvTElDRU5TRS0yLjAKLy8KLy8gVW5sZXNzIHJlcXVpcmVkIGJ5IGFwcGxpY2FibGUgbGF3IG9yIGFncmVlZCB0byBpbiB3cml0aW5nLCBzb2Z0d2FyZQovLyBkaXN0cmlidXRlZCB1bmRlciB0aGUgTGljZW5zZSBpcyBkaXN0cmlidXRlZCBvbiBhbiAiQVMgSVMiIEJBU0lTLAovLyBXSVRIT1VUIFdBUlJBTlRJRVMgT1IgQ09ORElUSU9OUyBPRiBBTlkgS0lORCwgZWl0aGVyIGV4cHJlc3Mgb3IgaW1wbGllZC4KLy8gU2VlIHRoZSBMaWNlbnNlIGZvciB0aGUgc3BlY2lmaWMgbGFuZ3VhZ2UgZ292ZXJuaW5nIHBlcm1pc3Npb25zIGFuZAovLyBsaW1pdGF0aW9ucyB1bmRlciB0aGUgTGljZW5zZS4KCi8qKgogKiBAZmlsZW92ZXJ2aWV3IEhlbHBlcnMgZm9yIGdvb2dsZS5jb2xhYiBQeXRob24gbW9kdWxlLgogKi8KKGZ1bmN0aW9uKHNjb3BlKSB7CmZ1bmN0aW9uIHNwYW4odGV4dCwgc3R5bGVBdHRyaWJ1dGVzID0ge30pIHsKICBjb25zdCBlbGVtZW50ID0gZG9jdW1lbnQuY3JlYXRlRWxlbWVudCgnc3BhbicpOwogIGVsZW1lbnQudGV4dENvbnRlbnQgPSB0ZXh0OwogIGZvciAoY29uc3Qga2V5IG9mIE9iamVjdC5rZXlzKHN0eWxlQXR0cmlidXRlcykpIHsKICAgIGVsZW1lbnQuc3R5bGVba2V5XSA9IHN0eWxlQXR0cmlidXRlc1trZXldOwogIH0KICByZXR1cm4gZWxlbWVudDsKfQoKLy8gTWF4IG51bWJlciBvZiBieXRlcyB3aGljaCB3aWxsIGJlIHVwbG9hZGVkIGF0IGEgdGltZS4KY29uc3QgTUFYX1BBWUxPQURfU0laRSA9IDEwMCAqIDEwMjQ7CgpmdW5jdGlvbiBfdXBsb2FkRmlsZXMoaW5wdXRJZCwgb3V0cHV0SWQpIHsKICBjb25zdCBzdGVwcyA9IHVwbG9hZEZpbGVzU3RlcChpbnB1dElkLCBvdXRwdXRJZCk7CiAgY29uc3Qgb3V0cHV0RWxlbWVudCA9IGRvY3VtZW50LmdldEVsZW1lbnRCeUlkKG91dHB1dElkKTsKICAvLyBDYWNoZSBzdGVwcyBvbiB0aGUgb3V0cHV0RWxlbWVudCB0byBtYWtlIGl0IGF2YWlsYWJsZSBmb3IgdGhlIG5leHQgY2FsbAogIC8vIHRvIHVwbG9hZEZpbGVzQ29udGludWUgZnJvbSBQeXRob24uCiAgb3V0cHV0RWxlbWVudC5zdGVwcyA9IHN0ZXBzOwoKICByZXR1cm4gX3VwbG9hZEZpbGVzQ29udGludWUob3V0cHV0SWQpOwp9CgovLyBUaGlzIGlzIHJvdWdobHkgYW4gYXN5bmMgZ2VuZXJhdG9yIChub3Qgc3VwcG9ydGVkIGluIHRoZSBicm93c2VyIHlldCksCi8vIHdoZXJlIHRoZXJlIGFyZSBtdWx0aXBsZSBhc3luY2hyb25vdXMgc3RlcHMgYW5kIHRoZSBQeXRob24gc2lkZSBpcyBnb2luZwovLyB0byBwb2xsIGZvciBjb21wbGV0aW9uIG9mIGVhY2ggc3RlcC4KLy8gVGhpcyB1c2VzIGEgUHJvbWlzZSB0byBibG9jayB0aGUgcHl0aG9uIHNpZGUgb24gY29tcGxldGlvbiBvZiBlYWNoIHN0ZXAsCi8vIHRoZW4gcGFzc2VzIHRoZSByZXN1bHQgb2YgdGhlIHByZXZpb3VzIHN0ZXAgYXMgdGhlIGlucHV0IHRvIHRoZSBuZXh0IHN0ZXAuCmZ1bmN0aW9uIF91cGxvYWRGaWxlc0NvbnRpbnVlKG91dHB1dElkKSB7CiAgY29uc3Qgb3V0cHV0RWxlbWVudCA9IGRvY3VtZW50LmdldEVsZW1lbnRCeUlkKG91dHB1dElkKTsKICBjb25zdCBzdGVwcyA9IG91dHB1dEVsZW1lbnQuc3RlcHM7CgogIGNvbnN0IG5leHQgPSBzdGVwcy5uZXh0KG91dHB1dEVsZW1lbnQubGFzdFByb21pc2VWYWx1ZSk7CiAgcmV0dXJuIFByb21pc2UucmVzb2x2ZShuZXh0LnZhbHVlLnByb21pc2UpLnRoZW4oKHZhbHVlKSA9PiB7CiAgICAvLyBDYWNoZSB0aGUgbGFzdCBwcm9taXNlIHZhbHVlIHRvIG1ha2UgaXQgYXZhaWxhYmxlIHRvIHRoZSBuZXh0CiAgICAvLyBzdGVwIG9mIHRoZSBnZW5lcmF0b3IuCiAgICBvdXRwdXRFbGVtZW50Lmxhc3RQcm9taXNlVmFsdWUgPSB2YWx1ZTsKICAgIHJldHVybiBuZXh0LnZhbHVlLnJlc3BvbnNlOwogIH0pOwp9CgovKioKICogR2VuZXJhdG9yIGZ1bmN0aW9uIHdoaWNoIGlzIGNhbGxlZCBiZXR3ZWVuIGVhY2ggYXN5bmMgc3RlcCBvZiB0aGUgdXBsb2FkCiAqIHByb2Nlc3MuCiAqIEBwYXJhbSB7c3RyaW5nfSBpbnB1dElkIEVsZW1lbnQgSUQgb2YgdGhlIGlucHV0IGZpbGUgcGlja2VyIGVsZW1lbnQuCiAqIEBwYXJhbSB7c3RyaW5nfSBvdXRwdXRJZCBFbGVtZW50IElEIG9mIHRoZSBvdXRwdXQgZGlzcGxheS4KICogQHJldHVybiB7IUl0ZXJhYmxlPCFPYmplY3Q+fSBJdGVyYWJsZSBvZiBuZXh0IHN0ZXBzLgogKi8KZnVuY3Rpb24qIHVwbG9hZEZpbGVzU3RlcChpbnB1dElkLCBvdXRwdXRJZCkgewogIGNvbnN0IGlucHV0RWxlbWVudCA9IGRvY3VtZW50LmdldEVsZW1lbnRCeUlkKGlucHV0SWQpOwogIGlucHV0RWxlbWVudC5kaXNhYmxlZCA9IGZhbHNlOwoKICBjb25zdCBvdXRwdXRFbGVtZW50ID0gZG9jdW1lbnQuZ2V0RWxlbWVudEJ5SWQob3V0cHV0SWQpOwogIG91dHB1dEVsZW1lbnQuaW5uZXJIVE1MID0gJyc7CgogIGNvbnN0IHBpY2tlZFByb21pc2UgPSBuZXcgUHJvbWlzZSgocmVzb2x2ZSkgPT4gewogICAgaW5wdXRFbGVtZW50LmFkZEV2ZW50TGlzdGVuZXIoJ2NoYW5nZScsIChlKSA9PiB7CiAgICAgIHJlc29sdmUoZS50YXJnZXQuZmlsZXMpOwogICAgfSk7CiAgfSk7CgogIGNvbnN0IGNhbmNlbCA9IGRvY3VtZW50LmNyZWF0ZUVsZW1lbnQoJ2J1dHRvbicpOwogIGlucHV0RWxlbWVudC5wYXJlbnRFbGVtZW50LmFwcGVuZENoaWxkKGNhbmNlbCk7CiAgY2FuY2VsLnRleHRDb250ZW50ID0gJ0NhbmNlbCB1cGxvYWQnOwogIGNvbnN0IGNhbmNlbFByb21pc2UgPSBuZXcgUHJvbWlzZSgocmVzb2x2ZSkgPT4gewogICAgY2FuY2VsLm9uY2xpY2sgPSAoKSA9PiB7CiAgICAgIHJlc29sdmUobnVsbCk7CiAgICB9OwogIH0pOwoKICAvLyBXYWl0IGZvciB0aGUgdXNlciB0byBwaWNrIHRoZSBmaWxlcy4KICBjb25zdCBmaWxlcyA9IHlpZWxkIHsKICAgIHByb21pc2U6IFByb21pc2UucmFjZShbcGlja2VkUHJvbWlzZSwgY2FuY2VsUHJvbWlzZV0pLAogICAgcmVzcG9uc2U6IHsKICAgICAgYWN0aW9uOiAnc3RhcnRpbmcnLAogICAgfQogIH07CgogIGNhbmNlbC5yZW1vdmUoKTsKCiAgLy8gRGlzYWJsZSB0aGUgaW5wdXQgZWxlbWVudCBzaW5jZSBmdXJ0aGVyIHBpY2tzIGFyZSBub3QgYWxsb3dlZC4KICBpbnB1dEVsZW1lbnQuZGlzYWJsZWQgPSB0cnVlOwoKICBpZiAoIWZpbGVzKSB7CiAgICByZXR1cm4gewogICAgICByZXNwb25zZTogewogICAgICAgIGFjdGlvbjogJ2NvbXBsZXRlJywKICAgICAgfQogICAgfTsKICB9CgogIGZvciAoY29uc3QgZmlsZSBvZiBmaWxlcykgewogICAgY29uc3QgbGkgPSBkb2N1bWVudC5jcmVhdGVFbGVtZW50KCdsaScpOwogICAgbGkuYXBwZW5kKHNwYW4oZmlsZS5uYW1lLCB7Zm9udFdlaWdodDogJ2JvbGQnfSkpOwogICAgbGkuYXBwZW5kKHNwYW4oCiAgICAgICAgYCgke2ZpbGUudHlwZSB8fCAnbi9hJ30pIC0gJHtmaWxlLnNpemV9IGJ5dGVzLCBgICsKICAgICAgICBgbGFzdCBtb2RpZmllZDogJHsKICAgICAgICAgICAgZmlsZS5sYXN0TW9kaWZpZWREYXRlID8gZmlsZS5sYXN0TW9kaWZpZWREYXRlLnRvTG9jYWxlRGF0ZVN0cmluZygpIDoKICAgICAgICAgICAgICAgICAgICAgICAgICAgICAgICAgICAgJ24vYSd9IC0gYCkpOwogICAgY29uc3QgcGVyY2VudCA9IHNwYW4oJzAlIGRvbmUnKTsKICAgIGxpLmFwcGVuZENoaWxkKHBlcmNlbnQpOwoKICAgIG91dHB1dEVsZW1lbnQuYXBwZW5kQ2hpbGQobGkpOwoKICAgIGNvbnN0IGZpbGVEYXRhUHJvbWlzZSA9IG5ldyBQcm9taXNlKChyZXNvbHZlKSA9PiB7CiAgICAgIGNvbnN0IHJlYWRlciA9IG5ldyBGaWxlUmVhZGVyKCk7CiAgICAgIHJlYWRlci5vbmxvYWQgPSAoZSkgPT4gewogICAgICAgIHJlc29sdmUoZS50YXJnZXQucmVzdWx0KTsKICAgICAgfTsKICAgICAgcmVhZGVyLnJlYWRBc0FycmF5QnVmZmVyKGZpbGUpOwogICAgfSk7CiAgICAvLyBXYWl0IGZvciB0aGUgZGF0YSB0byBiZSByZWFkeS4KICAgIGxldCBmaWxlRGF0YSA9IHlpZWxkIHsKICAgICAgcHJvbWlzZTogZmlsZURhdGFQcm9taXNlLAogICAgICByZXNwb25zZTogewogICAgICAgIGFjdGlvbjogJ2NvbnRpbnVlJywKICAgICAgfQogICAgfTsKCiAgICAvLyBVc2UgYSBjaHVua2VkIHNlbmRpbmcgdG8gYXZvaWQgbWVzc2FnZSBzaXplIGxpbWl0cy4gU2VlIGIvNjIxMTU2NjAuCiAgICBsZXQgcG9zaXRpb24gPSAwOwogICAgd2hpbGUgKHBvc2l0aW9uIDwgZmlsZURhdGEuYnl0ZUxlbmd0aCkgewogICAgICBjb25zdCBsZW5ndGggPSBNYXRoLm1pbihmaWxlRGF0YS5ieXRlTGVuZ3RoIC0gcG9zaXRpb24sIE1BWF9QQVlMT0FEX1NJWkUpOwogICAgICBjb25zdCBjaHVuayA9IG5ldyBVaW50OEFycmF5KGZpbGVEYXRhLCBwb3NpdGlvbiwgbGVuZ3RoKTsKICAgICAgcG9zaXRpb24gKz0gbGVuZ3RoOwoKICAgICAgY29uc3QgYmFzZTY0ID0gYnRvYShTdHJpbmcuZnJvbUNoYXJDb2RlLmFwcGx5KG51bGwsIGNodW5rKSk7CiAgICAgIHlpZWxkIHsKICAgICAgICByZXNwb25zZTogewogICAgICAgICAgYWN0aW9uOiAnYXBwZW5kJywKICAgICAgICAgIGZpbGU6IGZpbGUubmFtZSwKICAgICAgICAgIGRhdGE6IGJhc2U2NCwKICAgICAgICB9LAogICAgICB9OwogICAgICBwZXJjZW50LnRleHRDb250ZW50ID0KICAgICAgICAgIGAke01hdGgucm91bmQoKHBvc2l0aW9uIC8gZmlsZURhdGEuYnl0ZUxlbmd0aCkgKiAxMDApfSUgZG9uZWA7CiAgICB9CiAgfQoKICAvLyBBbGwgZG9uZS4KICB5aWVsZCB7CiAgICByZXNwb25zZTogewogICAgICBhY3Rpb246ICdjb21wbGV0ZScsCiAgICB9CiAgfTsKfQoKc2NvcGUuZ29vZ2xlID0gc2NvcGUuZ29vZ2xlIHx8IHt9OwpzY29wZS5nb29nbGUuY29sYWIgPSBzY29wZS5nb29nbGUuY29sYWIgfHwge307CnNjb3BlLmdvb2dsZS5jb2xhYi5fZmlsZXMgPSB7CiAgX3VwbG9hZEZpbGVzLAogIF91cGxvYWRGaWxlc0NvbnRpbnVlLAp9Owp9KShzZWxmKTsK",
              "ok": true,
              "headers": [
                [
                  "content-type",
                  "application/javascript"
                ]
              ],
              "status": 200,
              "status_text": ""
            }
          },
          "base_uri": "https://localhost:8080/",
          "height": 90
        },
        "outputId": "63ef8df6-4253-475a-d4c5-e831cc2d8e8a"
      },
      "source": [
        "#let s upload file with data\r\n",
        "from google.colab import files\r\n",
        "uploaded = files.upload()\r\n",
        "for fn in uploaded.keys():\r\n",
        "  print ('User uploaded file {name} with length {length} bytes'.format(name=fn, \\\r\n",
        "                                                                       length=len(uploaded[fn])))"
      ],
      "execution_count": 3,
      "outputs": [
        {
          "output_type": "display_data",
          "data": {
            "text/html": [
              "\n",
              "     <input type=\"file\" id=\"files-e311ffcc-de56-40cb-96d6-6cc087afc3ec\" name=\"files[]\" multiple disabled\n",
              "        style=\"border:none\" />\n",
              "     <output id=\"result-e311ffcc-de56-40cb-96d6-6cc087afc3ec\">\n",
              "      Upload widget is only available when the cell has been executed in the\n",
              "      current browser session. Please rerun this cell to enable.\n",
              "      </output>\n",
              "      <script src=\"/nbextensions/google.colab/files.js\"></script> "
            ],
            "text/plain": [
              "<IPython.core.display.HTML object>"
            ]
          },
          "metadata": {
            "tags": []
          }
        },
        {
          "output_type": "stream",
          "text": [
            "Saving census-income-full-nominal.arff to census-income-full-nominal.arff\n",
            "User uploaded file census-income-full-nominal.arff with length 136760796 bytes\n"
          ],
          "name": "stdout"
        }
      ]
    },
    {
      "cell_type": "code",
      "metadata": {
        "colab": {
          "base_uri": "https://localhost:8080/"
        },
        "id": "B1g_pEpIJxD8",
        "outputId": "3b41ebf3-cbfa-44e5-aa2e-4634bf3e6492"
      },
      "source": [
        "!ls"
      ],
      "execution_count": 4,
      "outputs": [
        {
          "output_type": "stream",
          "text": [
            "census-income-full-nominal.arff  sample_data\n"
          ],
          "name": "stdout"
        }
      ]
    },
    {
      "cell_type": "code",
      "metadata": {
        "colab": {
          "base_uri": "https://localhost:8080/"
        },
        "id": "53VbyDBazgvl",
        "outputId": "03b48fe1-ebcc-4f5c-ddd8-a019fb187ea8"
      },
      "source": [
        "!wget https://github.com/GuansongPang/anomaly-detection-datasets/blob/main/categorical%20data/census-income-full-nominal.tar.xz"
      ],
      "execution_count": 5,
      "outputs": [
        {
          "output_type": "stream",
          "text": [
            "--2021-03-02 12:01:29--  https://github.com/GuansongPang/anomaly-detection-datasets/blob/main/categorical%20data/census-income-full-nominal.tar.xz\n",
            "Resolving github.com (github.com)... 140.82.112.4\n",
            "Connecting to github.com (github.com)|140.82.112.4|:443... connected.\n",
            "HTTP request sent, awaiting response... 200 OK\n",
            "Length: unspecified [text/html]\n",
            "Saving to: ‘census-income-full-nominal.tar.xz’\n",
            "\n",
            "census-income-full-     [ <=>                ]  97.11K  --.-KB/s    in 0.04s   \n",
            "\n",
            "2021-03-02 12:01:29 (2.42 MB/s) - ‘census-income-full-nominal.tar.xz’ saved [99441]\n",
            "\n"
          ],
          "name": "stdout"
        }
      ]
    },
    {
      "cell_type": "code",
      "metadata": {
        "colab": {
          "base_uri": "https://localhost:8080/"
        },
        "id": "W9zjuSYF0Pq9",
        "outputId": "ce1aa414-7d57-4af1-afde-4ed3a80c6cdb"
      },
      "source": [
        "!ls"
      ],
      "execution_count": 6,
      "outputs": [
        {
          "output_type": "stream",
          "text": [
            "census-income-full-nominal.arff  census-income-full-nominal.tar.xz  sample_data\n"
          ],
          "name": "stdout"
        }
      ]
    },
    {
      "cell_type": "code",
      "metadata": {
        "id": "YOmmY8XJWQlt",
        "colab": {
          "base_uri": "https://localhost:8080/",
          "height": 618
        },
        "outputId": "af0b7fe0-8745-4ad2-b510-15036532ac6a"
      },
      "source": [
        "#let s build dataframe from uploaded file\r\n",
        "\r\n",
        "df = pd.read_csv(\"census-income-full-nominal.arff\", sep=',', skip_blank_lines=True, header=36)\r\n",
        "df.head()"
      ],
      "execution_count": 7,
      "outputs": [
        {
          "output_type": "execute_result",
          "data": {
            "text/html": [
              "<div>\n",
              "<style scoped>\n",
              "    .dataframe tbody tr th:only-of-type {\n",
              "        vertical-align: middle;\n",
              "    }\n",
              "\n",
              "    .dataframe tbody tr th {\n",
              "        vertical-align: top;\n",
              "    }\n",
              "\n",
              "    .dataframe thead th {\n",
              "        text-align: right;\n",
              "    }\n",
              "</style>\n",
              "<table border=\"1\" class=\"dataframe\">\n",
              "  <thead>\n",
              "    <tr style=\"text-align: right;\">\n",
              "      <th></th>\n",
              "      <th>Not-in-universe</th>\n",
              "      <th>0</th>\n",
              "      <th>0.1</th>\n",
              "      <th>Bachelors-degree(BA-AB-BS)</th>\n",
              "      <th>Not-in-universe.1</th>\n",
              "      <th>Married-civilian-spouse-present</th>\n",
              "      <th>Not-in-universe-or-children</th>\n",
              "      <th>Not-in-universe.2</th>\n",
              "      <th>White</th>\n",
              "      <th>All-other</th>\n",
              "      <th>Female</th>\n",
              "      <th>Not-in-universe.3</th>\n",
              "      <th>Not-in-universe.4</th>\n",
              "      <th>Children-or-Armed-Forces</th>\n",
              "      <th>Joint-both-under-65</th>\n",
              "      <th>Not-in-universe.5</th>\n",
              "      <th>Not-in-universe.6</th>\n",
              "      <th>Spouse-of-householder</th>\n",
              "      <th>Spouse-of-householder.1</th>\n",
              "      <th>Nonmover</th>\n",
              "      <th>Nonmover.1</th>\n",
              "      <th>Nonmover.2</th>\n",
              "      <th>Yes</th>\n",
              "      <th>Not-in-universe.7</th>\n",
              "      <th>Not-in-universe.8</th>\n",
              "      <th>United-States</th>\n",
              "      <th>United-States.1</th>\n",
              "      <th>United-States.2</th>\n",
              "      <th>Native--Born-in-the-United-States</th>\n",
              "      <th>0.2</th>\n",
              "      <th>Not-in-universe.9</th>\n",
              "      <th>2</th>\n",
              "      <th>94</th>\n",
              "      <th>--50000.</th>\n",
              "    </tr>\n",
              "  </thead>\n",
              "  <tbody>\n",
              "    <tr>\n",
              "      <th>0</th>\n",
              "      <td>Private</td>\n",
              "      <td>29</td>\n",
              "      <td>32</td>\n",
              "      <td>Bachelors-degree(BA-AB-BS)</td>\n",
              "      <td>Not-in-universe</td>\n",
              "      <td>Never-married</td>\n",
              "      <td>Transportation</td>\n",
              "      <td>Other-service</td>\n",
              "      <td>White</td>\n",
              "      <td>All-other</td>\n",
              "      <td>Female</td>\n",
              "      <td>Not-in-universe</td>\n",
              "      <td>Job-leaver</td>\n",
              "      <td>Unemployed-full-time</td>\n",
              "      <td>Single</td>\n",
              "      <td>Not-in-universe</td>\n",
              "      <td>Not-in-universe</td>\n",
              "      <td>Nonfamily-householder</td>\n",
              "      <td>Householder</td>\n",
              "      <td>?</td>\n",
              "      <td>?</td>\n",
              "      <td>?</td>\n",
              "      <td>Not-in-universe-under-1-year-old</td>\n",
              "      <td>?</td>\n",
              "      <td>Not-in-universe</td>\n",
              "      <td>United-States</td>\n",
              "      <td>United-States</td>\n",
              "      <td>United-States</td>\n",
              "      <td>Native--Born-in-the-United-States</td>\n",
              "      <td>0</td>\n",
              "      <td>Not-in-universe</td>\n",
              "      <td>2</td>\n",
              "      <td>95</td>\n",
              "      <td>--50000.</td>\n",
              "    </tr>\n",
              "    <tr>\n",
              "      <th>1</th>\n",
              "      <td>Not-in-universe</td>\n",
              "      <td>0</td>\n",
              "      <td>0</td>\n",
              "      <td>High-school-graduate</td>\n",
              "      <td>Not-in-universe</td>\n",
              "      <td>Married-civilian-spouse-present</td>\n",
              "      <td>Not-in-universe-or-children</td>\n",
              "      <td>Not-in-universe</td>\n",
              "      <td>White</td>\n",
              "      <td>All-other</td>\n",
              "      <td>Male</td>\n",
              "      <td>Not-in-universe</td>\n",
              "      <td>Not-in-universe</td>\n",
              "      <td>Not-in-labor-force</td>\n",
              "      <td>Joint-both-65+</td>\n",
              "      <td>Not-in-universe</td>\n",
              "      <td>Not-in-universe</td>\n",
              "      <td>Householder</td>\n",
              "      <td>Householder</td>\n",
              "      <td>?</td>\n",
              "      <td>?</td>\n",
              "      <td>?</td>\n",
              "      <td>Not-in-universe-under-1-year-old</td>\n",
              "      <td>?</td>\n",
              "      <td>Not-in-universe</td>\n",
              "      <td>United-States</td>\n",
              "      <td>United-States</td>\n",
              "      <td>United-States</td>\n",
              "      <td>Native--Born-in-the-United-States</td>\n",
              "      <td>0</td>\n",
              "      <td>Not-in-universe</td>\n",
              "      <td>2</td>\n",
              "      <td>95</td>\n",
              "      <td>--50000.</td>\n",
              "    </tr>\n",
              "    <tr>\n",
              "      <th>2</th>\n",
              "      <td>Not-in-universe</td>\n",
              "      <td>0</td>\n",
              "      <td>0</td>\n",
              "      <td>Children</td>\n",
              "      <td>Not-in-universe</td>\n",
              "      <td>Never-married</td>\n",
              "      <td>Not-in-universe-or-children</td>\n",
              "      <td>Not-in-universe</td>\n",
              "      <td>White</td>\n",
              "      <td>All-other</td>\n",
              "      <td>Female</td>\n",
              "      <td>Not-in-universe</td>\n",
              "      <td>Not-in-universe</td>\n",
              "      <td>Children-or-Armed-Forces</td>\n",
              "      <td>Nonfiler</td>\n",
              "      <td>Not-in-universe</td>\n",
              "      <td>Not-in-universe</td>\n",
              "      <td>Grandchild-&lt;18-never-marr-child-of-subfamily-RP</td>\n",
              "      <td>Other-relative-of-householder</td>\n",
              "      <td>?</td>\n",
              "      <td>?</td>\n",
              "      <td>?</td>\n",
              "      <td>Not-in-universe-under-1-year-old</td>\n",
              "      <td>?</td>\n",
              "      <td>Both-parents-present</td>\n",
              "      <td>United-States</td>\n",
              "      <td>United-States</td>\n",
              "      <td>United-States</td>\n",
              "      <td>Native--Born-in-the-United-States</td>\n",
              "      <td>0</td>\n",
              "      <td>Not-in-universe</td>\n",
              "      <td>0</td>\n",
              "      <td>95</td>\n",
              "      <td>--50000.</td>\n",
              "    </tr>\n",
              "    <tr>\n",
              "      <th>3</th>\n",
              "      <td>Not-in-universe</td>\n",
              "      <td>0</td>\n",
              "      <td>0</td>\n",
              "      <td>Children</td>\n",
              "      <td>Not-in-universe</td>\n",
              "      <td>Never-married</td>\n",
              "      <td>Not-in-universe-or-children</td>\n",
              "      <td>Not-in-universe</td>\n",
              "      <td>Asian-or-Pacific-Islander</td>\n",
              "      <td>All-other</td>\n",
              "      <td>Male</td>\n",
              "      <td>Not-in-universe</td>\n",
              "      <td>Not-in-universe</td>\n",
              "      <td>Children-or-Armed-Forces</td>\n",
              "      <td>Nonfiler</td>\n",
              "      <td>Not-in-universe</td>\n",
              "      <td>Not-in-universe</td>\n",
              "      <td>Child-&lt;18-never-marr-not-in-subfamily</td>\n",
              "      <td>Child-under-18-never-married</td>\n",
              "      <td>Nonmover</td>\n",
              "      <td>Nonmover</td>\n",
              "      <td>Nonmover</td>\n",
              "      <td>Yes</td>\n",
              "      <td>Not-in-universe</td>\n",
              "      <td>Both-parents-present</td>\n",
              "      <td>China</td>\n",
              "      <td>China</td>\n",
              "      <td>United-States</td>\n",
              "      <td>Native--Born-in-the-United-States</td>\n",
              "      <td>0</td>\n",
              "      <td>Not-in-universe</td>\n",
              "      <td>0</td>\n",
              "      <td>94</td>\n",
              "      <td>--50000.</td>\n",
              "    </tr>\n",
              "    <tr>\n",
              "      <th>4</th>\n",
              "      <td>Not-in-universe</td>\n",
              "      <td>0</td>\n",
              "      <td>0</td>\n",
              "      <td>11th-grade</td>\n",
              "      <td>Not-in-universe</td>\n",
              "      <td>Widowed</td>\n",
              "      <td>Not-in-universe-or-children</td>\n",
              "      <td>Not-in-universe</td>\n",
              "      <td>White</td>\n",
              "      <td>All-other</td>\n",
              "      <td>Female</td>\n",
              "      <td>Not-in-universe</td>\n",
              "      <td>Not-in-universe</td>\n",
              "      <td>Children-or-Armed-Forces</td>\n",
              "      <td>Nonfiler</td>\n",
              "      <td>South</td>\n",
              "      <td>District-of-Columbia</td>\n",
              "      <td>Other-Rel-18+-ever-marr-RP-of-subfamily</td>\n",
              "      <td>Other-relative-of-householder</td>\n",
              "      <td>MSA-to-MSA</td>\n",
              "      <td>Different-region</td>\n",
              "      <td>Different-state-in-South</td>\n",
              "      <td>No</td>\n",
              "      <td>No</td>\n",
              "      <td>Not-in-universe</td>\n",
              "      <td>?</td>\n",
              "      <td>?</td>\n",
              "      <td>?</td>\n",
              "      <td>Foreign-born--Not-a-citizen-of-U-S</td>\n",
              "      <td>0</td>\n",
              "      <td>Not-in-universe</td>\n",
              "      <td>2</td>\n",
              "      <td>94</td>\n",
              "      <td>--50000.</td>\n",
              "    </tr>\n",
              "  </tbody>\n",
              "</table>\n",
              "</div>"
            ],
            "text/plain": [
              "   Not-in-universe   0  0.1  ...  2  94  --50000.\n",
              "0          Private  29   32  ...  2  95  --50000.\n",
              "1  Not-in-universe   0    0  ...  2  95  --50000.\n",
              "2  Not-in-universe   0    0  ...  0  95  --50000.\n",
              "3  Not-in-universe   0    0  ...  0  94  --50000.\n",
              "4  Not-in-universe   0    0  ...  2  94  --50000.\n",
              "\n",
              "[5 rows x 34 columns]"
            ]
          },
          "metadata": {
            "tags": []
          },
          "execution_count": 7
        }
      ]
    },
    {
      "cell_type": "code",
      "metadata": {
        "colab": {
          "base_uri": "https://localhost:8080/",
          "height": 618
        },
        "id": "3KPDSZASLkfO",
        "outputId": "cab18e54-65fa-4c8a-87a8-49dea07a3d50"
      },
      "source": [
        "df.tail()"
      ],
      "execution_count": 8,
      "outputs": [
        {
          "output_type": "execute_result",
          "data": {
            "text/html": [
              "<div>\n",
              "<style scoped>\n",
              "    .dataframe tbody tr th:only-of-type {\n",
              "        vertical-align: middle;\n",
              "    }\n",
              "\n",
              "    .dataframe tbody tr th {\n",
              "        vertical-align: top;\n",
              "    }\n",
              "\n",
              "    .dataframe thead th {\n",
              "        text-align: right;\n",
              "    }\n",
              "</style>\n",
              "<table border=\"1\" class=\"dataframe\">\n",
              "  <thead>\n",
              "    <tr style=\"text-align: right;\">\n",
              "      <th></th>\n",
              "      <th>Not-in-universe</th>\n",
              "      <th>0</th>\n",
              "      <th>0.1</th>\n",
              "      <th>Bachelors-degree(BA-AB-BS)</th>\n",
              "      <th>Not-in-universe.1</th>\n",
              "      <th>Married-civilian-spouse-present</th>\n",
              "      <th>Not-in-universe-or-children</th>\n",
              "      <th>Not-in-universe.2</th>\n",
              "      <th>White</th>\n",
              "      <th>All-other</th>\n",
              "      <th>Female</th>\n",
              "      <th>Not-in-universe.3</th>\n",
              "      <th>Not-in-universe.4</th>\n",
              "      <th>Children-or-Armed-Forces</th>\n",
              "      <th>Joint-both-under-65</th>\n",
              "      <th>Not-in-universe.5</th>\n",
              "      <th>Not-in-universe.6</th>\n",
              "      <th>Spouse-of-householder</th>\n",
              "      <th>Spouse-of-householder.1</th>\n",
              "      <th>Nonmover</th>\n",
              "      <th>Nonmover.1</th>\n",
              "      <th>Nonmover.2</th>\n",
              "      <th>Yes</th>\n",
              "      <th>Not-in-universe.7</th>\n",
              "      <th>Not-in-universe.8</th>\n",
              "      <th>United-States</th>\n",
              "      <th>United-States.1</th>\n",
              "      <th>United-States.2</th>\n",
              "      <th>Native--Born-in-the-United-States</th>\n",
              "      <th>0.2</th>\n",
              "      <th>Not-in-universe.9</th>\n",
              "      <th>2</th>\n",
              "      <th>94</th>\n",
              "      <th>--50000.</th>\n",
              "    </tr>\n",
              "  </thead>\n",
              "  <tbody>\n",
              "    <tr>\n",
              "      <th>299279</th>\n",
              "      <td>Private</td>\n",
              "      <td>36</td>\n",
              "      <td>27</td>\n",
              "      <td>High-school-graduate</td>\n",
              "      <td>Not-in-universe</td>\n",
              "      <td>Divorced</td>\n",
              "      <td>Private-household-services</td>\n",
              "      <td>Private-household-services</td>\n",
              "      <td>White</td>\n",
              "      <td>All-other</td>\n",
              "      <td>Female</td>\n",
              "      <td>Not-in-universe</td>\n",
              "      <td>Not-in-universe</td>\n",
              "      <td>Full-time-schedules</td>\n",
              "      <td>Single</td>\n",
              "      <td>Not-in-universe</td>\n",
              "      <td>Not-in-universe</td>\n",
              "      <td>Householder</td>\n",
              "      <td>Householder</td>\n",
              "      <td>?</td>\n",
              "      <td>?</td>\n",
              "      <td>?</td>\n",
              "      <td>Not-in-universe-under-1-year-old</td>\n",
              "      <td>?</td>\n",
              "      <td>Not-in-universe</td>\n",
              "      <td>United-States</td>\n",
              "      <td>United-States</td>\n",
              "      <td>United-States</td>\n",
              "      <td>Native--Born-in-the-United-States</td>\n",
              "      <td>0</td>\n",
              "      <td>Not-in-universe</td>\n",
              "      <td>2</td>\n",
              "      <td>95</td>\n",
              "      <td>--50000.</td>\n",
              "    </tr>\n",
              "    <tr>\n",
              "      <th>299280</th>\n",
              "      <td>Private</td>\n",
              "      <td>35</td>\n",
              "      <td>17</td>\n",
              "      <td>Some-college-but-no-degree</td>\n",
              "      <td>Not-in-universe</td>\n",
              "      <td>Divorced</td>\n",
              "      <td>Finance-insurance-and-real-estate</td>\n",
              "      <td>Sales</td>\n",
              "      <td>White</td>\n",
              "      <td>All-other</td>\n",
              "      <td>Female</td>\n",
              "      <td>Not-in-universe</td>\n",
              "      <td>Job-loser---on-layoff</td>\n",
              "      <td>Unemployed-full-time</td>\n",
              "      <td>Head-of-household</td>\n",
              "      <td>Not-in-universe</td>\n",
              "      <td>Not-in-universe</td>\n",
              "      <td>Householder</td>\n",
              "      <td>Householder</td>\n",
              "      <td>?</td>\n",
              "      <td>?</td>\n",
              "      <td>?</td>\n",
              "      <td>Not-in-universe-under-1-year-old</td>\n",
              "      <td>?</td>\n",
              "      <td>Not-in-universe</td>\n",
              "      <td>United-States</td>\n",
              "      <td>United-States</td>\n",
              "      <td>United-States</td>\n",
              "      <td>Native--Born-in-the-United-States</td>\n",
              "      <td>0</td>\n",
              "      <td>Not-in-universe</td>\n",
              "      <td>2</td>\n",
              "      <td>95</td>\n",
              "      <td>--50000.</td>\n",
              "    </tr>\n",
              "    <tr>\n",
              "      <th>299281</th>\n",
              "      <td>Not-in-universe</td>\n",
              "      <td>0</td>\n",
              "      <td>0</td>\n",
              "      <td>Children</td>\n",
              "      <td>Not-in-universe</td>\n",
              "      <td>Never-married</td>\n",
              "      <td>Not-in-universe-or-children</td>\n",
              "      <td>Not-in-universe</td>\n",
              "      <td>White</td>\n",
              "      <td>All-other</td>\n",
              "      <td>Male</td>\n",
              "      <td>Not-in-universe</td>\n",
              "      <td>Not-in-universe</td>\n",
              "      <td>Children-or-Armed-Forces</td>\n",
              "      <td>Nonfiler</td>\n",
              "      <td>Not-in-universe</td>\n",
              "      <td>Not-in-universe</td>\n",
              "      <td>Child-&lt;18-never-marr-not-in-subfamily</td>\n",
              "      <td>Child-under-18-never-married</td>\n",
              "      <td>Nonmover</td>\n",
              "      <td>Nonmover</td>\n",
              "      <td>Nonmover</td>\n",
              "      <td>Yes</td>\n",
              "      <td>Not-in-universe</td>\n",
              "      <td>Both-parents-present</td>\n",
              "      <td>United-States</td>\n",
              "      <td>United-States</td>\n",
              "      <td>United-States</td>\n",
              "      <td>Native--Born-in-the-United-States</td>\n",
              "      <td>0</td>\n",
              "      <td>Not-in-universe</td>\n",
              "      <td>0</td>\n",
              "      <td>94</td>\n",
              "      <td>--50000.</td>\n",
              "    </tr>\n",
              "    <tr>\n",
              "      <th>299282</th>\n",
              "      <td>Not-in-universe</td>\n",
              "      <td>0</td>\n",
              "      <td>0</td>\n",
              "      <td>Children</td>\n",
              "      <td>Not-in-universe</td>\n",
              "      <td>Never-married</td>\n",
              "      <td>Not-in-universe-or-children</td>\n",
              "      <td>Not-in-universe</td>\n",
              "      <td>Asian-or-Pacific-Islander</td>\n",
              "      <td>All-other</td>\n",
              "      <td>Female</td>\n",
              "      <td>Not-in-universe</td>\n",
              "      <td>Not-in-universe</td>\n",
              "      <td>Children-or-Armed-Forces</td>\n",
              "      <td>Nonfiler</td>\n",
              "      <td>Not-in-universe</td>\n",
              "      <td>Not-in-universe</td>\n",
              "      <td>Child-&lt;18-never-marr-not-in-subfamily</td>\n",
              "      <td>Child-under-18-never-married</td>\n",
              "      <td>?</td>\n",
              "      <td>?</td>\n",
              "      <td>?</td>\n",
              "      <td>Not-in-universe-under-1-year-old</td>\n",
              "      <td>?</td>\n",
              "      <td>Both-parents-present</td>\n",
              "      <td>Hong-Kong</td>\n",
              "      <td>Hong-Kong</td>\n",
              "      <td>United-States</td>\n",
              "      <td>Native--Born-in-the-United-States</td>\n",
              "      <td>0</td>\n",
              "      <td>Not-in-universe</td>\n",
              "      <td>0</td>\n",
              "      <td>95</td>\n",
              "      <td>--50000.</td>\n",
              "    </tr>\n",
              "    <tr>\n",
              "      <th>299283</th>\n",
              "      <td>Not-in-universe</td>\n",
              "      <td>0</td>\n",
              "      <td>0</td>\n",
              "      <td>Children</td>\n",
              "      <td>Not-in-universe</td>\n",
              "      <td>Never-married</td>\n",
              "      <td>Not-in-universe-or-children</td>\n",
              "      <td>Not-in-universe</td>\n",
              "      <td>White</td>\n",
              "      <td>All-other</td>\n",
              "      <td>Female</td>\n",
              "      <td>Not-in-universe</td>\n",
              "      <td>Not-in-universe</td>\n",
              "      <td>Children-or-Armed-Forces</td>\n",
              "      <td>Nonfiler</td>\n",
              "      <td>Not-in-universe</td>\n",
              "      <td>Not-in-universe</td>\n",
              "      <td>Child-&lt;18-never-marr-not-in-subfamily</td>\n",
              "      <td>Child-under-18-never-married</td>\n",
              "      <td>?</td>\n",
              "      <td>?</td>\n",
              "      <td>?</td>\n",
              "      <td>Not-in-universe-under-1-year-old</td>\n",
              "      <td>?</td>\n",
              "      <td>Both-parents-present</td>\n",
              "      <td>United-States</td>\n",
              "      <td>United-States</td>\n",
              "      <td>United-States</td>\n",
              "      <td>Native--Born-in-the-United-States</td>\n",
              "      <td>0</td>\n",
              "      <td>Not-in-universe</td>\n",
              "      <td>0</td>\n",
              "      <td>95</td>\n",
              "      <td>--50000.</td>\n",
              "    </tr>\n",
              "  </tbody>\n",
              "</table>\n",
              "</div>"
            ],
            "text/plain": [
              "        Not-in-universe   0  0.1  ...  2  94  --50000.\n",
              "299279          Private  36   27  ...  2  95  --50000.\n",
              "299280          Private  35   17  ...  2  95  --50000.\n",
              "299281  Not-in-universe   0    0  ...  0  94  --50000.\n",
              "299282  Not-in-universe   0    0  ...  0  95  --50000.\n",
              "299283  Not-in-universe   0    0  ...  0  95  --50000.\n",
              "\n",
              "[5 rows x 34 columns]"
            ]
          },
          "metadata": {
            "tags": []
          },
          "execution_count": 8
        }
      ]
    },
    {
      "cell_type": "code",
      "metadata": {
        "colab": {
          "base_uri": "https://localhost:8080/"
        },
        "id": "PK5EgJs-Lk4z",
        "outputId": "373ffbba-e99d-452b-aa73-64c4f7f37702"
      },
      "source": [
        "df.shape"
      ],
      "execution_count": 9,
      "outputs": [
        {
          "output_type": "execute_result",
          "data": {
            "text/plain": [
              "(299284, 34)"
            ]
          },
          "metadata": {
            "tags": []
          },
          "execution_count": 9
        }
      ]
    },
    {
      "cell_type": "code",
      "metadata": {
        "colab": {
          "base_uri": "https://localhost:8080/"
        },
        "id": "jwtC66cqMHUj",
        "outputId": "ba545371-e32e-4f5a-de55-25945359a18f"
      },
      "source": [
        "df.columns"
      ],
      "execution_count": 10,
      "outputs": [
        {
          "output_type": "execute_result",
          "data": {
            "text/plain": [
              "Index(['Not-in-universe', '0', '0.1', 'Bachelors-degree(BA-AB-BS)',\n",
              "       'Not-in-universe.1', 'Married-civilian-spouse-present',\n",
              "       'Not-in-universe-or-children', 'Not-in-universe.2', 'White',\n",
              "       'All-other', 'Female', 'Not-in-universe.3', 'Not-in-universe.4',\n",
              "       'Children-or-Armed-Forces', 'Joint-both-under-65', 'Not-in-universe.5',\n",
              "       'Not-in-universe.6', 'Spouse-of-householder', 'Spouse-of-householder.1',\n",
              "       'Nonmover', 'Nonmover.1', 'Nonmover.2', 'Yes', 'Not-in-universe.7',\n",
              "       'Not-in-universe.8', 'United-States', 'United-States.1',\n",
              "       'United-States.2', 'Native--Born-in-the-United-States', '0.2',\n",
              "       'Not-in-universe.9', '2', '94', '--50000.'],\n",
              "      dtype='object')"
            ]
          },
          "metadata": {
            "tags": []
          },
          "execution_count": 10
        }
      ]
    },
    {
      "cell_type": "code",
      "metadata": {
        "colab": {
          "base_uri": "https://localhost:8080/",
          "height": 906
        },
        "id": "GcNN6T-eLsGB",
        "outputId": "97389ebe-dda5-4620-8108-2b54e602a565"
      },
      "source": [
        "df.describe(include=['object']).T"
      ],
      "execution_count": 11,
      "outputs": [
        {
          "output_type": "execute_result",
          "data": {
            "text/html": [
              "<div>\n",
              "<style scoped>\n",
              "    .dataframe tbody tr th:only-of-type {\n",
              "        vertical-align: middle;\n",
              "    }\n",
              "\n",
              "    .dataframe tbody tr th {\n",
              "        vertical-align: top;\n",
              "    }\n",
              "\n",
              "    .dataframe thead th {\n",
              "        text-align: right;\n",
              "    }\n",
              "</style>\n",
              "<table border=\"1\" class=\"dataframe\">\n",
              "  <thead>\n",
              "    <tr style=\"text-align: right;\">\n",
              "      <th></th>\n",
              "      <th>count</th>\n",
              "      <th>unique</th>\n",
              "      <th>top</th>\n",
              "      <th>freq</th>\n",
              "    </tr>\n",
              "  </thead>\n",
              "  <tbody>\n",
              "    <tr>\n",
              "      <th>Not-in-universe</th>\n",
              "      <td>299284</td>\n",
              "      <td>9</td>\n",
              "      <td>Not-in-universe</td>\n",
              "      <td>150322</td>\n",
              "    </tr>\n",
              "    <tr>\n",
              "      <th>Bachelors-degree(BA-AB-BS)</th>\n",
              "      <td>299284</td>\n",
              "      <td>17</td>\n",
              "      <td>High-school-graduate</td>\n",
              "      <td>72553</td>\n",
              "    </tr>\n",
              "    <tr>\n",
              "      <th>Not-in-universe.1</th>\n",
              "      <td>299284</td>\n",
              "      <td>3</td>\n",
              "      <td>Not-in-universe</td>\n",
              "      <td>280366</td>\n",
              "    </tr>\n",
              "    <tr>\n",
              "      <th>Married-civilian-spouse-present</th>\n",
              "      <td>299284</td>\n",
              "      <td>7</td>\n",
              "      <td>Never-married</td>\n",
              "      <td>129628</td>\n",
              "    </tr>\n",
              "    <tr>\n",
              "      <th>Not-in-universe-or-children</th>\n",
              "      <td>299284</td>\n",
              "      <td>24</td>\n",
              "      <td>Not-in-universe-or-children</td>\n",
              "      <td>150965</td>\n",
              "    </tr>\n",
              "    <tr>\n",
              "      <th>Not-in-universe.2</th>\n",
              "      <td>299284</td>\n",
              "      <td>15</td>\n",
              "      <td>Not-in-universe</td>\n",
              "      <td>150965</td>\n",
              "    </tr>\n",
              "    <tr>\n",
              "      <th>White</th>\n",
              "      <td>299284</td>\n",
              "      <td>5</td>\n",
              "      <td>White</td>\n",
              "      <td>250977</td>\n",
              "    </tr>\n",
              "    <tr>\n",
              "      <th>All-other</th>\n",
              "      <td>298005</td>\n",
              "      <td>9</td>\n",
              "      <td>All-other</td>\n",
              "      <td>257829</td>\n",
              "    </tr>\n",
              "    <tr>\n",
              "      <th>Female</th>\n",
              "      <td>299284</td>\n",
              "      <td>2</td>\n",
              "      <td>Female</td>\n",
              "      <td>155773</td>\n",
              "    </tr>\n",
              "    <tr>\n",
              "      <th>Not-in-universe.3</th>\n",
              "      <td>299284</td>\n",
              "      <td>3</td>\n",
              "      <td>Not-in-universe</td>\n",
              "      <td>270741</td>\n",
              "    </tr>\n",
              "    <tr>\n",
              "      <th>Not-in-universe.4</th>\n",
              "      <td>299284</td>\n",
              "      <td>6</td>\n",
              "      <td>Not-in-universe</td>\n",
              "      <td>290084</td>\n",
              "    </tr>\n",
              "    <tr>\n",
              "      <th>Children-or-Armed-Forces</th>\n",
              "      <td>299284</td>\n",
              "      <td>8</td>\n",
              "      <td>Children-or-Armed-Forces</td>\n",
              "      <td>185459</td>\n",
              "    </tr>\n",
              "    <tr>\n",
              "      <th>Joint-both-under-65</th>\n",
              "      <td>299284</td>\n",
              "      <td>6</td>\n",
              "      <td>Nonfiler</td>\n",
              "      <td>112461</td>\n",
              "    </tr>\n",
              "    <tr>\n",
              "      <th>Not-in-universe.5</th>\n",
              "      <td>299284</td>\n",
              "      <td>6</td>\n",
              "      <td>Not-in-universe</td>\n",
              "      <td>275816</td>\n",
              "    </tr>\n",
              "    <tr>\n",
              "      <th>Not-in-universe.6</th>\n",
              "      <td>299284</td>\n",
              "      <td>51</td>\n",
              "      <td>Not-in-universe</td>\n",
              "      <td>275816</td>\n",
              "    </tr>\n",
              "    <tr>\n",
              "      <th>Spouse-of-householder</th>\n",
              "      <td>299284</td>\n",
              "      <td>38</td>\n",
              "      <td>Householder</td>\n",
              "      <td>79940</td>\n",
              "    </tr>\n",
              "    <tr>\n",
              "      <th>Spouse-of-householder.1</th>\n",
              "      <td>299284</td>\n",
              "      <td>8</td>\n",
              "      <td>Householder</td>\n",
              "      <td>113419</td>\n",
              "    </tr>\n",
              "    <tr>\n",
              "      <th>Nonmover</th>\n",
              "      <td>299284</td>\n",
              "      <td>10</td>\n",
              "      <td>?</td>\n",
              "      <td>149641</td>\n",
              "    </tr>\n",
              "    <tr>\n",
              "      <th>Nonmover.1</th>\n",
              "      <td>299284</td>\n",
              "      <td>9</td>\n",
              "      <td>?</td>\n",
              "      <td>149641</td>\n",
              "    </tr>\n",
              "    <tr>\n",
              "      <th>Nonmover.2</th>\n",
              "      <td>299284</td>\n",
              "      <td>10</td>\n",
              "      <td>?</td>\n",
              "      <td>149641</td>\n",
              "    </tr>\n",
              "    <tr>\n",
              "      <th>Yes</th>\n",
              "      <td>299284</td>\n",
              "      <td>3</td>\n",
              "      <td>Not-in-universe-under-1-year-old</td>\n",
              "      <td>151880</td>\n",
              "    </tr>\n",
              "    <tr>\n",
              "      <th>Not-in-universe.7</th>\n",
              "      <td>299284</td>\n",
              "      <td>4</td>\n",
              "      <td>?</td>\n",
              "      <td>149641</td>\n",
              "    </tr>\n",
              "    <tr>\n",
              "      <th>Not-in-universe.8</th>\n",
              "      <td>299284</td>\n",
              "      <td>5</td>\n",
              "      <td>Not-in-universe</td>\n",
              "      <td>216625</td>\n",
              "    </tr>\n",
              "    <tr>\n",
              "      <th>United-States</th>\n",
              "      <td>299284</td>\n",
              "      <td>43</td>\n",
              "      <td>United-States</td>\n",
              "      <td>238530</td>\n",
              "    </tr>\n",
              "    <tr>\n",
              "      <th>United-States.1</th>\n",
              "      <td>299284</td>\n",
              "      <td>43</td>\n",
              "      <td>United-States</td>\n",
              "      <td>240491</td>\n",
              "    </tr>\n",
              "    <tr>\n",
              "      <th>United-States.2</th>\n",
              "      <td>299284</td>\n",
              "      <td>43</td>\n",
              "      <td>United-States</td>\n",
              "      <td>265341</td>\n",
              "    </tr>\n",
              "    <tr>\n",
              "      <th>Native--Born-in-the-United-States</th>\n",
              "      <td>299284</td>\n",
              "      <td>5</td>\n",
              "      <td>Native--Born-in-the-United-States</td>\n",
              "      <td>265346</td>\n",
              "    </tr>\n",
              "    <tr>\n",
              "      <th>Not-in-universe.9</th>\n",
              "      <td>299284</td>\n",
              "      <td>3</td>\n",
              "      <td>Not-in-universe</td>\n",
              "      <td>296273</td>\n",
              "    </tr>\n",
              "    <tr>\n",
              "      <th>--50000.</th>\n",
              "      <td>299284</td>\n",
              "      <td>2</td>\n",
              "      <td>--50000.</td>\n",
              "      <td>280716</td>\n",
              "    </tr>\n",
              "  </tbody>\n",
              "</table>\n",
              "</div>"
            ],
            "text/plain": [
              "                                    count  ...    freq\n",
              "Not-in-universe                    299284  ...  150322\n",
              "Bachelors-degree(BA-AB-BS)         299284  ...   72553\n",
              "Not-in-universe.1                  299284  ...  280366\n",
              "Married-civilian-spouse-present    299284  ...  129628\n",
              "Not-in-universe-or-children        299284  ...  150965\n",
              "Not-in-universe.2                  299284  ...  150965\n",
              "White                              299284  ...  250977\n",
              "All-other                          298005  ...  257829\n",
              "Female                             299284  ...  155773\n",
              "Not-in-universe.3                  299284  ...  270741\n",
              "Not-in-universe.4                  299284  ...  290084\n",
              "Children-or-Armed-Forces           299284  ...  185459\n",
              "Joint-both-under-65                299284  ...  112461\n",
              "Not-in-universe.5                  299284  ...  275816\n",
              "Not-in-universe.6                  299284  ...  275816\n",
              "Spouse-of-householder              299284  ...   79940\n",
              "Spouse-of-householder.1            299284  ...  113419\n",
              "Nonmover                           299284  ...  149641\n",
              "Nonmover.1                         299284  ...  149641\n",
              "Nonmover.2                         299284  ...  149641\n",
              "Yes                                299284  ...  151880\n",
              "Not-in-universe.7                  299284  ...  149641\n",
              "Not-in-universe.8                  299284  ...  216625\n",
              "United-States                      299284  ...  238530\n",
              "United-States.1                    299284  ...  240491\n",
              "United-States.2                    299284  ...  265341\n",
              "Native--Born-in-the-United-States  299284  ...  265346\n",
              "Not-in-universe.9                  299284  ...  296273\n",
              "--50000.                           299284  ...  280716\n",
              "\n",
              "[29 rows x 4 columns]"
            ]
          },
          "metadata": {
            "tags": []
          },
          "execution_count": 11
        }
      ]
    },
    {
      "cell_type": "code",
      "metadata": {
        "colab": {
          "base_uri": "https://localhost:8080/"
        },
        "id": "GUB1B0JSMuwr",
        "outputId": "48157b6a-fdef-433e-d79c-4feefb972035"
      },
      "source": [
        "#let s see how many NaNs\r\n",
        "df.isnull().sum()"
      ],
      "execution_count": 12,
      "outputs": [
        {
          "output_type": "execute_result",
          "data": {
            "text/plain": [
              "Not-in-universe                         0\n",
              "0                                       0\n",
              "0.1                                     0\n",
              "Bachelors-degree(BA-AB-BS)              0\n",
              "Not-in-universe.1                       0\n",
              "Married-civilian-spouse-present         0\n",
              "Not-in-universe-or-children             0\n",
              "Not-in-universe.2                       0\n",
              "White                                   0\n",
              "All-other                            1279\n",
              "Female                                  0\n",
              "Not-in-universe.3                       0\n",
              "Not-in-universe.4                       0\n",
              "Children-or-Armed-Forces                0\n",
              "Joint-both-under-65                     0\n",
              "Not-in-universe.5                       0\n",
              "Not-in-universe.6                       0\n",
              "Spouse-of-householder                   0\n",
              "Spouse-of-householder.1                 0\n",
              "Nonmover                                0\n",
              "Nonmover.1                              0\n",
              "Nonmover.2                              0\n",
              "Yes                                     0\n",
              "Not-in-universe.7                       0\n",
              "Not-in-universe.8                       0\n",
              "United-States                           0\n",
              "United-States.1                         0\n",
              "United-States.2                         0\n",
              "Native--Born-in-the-United-States       0\n",
              "0.2                                     0\n",
              "Not-in-universe.9                       0\n",
              "2                                       0\n",
              "94                                      0\n",
              "--50000.                                0\n",
              "dtype: int64"
            ]
          },
          "metadata": {
            "tags": []
          },
          "execution_count": 12
        }
      ]
    },
    {
      "cell_type": "markdown",
      "metadata": {
        "id": "TyKoROTsNRpl"
      },
      "source": [
        "Anoimaly #1- 1279 NaNs"
      ]
    },
    {
      "cell_type": "code",
      "metadata": {
        "id": "rEN5Q4H9Lxkv"
      },
      "source": [
        "df['All-other'].fillna(value='NaNvalue',inplace=True) "
      ],
      "execution_count": 13,
      "outputs": []
    },
    {
      "cell_type": "code",
      "metadata": {
        "colab": {
          "base_uri": "https://localhost:8080/"
        },
        "id": "pAxHLdjUNu6L",
        "outputId": "538e6e82-f29a-4d71-8fb0-eaf2b8faa88f"
      },
      "source": [
        "#let s see how many NaNs\r\n",
        "df.isnull().sum()"
      ],
      "execution_count": null,
      "outputs": [
        {
          "output_type": "execute_result",
          "data": {
            "text/plain": [
              "Not-in-universe                      0\n",
              "0                                    0\n",
              "0.1                                  0\n",
              "Bachelors-degree(BA-AB-BS)           0\n",
              "Not-in-universe.1                    0\n",
              "Married-civilian-spouse-present      0\n",
              "Not-in-universe-or-children          0\n",
              "Not-in-universe.2                    0\n",
              "White                                0\n",
              "All-other                            0\n",
              "Female                               0\n",
              "Not-in-universe.3                    0\n",
              "Not-in-universe.4                    0\n",
              "Children-or-Armed-Forces             0\n",
              "Joint-both-under-65                  0\n",
              "Not-in-universe.5                    0\n",
              "Not-in-universe.6                    0\n",
              "Spouse-of-householder                0\n",
              "Spouse-of-householder.1              0\n",
              "Nonmover                             0\n",
              "Nonmover.1                           0\n",
              "Nonmover.2                           0\n",
              "Yes                                  0\n",
              "Not-in-universe.7                    0\n",
              "Not-in-universe.8                    0\n",
              "United-States                        0\n",
              "United-States.1                      0\n",
              "United-States.2                      0\n",
              "Native--Born-in-the-United-States    0\n",
              "0.2                                  0\n",
              "Not-in-universe.9                    0\n",
              "2                                    0\n",
              "94                                   0\n",
              "--50000.                             0\n",
              "dtype: int64"
            ]
          },
          "metadata": {
            "tags": []
          },
          "execution_count": 45
        }
      ]
    },
    {
      "cell_type": "code",
      "metadata": {
        "id": "mYDKUgrGLlKy"
      },
      "source": [
        "def concat_features(x1,x2,x3,x4,x5,x6,x7,x8,x9,x10,x11,x12,x13,x14,x15,x16,x17,x18,x19,x20,x21,x22,x23,x24,x25,x26,x27,x28,x29,x30,x31,x32,x33):\r\n",
        "  \"\"\"\r\n",
        "  Let s concat features\r\n",
        "  \"\"\"\r\n",
        "  buff=(str(x1)+' '+str(x2)+' '+str(x3)+' '+' '+str(x4)+' '+str(x5)+' '+str(x6)+' '+str(x7)+' '+str(x8)+' '+str(x9)+' '+\r\n",
        "        str(x10)+' '+str(x11)+' '+str(x12)+' '+str(x13)+' '+str(x14)+' '+str(x15)+' '+str(x16)+' '+str(x17)+' '+\r\n",
        "        str(x18)+' '+str(x19)+' '+str(x20)+' '+str(x21)+' '+str(x22)+' '+str(x23)+' '+str(x24)+' '+str(x25)+' '+\r\n",
        "        str(x26)+' '+str(x27)+' '+str(x28)+' '+str(x29)+' '+str(x30)+' '+str(x31)+' '+str(x32)+' '+str(x33))\r\n",
        "  return buff"
      ],
      "execution_count": 14,
      "outputs": []
    },
    {
      "cell_type": "code",
      "metadata": {
        "colab": {
          "base_uri": "https://localhost:8080/",
          "height": 35
        },
        "id": "_DqYtdmRLlaH",
        "outputId": "47d9c37d-f280-4973-9889-c06be075b1b3"
      },
      "source": [
        "concat_features('a','b','c','D','e','f,','r','y','f','h','ee',\r\n",
        "                'w','e','d','r','t','w','x','i','u','o','l',\r\n",
        "                'a','d','s','x','z','x','v','b','b','m','p')"
      ],
      "execution_count": 15,
      "outputs": [
        {
          "output_type": "execute_result",
          "data": {
            "application/vnd.google.colaboratory.intrinsic+json": {
              "type": "string"
            },
            "text/plain": [
              "'a b c  D e f, r y f h ee w e d r t w x i u o l a d s x z x v b b m p'"
            ]
          },
          "metadata": {
            "tags": []
          },
          "execution_count": 15
        }
      ]
    },
    {
      "cell_type": "code",
      "metadata": {
        "id": "oq8DrCgVRUjO"
      },
      "source": [
        "TOKEN_RE = re.compile(r'[\\w\\d]+')  #regular expression to divide data"
      ],
      "execution_count": 16,
      "outputs": []
    },
    {
      "cell_type": "code",
      "metadata": {
        "id": "lkTULy5QRmeX"
      },
      "source": [
        "def tokenize_text_simple_regex(txt, min_token_size=2):\r\n",
        "    \"\"\" This func tokenize text with TOKEN_RE applied ealier \"\"\"\r\n",
        "    txt = txt.lower()\r\n",
        "    all_tokens = TOKEN_RE.findall(txt)\r\n",
        "    all_tokens = [token for token in all_tokens if len(token) >= min_token_size]\r\n",
        "    s=' '.join(all_tokens)\r\n",
        "    return s"
      ],
      "execution_count": 17,
      "outputs": []
    },
    {
      "cell_type": "code",
      "metadata": {
        "id": "dR0sNgTGRGY5"
      },
      "source": [
        "X_list=[]  #list for concat results\r\n",
        "#loop on dataframe\r\n",
        "#we do not use column #34. it seems target\r\n",
        "for t in df.itertuples():\r\n",
        "  buff=concat_features(t[1],t[2],t[3],t[4],t[5],t[6],t[7],t[8],t[9],t[10],t[11],t[12],t[13],t[14],t[15],t[16],t[17],\r\n",
        "                       t[18],t[19],t[20],t[21],t[22],t[23],t[24],t[25],t[26],t[27],t[28],t[29],t[30],t[31],t[32],t[33])\r\n",
        "  buff=tokenize_text_simple_regex(buff, min_token_size=4)\r\n",
        "  X_list.append(buff)"
      ],
      "execution_count": 18,
      "outputs": []
    },
    {
      "cell_type": "code",
      "metadata": {
        "colab": {
          "base_uri": "https://localhost:8080/",
          "height": 69
        },
        "id": "TOGkqMGcScn3",
        "outputId": "e81c9347-81fb-418f-ae7b-bd300a0fe878"
      },
      "source": [
        "X_list[0]"
      ],
      "execution_count": 19,
      "outputs": [
        {
          "output_type": "execute_result",
          "data": {
            "application/vnd.google.colaboratory.intrinsic+json": {
              "type": "string"
            },
            "text/plain": [
              "'private bachelors degree universe never married transportation other service white other female universe leaver unemployed full time single universe universe nonfamily householder householder universe under year universe united states united states united states native born united states universe'"
            ]
          },
          "metadata": {
            "tags": []
          },
          "execution_count": 19
        }
      ]
    },
    {
      "cell_type": "code",
      "metadata": {
        "id": "YHpt-NiELlqC"
      },
      "source": [
        "tokenized_texts = []\r\n",
        "for text in X_list:\r\n",
        "    #text = [w for w in text.split() if w not in sw]  #del stop words\r\n",
        "    text = [w for w in text.split()]\r\n",
        "    tokenized_texts.append(text)"
      ],
      "execution_count": 20,
      "outputs": []
    },
    {
      "cell_type": "code",
      "metadata": {
        "colab": {
          "base_uri": "https://localhost:8080/"
        },
        "id": "-NHV4x-4Ll8G",
        "outputId": "72e036fb-2b04-42e8-95c1-8059470063f1"
      },
      "source": [
        "print('Making dictionary...')\r\n",
        "dictionary = corpora.Dictionary(tokenized_texts)\r\n",
        "print('Original: {}'.format(dictionary))\r\n",
        "dictionary.filter_extremes(no_below = 2, no_above = 0.95, keep_n=None)\r\n",
        "print('Filtered: {}'.format(dictionary))\r\n",
        "\r\n",
        "print('Vectorizing corpus...')\r\n",
        "corpus = [dictionary.doc2bow(text) for text in tokenized_texts]"
      ],
      "execution_count": 21,
      "outputs": [
        {
          "output_type": "stream",
          "text": [
            "Making dictionary...\n",
            "Original: Dictionary(285 unique tokens: ['bachelors', 'born', 'degree', 'female', 'full']...)\n",
            "Filtered: Dictionary(283 unique tokens: ['bachelors', 'degree', 'female', 'full', 'householder']...)\n",
            "Vectorizing corpus...\n"
          ],
          "name": "stdout"
        }
      ]
    },
    {
      "cell_type": "code",
      "metadata": {
        "id": "60XkNO3jVvfP"
      },
      "source": [
        ""
      ],
      "execution_count": null,
      "outputs": []
    },
    {
      "cell_type": "markdown",
      "metadata": {
        "id": "DJXaptgAGkTA"
      },
      "source": [
        "##Latent Dirichet Allocation(LDA)\r\n",
        "\r\n",
        "\r\n",
        "This model is also implemented in the gensim library. One of its advantages is that you can train the finished model (and unlike LSA and pLSA, where even when adding one new document you have to train the model from scratch).\r\n",
        "\r\n",
        "We assume that in the entire collection of k topics.\r\n",
        "We distribute these k topics according to documents m (this is the distribution α), assigning a topic to each document.\r\n",
        "For each word w in the document, we assume that its theme is incorrect, while the themes of all other words are correct.\r\n",
        "\r\n",
        "Based on probability, we assign a theme to the word w, based on:\r\n",
        "which topics in document m\r\n",
        "how many times the word w was assigned to specific topics in the entire collection (this is the distribution β)\r\n",
        "We repeat many, many times\r\n",
        "α is a matrix (stochastic) where each row = document, column = theme.\r\n",
        "\r\n",
        "β is a matrix (stochastic) where each row = theme, column = word."
      ]
    },
    {
      "cell_type": "markdown",
      "metadata": {
        "id": "8oTliMQfW-Bd"
      },
      "source": [
        "## Latent Dirichet Allocatoin\r\n",
        "\r\n",
        "Данная модель также реализована в библиотеке `gensim`. Один из ее плюсов в том, что можно дообучать готовую модель (а отличие от LSA и pLSA, где даже при добавлении одного нового документа приходится обучать модель с нуля).\r\n",
        "\r\n",
        "- Предполагаем, что во всей коллекции k тем.\r\n",
        "- Распределяем эти k тем по документам m (это распределение α), присваивая каждому документу тему.\r\n",
        "- Для каждого слова w  в документе mпредполагаем, что его тема неверна, при этом темы всех остальных слов верны.\r\n",
        "- Основываясь на вероятности присваиваем слову w тему, опираясь на:\r\n",
        "    1. какие темы в документе  m\r\n",
        "    2. сколько раз слово w присваивалось конкретным темам во всей коллекции (это распределение β)\r\n",
        "- Повторяем много-много раз\r\n",
        "\r\n",
        "α - это матрица (стохастическая), где каждая строка = документ, столбец = тема. \r\n",
        "\r\n",
        "β - это матрица (стохастическая), где каждая строка = тема, столбец = слово."
      ]
    },
    {
      "cell_type": "code",
      "metadata": {
        "colab": {
          "base_uri": "https://localhost:8080/"
        },
        "id": "jERWENQ6XAF_",
        "outputId": "10ffab6f-5e33-49d5-8d42-8f9a316c4783"
      },
      "source": [
        "%%time\r\n",
        "lda = ldamodel.LdaModel(corpus, id2word=dictionary, num_topics=25, chunksize=50, update_every=1, passes=2)"
      ],
      "execution_count": 24,
      "outputs": [
        {
          "output_type": "stream",
          "text": [
            "CPU times: user 3min 59s, sys: 242 ms, total: 4min\n",
            "Wall time: 4min\n"
          ],
          "name": "stdout"
        }
      ]
    },
    {
      "cell_type": "code",
      "metadata": {
        "colab": {
          "base_uri": "https://localhost:8080/"
        },
        "id": "hMPLnEy8VwJD",
        "outputId": "84755b4a-2fa3-4371-c4db-bac2b79c8e48"
      },
      "source": [
        "lda.show_topics(num_topics=3, num_words=15, formatted=False)"
      ],
      "execution_count": 25,
      "outputs": [
        {
          "output_type": "execute_result",
          "data": {
            "text/plain": [
              "[(3,\n",
              "  [('repair', 0.21305153),\n",
              "   ('precision', 0.1412185),\n",
              "   ('production', 0.1412185),\n",
              "   ('craft', 0.1412185),\n",
              "   ('construction', 0.07788097),\n",
              "   ('male', 0.06742022),\n",
              "   ('private', 0.06360922),\n",
              "   ('indian', 0.025378028),\n",
              "   ('aleut', 0.025378028),\n",
              "   ('amer', 0.025378028),\n",
              "   ('eskimo', 0.025378028),\n",
              "   ('married', 0.017473033),\n",
              "   ('householder', 0.015768496),\n",
              "   ('grade', 0.011482829),\n",
              "   ('mining', 0.008056941)]),\n",
              " (16,\n",
              "  [('handlers', 0.18143915),\n",
              "   ('cleaners', 0.18143915),\n",
              "   ('equip', 0.18143915),\n",
              "   ('trade', 0.17443115),\n",
              "   ('wholesale', 0.13492459),\n",
              "   ('canada', 0.12878646),\n",
              "   ('scotland', 0.017241675),\n",
              "   ('carolina', 1.0822305e-06),\n",
              "   ('west', 1.0822305e-06),\n",
              "   ('virginia', 1.0822305e-06),\n",
              "   ('poland', 1.0822305e-06),\n",
              "   ('12th', 1.0822305e-06),\n",
              "   ('diploma', 1.0822305e-06),\n",
              "   ('guatemala', 1.0822305e-06),\n",
              "   ('entrant', 1.0822305e-06)]),\n",
              " (10,\n",
              "  [('some', 0.11096987),\n",
              "   ('college', 0.10412853),\n",
              "   ('degree', 0.10373141),\n",
              "   ('householder', 0.0745544),\n",
              "   ('support', 0.0709449),\n",
              "   ('single', 0.070646666),\n",
              "   ('clerical', 0.05894853),\n",
              "   ('including', 0.05894853),\n",
              "   ('female', 0.056605604),\n",
              "   ('private', 0.054909173),\n",
              "   ('nonfamily', 0.05302041),\n",
              "   ('married', 0.048080552),\n",
              "   ('never', 0.0427195),\n",
              "   ('divorced', 0.028838983),\n",
              "   ('bachelors', 0.01844867)])]"
            ]
          },
          "metadata": {
            "tags": []
          },
          "execution_count": 25
        }
      ]
    },
    {
      "cell_type": "code",
      "metadata": {
        "colab": {
          "base_uri": "https://localhost:8080/",
          "height": 881
        },
        "id": "NH1Bk1H6YgEX",
        "outputId": "36dedf34-bb48-41d4-f97f-6cecc8e18806"
      },
      "source": [
        "vis_data = gensimvis.prepare(lda, corpus, dictionary)\r\n",
        "pyLDAvis.display(vis_data)"
      ],
      "execution_count": 26,
      "outputs": [
        {
          "output_type": "execute_result",
          "data": {
            "text/html": [
              "\n",
              "<link rel=\"stylesheet\" type=\"text/css\" href=\"https://cdn.jsdelivr.net/gh/bmabey/pyLDAvis@3.2.2/pyLDAvis/js/ldavis.v1.0.0.css\">\n",
              "\n",
              "\n",
              "<div id=\"ldavis_el581405138513727527535865200\"></div>\n",
              "<script type=\"text/javascript\">\n",
              "\n",
              "var ldavis_el581405138513727527535865200_data = {\"mdsDat\": {\"x\": [0.3382615284630158, 0.31062608545149467, 0.30130864271674573, 0.14633131298730898, 0.3391786227721647, 0.07597129493891859, -0.004906735652399575, -0.13221906038433534, 0.11038919289326302, 0.1327541437783343, -0.14437425648228988, 0.10452780656908676, -0.054960941165146465, -0.12658115885111143, -0.17289675790242334, -0.06515697171569641, -0.11754665935889565, -0.15783315040031928, -0.15782408265416828, -0.09269146986914739, -0.144150670484009, -0.027028876184935352, -0.17289701482600356, -0.14415377348967576, -0.14412705114977506], \"y\": [-0.04398275248525525, -0.19889079546145508, -0.09437965308367252, 0.11137788668474698, -0.15791343162186144, 0.2967586005992407, 0.13731498054137506, -0.03211074031858687, 0.10986586312743177, 0.05296316569549558, -0.08610569991070066, 0.006570792129888968, 0.13556745739566745, -0.01614458427688377, -0.15199299402095148, 0.06482079438792808, 0.09021539543182824, -0.11111179928907675, -0.11109927434625476, 0.14520151790198388, -0.08595078019434288, 0.26266888752206596, -0.1518908568114849, -0.08591706905516168, -0.08583491054196511], \"topics\": [1, 2, 3, 4, 5, 6, 7, 8, 9, 10, 11, 12, 13, 14, 15, 16, 17, 18, 19, 20, 21, 22, 23, 24, 25], \"cluster\": [1, 1, 1, 1, 1, 1, 1, 1, 1, 1, 1, 1, 1, 1, 1, 1, 1, 1, 1, 1, 1, 1, 1, 1, 1], \"Freq\": [21.000894830575017, 18.720207222749828, 13.953244985125973, 12.127574637561267, 7.114307254471555, 3.7797268692941683, 3.5626173788192315, 2.553171554270732, 2.186475538671533, 2.0607097463452266, 1.6185002791298038, 1.5516432920977108, 1.251966326884652, 1.2373813371878788, 1.2157579866752903, 0.9915284197950349, 0.9378328190117059, 0.724373527996316, 0.6527267285449962, 0.5470964181919393, 0.5206977346978673, 0.4966512806789859, 0.47285330634028333, 0.40994594826232494, 0.31211457662067965]}, \"tinfo\": {\"Term\": [\"never\", \"states\", \"united\", \"nonmover\", \"child\", \"spouse\", \"married\", \"children\", \"householder\", \"subfamily\", \"school\", \"marr\", \"high\", \"present\", \"graduate\", \"private\", \"civilian\", \"degree\", \"other\", \"joint\", \"both\", \"male\", \"under\", \"college\", \"forces\", \"armed\", \"services\", \"female\", \"year\", \"white\", \"parents\", \"never\", \"child\", \"marr\", \"subfamily\", \"nonfiler\", \"children\", \"married\", \"present\", \"both\", \"under\", \"armed\", \"forces\", \"year\", \"american\", \"male\", \"female\", \"native\", \"states\", \"united\", \"white\", \"other\", \"idaho\", \"delaware\", \"jersey\", \"nevada\", \"panama\", \"mississippi\", \"texas\", \"colorado\", \"bachelors\", \"degree\", \"full\", \"householder\", \"leaver\", \"nonfamily\", \"private\", \"service\", \"nonmover\", \"without\", \"armed\", \"forces\", \"children\", \"states\", \"united\", \"native\", \"white\", \"other\", \"householder\", \"male\", \"nonfiler\", \"idaho\", \"delaware\", \"jersey\", \"nevada\", \"panama\", \"mississippi\", \"texas\", \"colorado\", \"wisconsin\", \"tennessee\", \"iowa\", \"kansas\", \"maine\", \"nebraska\", \"illinois\", \"louisiana\", \"maryland\", \"bachelors\", \"degree\", \"female\", \"full\", \"leaver\", \"married\", \"never\", \"nonfamily\", \"private\", \"service\", \"single\", \"time\", \"transportation\", \"under\", \"unemployed\", \"year\", \"both\", \"time\", \"full\", \"schedules\", \"professional\", \"specialty\", \"masters\", \"meng\", \"assmblrs\", \"inspctrs\", \"machine\", \"operators\", \"econ\", \"reasons\", \"usually\", \"chicano\", \"honduras\", \"government\", \"entertainment\", \"year\", \"private\", \"bachelors\", \"states\", \"united\", \"native\", \"under\", \"other\", \"white\", \"degree\", \"householder\", \"male\", \"married\", \"black\", \"female\", \"spouse\", \"civilian\", \"joint\", \"know\", \"both\", \"present\", \"prof\", \"bachelors\", \"householder\", \"government\", \"married\", \"under\", \"degree\", \"female\", \"male\", \"white\", \"state\", \"other\", \"idaho\", \"delaware\", \"jersey\", \"nevada\", \"panama\", \"mississippi\", \"texas\", \"colorado\", \"wisconsin\", \"tennessee\", \"iowa\", \"kansas\", \"full\", \"leaver\", \"native\", \"never\", \"nonfamily\", \"private\", \"service\", \"single\", \"states\", \"time\", \"transportation\", \"unemployed\", \"force\", \"labor\", \"grandchild\", \"forestry\", \"parent\", \"farming\", \"fishing\", \"neither\", \"fisheries\", \"agriculture\", \"relative\", \"grade\", \"year\", \"native\", \"states\", \"united\", \"other\", \"nonfiler\", \"white\", \"householder\", \"under\", \"female\", \"children\", \"married\", \"idaho\", \"delaware\", \"jersey\", \"nevada\", \"panama\", \"mississippi\", \"bachelors\", \"degree\", \"full\", \"leaver\", \"never\", \"nonfamily\", \"some\", \"support\", \"clerical\", \"including\", \"related\", \"technicians\", \"college\", \"nonfamily\", \"divorced\", \"single\", \"degree\", \"bachelors\", \"private\", \"female\", \"householder\", \"married\", \"never\", \"male\", \"white\", \"idaho\", \"delaware\", \"jersey\", \"nevada\", \"native\", \"panama\", \"mississippi\", \"other\", \"texas\", \"colorado\", \"wisconsin\", \"united\", \"states\", \"full\", \"leaver\", \"service\", \"time\", \"transportation\", \"under\", \"unemployed\", \"older\", \"service\", \"sales\", \"different\", \"household\", \"nonrelative\", \"head\", \"transportation\", \"11th\", \"nonmsa\", \"ever\", \"midwest\", \"loser\", \"separated\", \"unemployed\", \"material\", \"moving\", \"salvador\", \"entrant\", \"division\", \"region\", \"layoff\", \"unrelated\", \"part\", \"unrel\", \"leaver\", \"kentucky\", \"france\", \"montana\", \"ohio\", \"state\", \"single\", \"divorced\", \"private\", \"black\", \"grade\", \"female\", \"relative\", \"other\", \"male\", \"school\", \"high\", \"graduate\", \"poland\", \"male\", \"idaho\", \"delaware\", \"jersey\", \"nevada\", \"panama\", \"mississippi\", \"texas\", \"colorado\", \"wisconsin\", \"tennessee\", \"iowa\", \"kansas\", \"maine\", \"nebraska\", \"illinois\", \"louisiana\", \"maryland\", \"without\", \"group\", \"quarters\", \"york\", \"oregon\", \"connecticut\", \"know\", \"vermont\", \"married\", \"bachelors\", \"degree\", \"female\", \"full\", \"householder\", \"leaver\", \"native\", \"never\", \"nonfamily\", \"other\", \"private\", \"service\", \"single\", \"states\", \"time\", \"transportation\", \"under\", \"unemployed\", \"united\", \"white\", \"year\", \"both\", \"children\", \"civilian\", \"greece\", \"subfamily\", \"marr\", \"child\", \"never\", \"married\", \"nonfiler\", \"female\", \"other\", \"white\", \"idaho\", \"delaware\", \"jersey\", \"nevada\", \"panama\", \"mississippi\", \"texas\", \"colorado\", \"wisconsin\", \"tennessee\", \"iowa\", \"kansas\", \"maine\", \"nebraska\", \"illinois\", \"louisiana\", \"maryland\", \"without\", \"group\", \"quarters\", \"bachelors\", \"degree\", \"full\", \"householder\", \"leaver\", \"native\", \"nonfamily\", \"private\", \"service\", \"single\", \"states\", \"time\", \"transportation\", \"under\", \"unemployed\", \"united\", \"year\", \"both\", \"children\", \"civilian\", \"widowed\", \"naturalization\", \"asian\", \"islander\", \"pacific\", \"germany\", \"china\", \"12th\", \"diploma\", \"england\", \"india\", \"ireland\", \"vietnam\", \"japan\", \"cambodia\", \"guam\", \"usvi\", \"laos\", \"citizen\", \"foreign\", \"nonfamily\", \"single\", \"grade\", \"female\", \"householder\", \"nonfiler\", \"other\", \"children\", \"idaho\", \"delaware\", \"bachelors\", \"degree\", \"same\", \"county\", \"estate\", \"finance\", \"insurance\", \"real\", \"business\", \"west\", \"northeast\", \"california\", \"north\", \"utah\", \"carolina\", \"dakota\", \"oklahoma\", \"hampshire\", \"minnesota\", \"identifiable\", \"indiana\", \"michigan\", \"virginia\", \"arizona\", \"alaska\", \"wyoming\", \"massachusetts\", \"pennsylvania\", \"alabama\", \"arkansas\", \"vermont\", \"connecticut\", \"mexico\", \"mexican\", \"mexicano\", \"dominican\", \"republic\", \"less\", \"than\", \"group\", \"quarters\", \"citizen\", \"foreign\", \"grade\", \"white\", \"male\", \"armed\", \"forces\", \"children\", \"nonfiler\", \"householder\", \"married\", \"idaho\", \"delaware\", \"jersey\", \"nevada\", \"panama\", \"mississippi\", \"texas\", \"colorado\", \"wisconsin\", \"tennessee\", \"bachelors\", \"degree\", \"female\", \"full\", \"leaver\", \"native\", \"never\", \"nonfamily\", \"other\", \"private\", \"repair\", \"craft\", \"precision\", \"production\", \"construction\", \"aleut\", \"amer\", \"eskimo\", \"indian\", \"mining\", \"private\", \"male\", \"grade\", \"married\", \"householder\", \"idaho\", \"delaware\", \"jersey\", \"nevada\", \"panama\", \"mississippi\", \"texas\", \"colorado\", \"wisconsin\", \"tennessee\", \"iowa\", \"kansas\", \"maine\", \"nebraska\", \"illinois\", \"bachelors\", \"degree\", \"female\", \"full\", \"leaver\", \"native\", \"never\", \"nonfamily\", \"other\", \"service\", \"single\", \"states\", \"time\", \"transportation\", \"under\", \"only\", \"mother\", \"employed\", \"incorporated\", \"self\", \"black\", \"prof\", \"agriculture\", \"male\", \"idaho\", \"delaware\", \"jersey\", \"nevada\", \"panama\", \"mississippi\", \"texas\", \"colorado\", \"wisconsin\", \"tennessee\", \"iowa\", \"kansas\", \"maine\", \"nebraska\", \"illinois\", \"louisiana\", \"maryland\", \"without\", \"group\", \"quarters\", \"york\", \"bachelors\", \"degree\", \"female\", \"full\", \"householder\", \"leaver\", \"married\", \"native\", \"never\", \"nonfamily\", \"other\", \"private\", \"service\", \"single\", \"states\", \"time\", \"transportation\", \"under\", \"unemployed\", \"united\", \"white\", \"retail\", \"admin\", \"executive\", \"managerial\", \"personal\", \"communications\", \"trade\", \"idaho\", \"delaware\", \"jersey\", \"nevada\", \"panama\", \"mississippi\", \"texas\", \"colorado\", \"wisconsin\", \"tennessee\", \"iowa\", \"kansas\", \"maine\", \"nebraska\", \"illinois\", \"louisiana\", \"maryland\", \"without\", \"group\", \"quarters\", \"york\", \"oregon\", \"connecticut\", \"bachelors\", \"degree\", \"female\", \"full\", \"householder\", \"leaver\", \"married\", \"native\", \"never\", \"nonfamily\", \"other\", \"private\", \"service\", \"single\", \"states\", \"time\", \"transportation\", \"under\", \"unemployed\", \"united\", \"white\", \"year\", \"both\", \"south\", \"occup\", \"vocational\", \"central\", \"guatemala\", \"peru\", \"columbia\", \"absent\", \"ecuador\", \"nicaragua\", \"florida\", \"georgia\", \"worked\", \"district\", \"missouri\", \"oregon\", \"panama\", \"american\", \"associates\", \"citizen\", \"foreign\", \"degree\", \"white\", \"married\", \"idaho\", \"delaware\", \"jersey\", \"nevada\", \"mississippi\", \"texas\", \"householder\", \"bachelors\", \"female\", \"full\", \"leaver\", \"native\", \"goods\", \"manufacturing\", \"durable\", \"nondurable\", \"private\", \"male\", \"idaho\", \"delaware\", \"jersey\", \"nevada\", \"panama\", \"mississippi\", \"texas\", \"colorado\", \"wisconsin\", \"tennessee\", \"iowa\", \"kansas\", \"maine\", \"nebraska\", \"illinois\", \"louisiana\", \"maryland\", \"without\", \"group\", \"quarters\", \"york\", \"oregon\", \"connecticut\", \"know\", \"householder\", \"bachelors\", \"degree\", \"female\", \"full\", \"leaver\", \"married\", \"native\", \"never\", \"nonfamily\", \"other\", \"service\", \"single\", \"states\", \"time\", \"transportation\", \"under\", \"unemployed\", \"united\", \"white\", \"year\", \"both\", \"children\", \"civilian\", \"except\", \"individual\", \"secondary\", \"administration\", \"public\", \"medical\", \"federal\", \"hospital\", \"idaho\", \"delaware\", \"jersey\", \"nevada\", \"panama\", \"mississippi\", \"texas\", \"colorado\", \"wisconsin\", \"tennessee\", \"iowa\", \"kansas\", \"maine\", \"nebraska\", \"illinois\", \"louisiana\", \"maryland\", \"without\", \"group\", \"quarters\", \"york\", \"oregon\", \"bachelors\", \"degree\", \"female\", \"full\", \"householder\", \"leaver\", \"married\", \"native\", \"never\", \"nonfamily\", \"other\", \"private\", \"service\", \"single\", \"states\", \"time\", \"transportation\", \"under\", \"unemployed\", \"united\", \"white\", \"year\", \"services\", \"spanish\", \"social\", \"protective\", \"sanitary\", \"utilities\", \"hospital\", \"idaho\", \"delaware\", \"jersey\", \"nevada\", \"panama\", \"mississippi\", \"texas\", \"colorado\", \"wisconsin\", \"tennessee\", \"iowa\", \"kansas\", \"maine\", \"nebraska\", \"illinois\", \"louisiana\", \"maryland\", \"without\", \"group\", \"quarters\", \"york\", \"oregon\", \"connecticut\", \"bachelors\", \"degree\", \"female\", \"full\", \"householder\", \"leaver\", \"married\", \"native\", \"never\", \"nonfamily\", \"other\", \"private\", \"service\", \"single\", \"states\", \"time\", \"transportation\", \"under\", \"unemployed\", \"united\", \"white\", \"year\", \"both\", \"10th\", \"academic\", \"program\", \"doctorate\", \"portugal\", \"associates\", \"grade\", \"degree\", \"male\", \"private\", \"idaho\", \"delaware\", \"jersey\", \"nevada\", \"panama\", \"mississippi\", \"texas\", \"colorado\", \"wisconsin\", \"tennessee\", \"iowa\", \"kansas\", \"maine\", \"nebraska\", \"illinois\", \"louisiana\", \"maryland\", \"without\", \"group\", \"quarters\", \"bachelors\", \"female\", \"full\", \"householder\", \"leaver\", \"married\", \"native\", \"never\", \"nonfamily\", \"other\", \"service\", \"single\", \"states\", \"time\", \"transportation\", \"under\", \"unemployed\", \"united\", \"white\", \"year\", \"puerto\", \"rico\", \"rican\", \"philippines\", \"outlying\", \"idaho\", \"delaware\", \"jersey\", \"nevada\", \"panama\", \"mississippi\", \"texas\", \"colorado\", \"wisconsin\", \"tennessee\", \"iowa\", \"kansas\", \"maine\", \"nebraska\", \"illinois\", \"louisiana\", \"maryland\", \"without\", \"group\", \"quarters\", \"york\", \"oregon\", \"connecticut\", \"know\", \"vermont\", \"bachelors\", \"degree\", \"female\", \"full\", \"householder\", \"leaver\", \"married\", \"native\", \"never\", \"nonfamily\", \"other\", \"private\", \"service\", \"single\", \"states\", \"time\", \"transportation\", \"under\", \"unemployed\", \"united\", \"white\", \"year\", \"both\", \"children\", \"university\", \"abroad\", \"nanvalue\", \"yugoslavia\", \"taiwan\", \"college\", \"degree\", \"male\", \"never\", \"married\", \"idaho\", \"delaware\", \"jersey\", \"nevada\", \"panama\", \"mississippi\", \"texas\", \"colorado\", \"wisconsin\", \"tennessee\", \"iowa\", \"kansas\", \"maine\", \"nebraska\", \"illinois\", \"louisiana\", \"maryland\", \"without\", \"group\", \"quarters\", \"bachelors\", \"female\", \"full\", \"householder\", \"leaver\", \"native\", \"nonfamily\", \"other\", \"private\", \"service\", \"single\", \"states\", \"time\", \"transportation\", \"under\", \"unemployed\", \"united\", \"white\", \"year\", \"both\", \"cleaners\", \"equip\", \"handlers\", \"wholesale\", \"canada\", \"scotland\", \"trade\", \"idaho\", \"delaware\", \"jersey\", \"nevada\", \"panama\", \"mississippi\", \"texas\", \"colorado\", \"wisconsin\", \"tennessee\", \"iowa\", \"kansas\", \"maine\", \"nebraska\", \"illinois\", \"louisiana\", \"maryland\", \"without\", \"group\", \"quarters\", \"york\", \"oregon\", \"connecticut\", \"bachelors\", \"degree\", \"female\", \"full\", \"householder\", \"leaver\", \"married\", \"native\", \"never\", \"nonfamily\", \"other\", \"private\", \"service\", \"single\", \"states\", \"time\", \"transportation\", \"under\", \"unemployed\", \"united\", \"white\", \"year\", \"both\", \"local\", \"education\", \"jamaica\", \"hungary\", \"iran\", \"haiti\", \"tobago\", \"trinadad\", \"idaho\", \"delaware\", \"jersey\", \"nevada\", \"panama\", \"mississippi\", \"texas\", \"colorado\", \"wisconsin\", \"tennessee\", \"iowa\", \"kansas\", \"maine\", \"nebraska\", \"illinois\", \"louisiana\", \"maryland\", \"without\", \"group\", \"quarters\", \"york\", \"oregon\", \"bachelors\", \"degree\", \"female\", \"full\", \"householder\", \"leaver\", \"married\", \"native\", \"never\", \"nonfamily\", \"other\", \"private\", \"service\", \"single\", \"states\", \"time\", \"transportation\", \"under\", \"unemployed\", \"united\", \"white\", \"year\", \"italy\", \"cuba\", \"father\", \"korea\", \"cuban\", \"hong\", \"kong\", \"thailand\", \"holand\", \"netherlands\", \"idaho\", \"delaware\", \"jersey\", \"nevada\", \"panama\", \"mississippi\", \"texas\", \"colorado\", \"wisconsin\", \"tennessee\", \"iowa\", \"kansas\", \"maine\", \"nebraska\", \"illinois\", \"louisiana\", \"maryland\", \"without\", \"group\", \"quarters\", \"bachelors\", \"degree\", \"female\", \"full\", \"householder\", \"leaver\", \"married\", \"native\", \"never\", \"nonfamily\", \"other\", \"private\", \"service\", \"single\", \"states\", \"time\", \"transportation\", \"under\", \"unemployed\", \"united\"], \"Freq\": [305406.0, 986323.0, 986323.0, 362415.0, 196326.0, 250096.0, 329641.0, 398591.0, 372338.0, 113373.0, 87579.0, 109519.0, 84795.0, 206188.0, 73545.0, 116186.0, 124221.0, 100787.0, 315613.0, 117511.0, 169642.0, 141840.0, 328507.0, 52474.0, 180468.0, 180468.0, 42090.0, 156686.0, 149106.0, 249659.0, 57901.6857950994, 232573.29077861598, 146368.94104519617, 75483.5276105975, 77454.75523285361, 73967.4823794955, 191792.3648214889, 154101.8688124609, 81008.88485574262, 58047.16334380694, 112106.23755646533, 59547.7250909415, 59547.7250909415, 36747.23419542891, 4896.939458379063, 33688.75968900784, 35917.275696252196, 60030.41674543519, 220851.75815477155, 220851.75815477155, 49608.590348341124, 55056.17072865153, 0.03807349977228447, 0.03807349977228447, 0.03807349977228447, 0.03807349977228447, 0.03807349977228447, 0.03807349977228447, 0.03807349977228447, 0.03807349977228447, 0.03807349977228447, 0.03807349977228447, 0.03807349977228447, 0.03807349977228447, 0.03807349977228447, 0.03807349977228447, 0.03807349977228447, 0.03807349977228447, 362414.35916790366, 274.1933121643885, 116993.03322922211, 116993.03322922211, 152672.72732533768, 368391.7504089601, 368391.7504089601, 97836.7143650398, 79019.92502015628, 95736.62555331299, 75209.52547384783, 27079.342414594594, 8742.869449743202, 0.03912193575182213, 0.03912193575182213, 0.03912193575182213, 0.03912193575182213, 0.03912193575182213, 0.03912193575182213, 0.03912193575182213, 0.03912193575182213, 0.03912193575182213, 0.03912193575182213, 0.03912193575182213, 0.03912193575182213, 0.03912193575182213, 0.03912193575182213, 0.03912193575182213, 0.03912193575182213, 0.03912193575182213, 0.03912193575182213, 0.03912193575182213, 0.03912193575182213, 0.03912193575182213, 0.03912193575182213, 0.03912193575182213, 0.03912193575182213, 0.03912193575182213, 0.03912193575182213, 0.03912193575182213, 0.03912193575182213, 0.03912193575182213, 0.03912193575182213, 0.03912193575182213, 0.03912193575182213, 0.03912193575182213, 0.03912193575182213, 65312.44133587814, 64041.163374032134, 60281.92052101318, 25878.394836909913, 19744.448558973596, 9620.20865868016, 9620.20865868016, 9531.753923499708, 9531.753923499708, 9531.753923499708, 9531.753923499708, 7662.438728414803, 7662.438728414803, 7662.438728414803, 679.7404896405557, 322.2123626095185, 15034.801269270978, 1305.6549156111041, 70882.0661189548, 40428.00824569247, 7871.515503921593, 261013.27169507623, 261013.27169507623, 68352.56739419626, 79058.49966628038, 75897.95144921004, 56461.711192019786, 19838.154079271877, 70501.19567324579, 24032.283426510203, 15595.790971917686, 3585.9695399952407, 4521.720321016988, 250095.87813853752, 124220.02493411831, 117510.7861034269, 288.90462834111503, 111594.6976239318, 125178.6101045418, 1420.7120374023375, 14167.257258734275, 128448.92373385235, 7218.765845217621, 106828.55757419646, 101345.73486315142, 30568.094405170566, 42760.24393935083, 19836.348692240674, 21080.06773628633, 1628.6298623249047, 7094.28868831296, 0.03936785121906606, 0.03936785121906606, 0.03936785121906606, 0.03936785121906606, 0.03936785121906606, 0.03936785121906606, 0.03936785121906606, 0.03936785121906606, 0.03936785121906606, 0.03936785121906606, 0.03936785121906606, 0.03936785121906606, 0.03936785121906606, 0.03936785121906606, 0.03936785121906606, 0.03936785121906606, 0.03936785121906606, 0.03936785121906606, 0.03936785121906606, 0.03936785121906606, 0.03936785121906606, 0.03936785121906606, 0.03936785121906606, 0.03936785121906606, 39173.998000267144, 39173.998000267144, 5195.132216413326, 5180.470953177822, 5099.526115214843, 4873.592637312798, 4873.592637312798, 2657.819767328453, 306.9186220133876, 3459.853304649803, 10381.833437154426, 19962.002275769864, 41475.7736438442, 37461.87587033741, 136006.46097614564, 136006.46097614564, 41957.07099521621, 13787.899437977749, 30144.028395002137, 42043.14126971619, 35996.41529102915, 15754.552930187827, 36721.91768941703, 2869.1141514106143, 0.04028731837284438, 0.04028731837284438, 0.04028731837284438, 0.04028731837284438, 0.04028731837284438, 0.04028731837284438, 0.04028731837284438, 0.04028731837284438, 0.04028731837284438, 0.04028731837284438, 0.04028731837284438, 0.04028731837284438, 41893.07033396507, 26782.941714695437, 22254.10337069645, 22254.10337069645, 4528.888269862258, 4528.888269862258, 39310.34495315809, 20016.13365533405, 10887.22119861645, 26670.35397074165, 39160.42391437322, 6964.695898673784, 20729.174834630463, 21369.606932376584, 28145.591506044184, 18151.250774871973, 16127.358942146595, 3834.578079058708, 3581.0422396767153, 0.041699005143046135, 0.041699005143046135, 0.041699005143046135, 0.041699005143046135, 116.32574519681275, 0.041699005143046135, 0.041699005143046135, 82.51238853471816, 0.041699005143046135, 0.041699005143046135, 0.041699005143046135, 59.0539734461485, 59.05388554850189, 0.041699005143046135, 0.041699005143046135, 0.041699005143046135, 0.041699005143046135, 0.041699005143046135, 0.041699005143046135, 0.041699005143046135, 21408.42573250726, 18390.93736707954, 17991.935088886978, 16572.194997394512, 14313.419666940414, 12223.779085363143, 11974.486504437675, 11229.21882898893, 10803.14356447513, 9657.676611952726, 6650.973166676283, 5711.137498682754, 5604.027970897174, 5336.729040524198, 5252.497369260354, 5040.5467127315815, 5040.5467127315815, 4125.601131936983, 3551.907604247615, 2475.126416009076, 2140.3650661389397, 1657.2444537858928, 1436.7529186128595, 1327.3964496136693, 1025.98205694432, 769.6934781979452, 578.3485509543307, 420.59726309370575, 359.64638329471995, 307.752509201145, 16354.061503621935, 22701.88575599441, 9333.44103131332, 34843.12361618797, 9338.580305579113, 14328.199885682638, 16732.989195928196, 4840.922626075808, 16753.86178106856, 5515.029513391442, 87578.00471700956, 84794.48747546977, 73543.93513212542, 3711.2152492606706, 5370.891527464256, 0.0402395625252624, 0.0402395625252624, 0.0402395625252624, 0.0402395625252624, 0.0402395625252624, 0.0402395625252624, 0.0402395625252624, 0.0402395625252624, 0.0402395625252624, 0.0402395625252624, 0.0402395625252624, 0.0402395625252624, 0.0402395625252624, 0.0402395625252624, 0.0402395625252624, 0.0402395625252624, 0.0402395625252624, 0.0402395625252624, 0.0402395625252624, 0.0402395625252624, 0.0402395625252624, 0.0402395625252624, 0.0402395625252624, 0.0402395625252624, 0.0402395625252624, 0.04023956614916809, 0.0402395625252624, 0.0402395625252624, 0.0402395625252624, 0.0402395625252624, 0.0402395625252624, 0.0402395625252624, 0.0402395625252624, 0.0402395625252624, 0.0402395625252624, 0.0402395625252624, 0.0402395625252624, 0.0402395625252624, 0.0402395625252624, 0.0402395625252624, 0.0402395625252624, 0.0402395625252624, 0.0402395625252624, 0.0402395625252624, 0.0402395625252624, 0.0402395625252624, 0.0402395625252624, 0.0402395625252624, 0.0402395625252624, 0.0402395625252624, 718.104643417177, 35917.654795468276, 34035.15785352607, 49956.283500301026, 53916.87631603395, 23837.6952254545, 5836.261676773557, 5054.999623957877, 8617.223585989372, 482.69886633759745, 0.04149616246695998, 0.04149616246695998, 0.04149616246695998, 0.04149616246695998, 0.04149616246695998, 0.04149616246695998, 0.04149616246695998, 0.04149616246695998, 0.04149616246695998, 0.04149616246695998, 0.04149616246695998, 0.04149616246695998, 0.04149616246695998, 0.04149616246695998, 0.04149616246695998, 0.04149616246695998, 0.04149616246695998, 0.04149616246695998, 0.04149616246695998, 0.04149616246695998, 0.04149616246695998, 0.04149616246695998, 0.04149616246695998, 0.04149616246695998, 0.04149616246695998, 0.04149616246695998, 0.04149616246695998, 0.04149616246695998, 0.04149616246695998, 0.04149616246695998, 0.04149616246695998, 0.04149616246695998, 0.04149616246695998, 0.04149616246695998, 0.04149616246695998, 0.04149616246695998, 0.04149616246695998, 0.04149616246695998, 0.04149616246695998, 0.04149616246695998, 16444.326782048603, 9219.452541597453, 8749.163521806404, 8749.163521806404, 8749.163521806404, 4899.706805197077, 3672.355162002562, 3535.3055467942613, 3535.3055467942613, 3129.279931242024, 2746.974677321912, 1793.9561232145802, 1441.9884728668958, 1391.85156998701, 1249.5986952019732, 463.32089400115717, 463.32089400115717, 289.42734842214884, 15070.5750105712, 15070.5750105712, 13854.404112079732, 8367.144265539167, 7648.641486540877, 14574.670415479135, 21327.827948124075, 5473.990092171939, 14416.609557156198, 9483.698271110277, 0.043305682726972376, 0.043305682726972376, 0.043305682726972376, 0.043305682726972376, 41159.49267270876, 38687.637789095985, 10078.870639744535, 10078.870639744535, 10078.870639744535, 10078.870639744535, 8820.700488221926, 7780.010260169408, 5201.583077841044, 2541.6232813414404, 1953.3800903040224, 1825.066875235443, 1246.5844157377364, 1179.556535438096, 913.7730162724426, 768.900921323275, 764.5931464951293, 721.8713056576213, 698.8860682283872, 674.1959678992852, 557.4717631447259, 551.341543473512, 455.29523752335, 441.8709477175324, 375.4376767452522, 351.8630617076414, 317.76441109443704, 290.2926923497609, 289.20372321671533, 286.8338486128047, 39765.18190835962, 22181.695647680895, 11378.766482387038, 6220.695245004558, 6220.695245004558, 1240.2043592710536, 1240.2043592710536, 274.25029898264575, 274.25029898264575, 11401.898029830858, 11401.898029830858, 7478.202510974013, 7258.126615371646, 3522.5208411904496, 3927.0429134577344, 3927.0429134577344, 7919.759538201267, 1727.571561229962, 4647.784947657766, 2959.064496366343, 0.04042494716052339, 0.04042494716052339, 0.04042494716052339, 0.04042494716052339, 0.04042494716052339, 0.04042494716052339, 0.04042494716052339, 0.04042494716052339, 0.04042494716052339, 0.04042494716052339, 0.04042494716052339, 0.04042494716052339, 0.04042494716052339, 0.04042494716052339, 0.04042494716052339, 0.04042494716052339, 0.04042494716052339, 0.04042494716052339, 0.04042494716052339, 0.04042494716052339, 26641.21280100096, 17658.78942945241, 17658.78942945241, 17658.78942945241, 9738.693484834937, 3173.417481452172, 3173.417481452172, 3173.417481452172, 3173.417481452172, 1007.4872204155992, 7954.070015104363, 8430.620032938179, 1435.8803256141982, 2184.9305063815764, 1971.785278719617, 0.04168111294526055, 0.04168111294526055, 0.04168111294526055, 0.04168111294526055, 0.04168111294526055, 0.04168111294526055, 0.04168111294526055, 0.04168111294526055, 0.04168111294526055, 0.04168111294526055, 0.04168111294526055, 0.04168111294526055, 0.04168111294526055, 0.04168111294526055, 0.04168111294526055, 0.04168111294526055, 0.04168111294526055, 0.04168111294526055, 0.04168111294526055, 0.04168111294526055, 0.04168111294526055, 0.04168111294526055, 0.04168111294526055, 0.04168111294526055, 0.04168111294526055, 0.04168111294526055, 0.04168111294526055, 0.04168111294526055, 0.04168111294526055, 0.04168111294526055, 23284.39716441499, 20251.635217373296, 19097.445013734756, 19097.445013734756, 19097.445013734756, 16997.32805144371, 1430.7721644768055, 1370.5657609118628, 2950.2607590942303, 0.04324117948951418, 0.04324117948951418, 0.04324117948951418, 0.04324117948951418, 0.04324117948951418, 0.04324117948951418, 0.04324117948951418, 0.04324117948951418, 0.04324117948951418, 0.04324117948951418, 0.04324117948951418, 0.04324117948951418, 0.04324117948951418, 0.04324117948951418, 0.04324117948951418, 0.04324117948951418, 0.04324117948951418, 0.04324117948951418, 0.04324117948951418, 0.04324117948951418, 0.04324117948951418, 0.04324117948951418, 0.04324117948951418, 0.04324117948951418, 0.04324117948951418, 0.04324117948951418, 0.04324117948951418, 0.04324117948951418, 0.04324117948951418, 0.04324117948951418, 0.04324117948951418, 0.04324117948951418, 0.04324117948951418, 0.04324117948951418, 0.04324117948951418, 0.04324117948951418, 0.04324117948951418, 0.04324117948951418, 0.04324117948951418, 0.04324117948951418, 0.04324117948951418, 0.04324117948951418, 27350.368166704953, 20292.843344301677, 20292.843344301677, 20292.843344301677, 5244.537110658974, 2190.187200236605, 25753.715618696137, 0.0437382050999955, 0.0437382050999955, 0.0437382050999955, 0.0437382050999955, 0.0437382050999955, 0.0437382050999955, 0.0437382050999955, 0.0437382050999955, 0.0437382050999955, 0.0437382050999955, 0.0437382050999955, 0.0437382050999955, 0.0437382050999955, 0.0437382050999955, 0.0437382050999955, 0.0437382050999955, 0.0437382050999955, 0.0437382050999955, 0.0437382050999955, 0.0437382050999955, 0.0437382050999955, 0.0437382050999955, 0.0437382050999955, 0.0437382050999955, 0.0437382050999955, 0.0437382050999955, 0.0437382050999955, 0.0437382050999955, 0.0437382050999955, 0.0437382050999955, 0.0437382050999955, 0.0437382050999955, 0.0437382050999955, 0.0437382050999955, 0.0437382050999955, 0.0437382050999955, 0.0437382050999955, 0.0437382050999955, 0.0437382050999955, 0.0437382050999955, 0.0437382050999955, 0.0437382050999955, 0.0437382050999955, 0.0437382050999955, 0.0437382050999955, 0.0437382050999955, 19724.176399367607, 8805.397840255171, 8805.397840255171, 6435.375833997469, 3030.3843068430556, 2410.508752047557, 2381.6135491958275, 2136.5449893898644, 1303.579211500758, 1133.8706223890435, 1032.3124992305372, 557.528976734105, 527.2657877204515, 378.3760535463648, 350.80576447673064, 281.357477913964, 148.8507776506817, 15303.218479475741, 8999.266714095995, 4474.2643709534605, 4474.2643709534605, 3874.4806517508378, 2022.9871963537423, 388.41256367097697, 0.044511828466446586, 0.044511828466446586, 0.044511828466446586, 0.044511828466446586, 0.044511828466446586, 0.044511828466446586, 41.71317877203231, 0.044511828466446586, 0.044511828466446586, 0.044511828466446586, 0.044511828466446586, 0.044511828466446586, 26432.002139878412, 26432.002139878412, 14173.926712951692, 12258.134050396588, 11285.766096842905, 3076.086174604739, 0.044851444529775554, 0.044851444529775554, 0.044851444529775554, 0.044851444529775554, 0.044851444529775554, 0.044851444529775554, 0.044851444529775554, 0.044851444529775554, 0.044851444529775554, 0.044851444529775554, 0.044851444529775554, 0.044851444529775554, 0.044851444529775554, 0.044851444529775554, 0.044851444529775554, 0.044851444529775554, 0.044851444529775554, 0.044851444529775554, 0.044851444529775554, 0.044851444529775554, 0.044851444529775554, 0.044851444529775554, 0.044851444529775554, 0.044851444529775554, 0.04486320644443203, 0.044851444529775554, 0.044851444529775554, 0.044851444529775554, 0.044851444529775554, 0.044851444529775554, 0.044851444529775554, 0.044851444529775554, 0.044851444529775554, 0.044851444529775554, 0.044851444529775554, 0.044851444529775554, 0.044851444529775554, 0.044851444529775554, 0.044851444529775554, 0.044851444529775554, 0.044851444529775554, 0.044851444529775554, 0.044851444529775554, 0.044851444529775554, 0.044851444529775554, 0.044851444529775554, 0.044851444529775554, 0.044851444529775554, 13161.72534621205, 10973.968784556955, 10973.968784556955, 8090.4108087041, 8090.4108087041, 7657.497809507126, 5619.708844496038, 7769.801415147624, 0.04590432142837084, 0.04590432142837084, 0.04590432142837084, 0.04590432142837084, 0.04590432142837084, 0.04590432142837084, 0.04590432142837084, 0.04590432142837084, 0.04590432142837084, 0.04590432142837084, 0.04590432142837084, 0.04590432142837084, 0.04590432142837084, 0.04590432142837084, 0.04590432142837084, 0.04590432142837084, 0.04590432142837084, 0.04590432142837084, 0.04590432142837084, 0.04590432142837084, 0.04590432142837084, 0.04590432142837084, 0.04590432142837084, 0.04590432142837084, 0.04590432142837084, 0.04590432142837084, 0.04590432142837084, 0.04590432142837084, 0.04590432142837084, 0.04590432142837084, 0.04590432142837084, 0.04590432142837084, 0.04590432142837084, 0.04590432142837084, 0.04590432142837084, 0.04590432142837084, 0.04590432142837084, 0.04590432142837084, 0.04590432142837084, 0.04590432142837084, 0.04590432142837084, 0.04590432142837084, 0.04590432142837084, 0.04590432142837084, 42089.38166720831, 4629.390101762878, 4298.4631556999175, 3566.8853531827435, 2550.3293092762888, 2550.3293092762888, 5496.186684905245, 0.04749260616429074, 0.04749260616429074, 0.04749260616429074, 0.04749260616429074, 0.04749260616429074, 0.04749260616429074, 0.04749260616429074, 0.04749260616429074, 0.04749260616429074, 0.04749260616429074, 0.04749260616429074, 0.04749260616429074, 0.04749260616429074, 0.04749260616429074, 0.04749260616429074, 0.04749260616429074, 0.04749260616429074, 0.04749260616429074, 0.04749260616429074, 0.04749260616429074, 0.04749260616429074, 0.04749260616429074, 0.04749260616429074, 0.04749260616429074, 0.04749260616429074, 0.04749260616429074, 0.04749260616429074, 0.04749260616429074, 0.04749260616429074, 0.04749260616429074, 0.04749260616429074, 0.04749260616429074, 0.04749260616429074, 0.04749260616429074, 0.04749260616429074, 0.04749260616429074, 0.04749260616429074, 0.04749260616429074, 0.04749260616429074, 0.04749260616429074, 0.04749260616429074, 0.04749260616429074, 0.04749260616429074, 0.04749260616429074, 0.04749260616429074, 0.04749260616429074, 14489.043895902612, 7415.477322744635, 7415.477322744635, 3153.8656146391836, 1963.6963095384153, 7193.41683305343, 7746.043051126568, 2993.9967349447516, 1313.3642210448866, 945.4611142835901, 0.05098426788871843, 0.05098426788871843, 0.05098426788871843, 0.05098426788871843, 0.05098426788871843, 0.05098426788871843, 0.05098426788871843, 0.05098426788871843, 0.05098426788871843, 0.05098426788871843, 0.05098426788871843, 0.05098426788871843, 0.05098426788871843, 0.05098426788871843, 0.05098426788871843, 0.05098426788871843, 0.05098426788871843, 0.05098426788871843, 0.05098426788871843, 0.05098426788871843, 0.05098426788871843, 0.05098426788871843, 0.05098426788871843, 0.05098426788871843, 0.05098426788871843, 0.05098426788871843, 0.05098426788871843, 0.05098426788871843, 0.05098426788871843, 0.05098426788871843, 0.05098426788871843, 0.05098426788871843, 0.05098426788871843, 0.05098426788871843, 0.05098426788871843, 0.05098426788871843, 0.05098426788871843, 0.05098426788871843, 0.05098426788871843, 0.05098426788871843, 21314.587385277966, 15025.926568304736, 6288.733663750807, 6085.7585174892365, 3213.143102012084, 64.38295920422755, 0.05247946736240551, 0.05247946736240551, 0.05247946736240551, 0.05247946736240551, 0.05247946736240551, 0.05247946736240551, 0.05247946736240551, 0.05247946736240551, 0.05247946736240551, 0.05247946736240551, 0.05247946736240551, 0.05247946736240551, 0.05247946736240551, 0.05247946736240551, 0.05247946736240551, 0.05247946736240551, 0.05247946736240551, 0.05247946736240551, 0.05247946736240551, 0.05247946736240551, 0.05247946736240551, 0.05247946736240551, 0.05247946736240551, 0.05247946736240551, 0.05247946736240551, 0.05247946736240551, 0.05247946736240551, 0.05247946736240551, 0.05247946736240551, 0.05247946736240551, 0.05247946736240551, 0.05247946736240551, 0.05247946736240551, 0.05247946736240551, 0.05247946736240551, 0.05247946736240551, 0.05247946736240551, 0.05247946736240551, 0.05247946736240551, 0.05247946736240551, 0.05247946736240551, 0.05247946736240551, 0.05247946736240551, 0.05247946736240551, 0.05247946736240551, 0.05247946736240551, 0.05247946736240551, 0.05247946736240551, 9981.18645582008, 9209.874620561357, 1925.0911487593467, 1149.7287167025845, 1108.7517082678726, 13163.05160428157, 4351.492783438132, 3189.6627251621508, 2788.272873675925, 2724.182174404046, 0.05137238575780109, 0.05137238575780109, 0.05137238575780109, 0.05137238575780109, 0.05137238575780109, 0.05137238575780109, 0.05137238575780109, 0.05137238575780109, 0.05137238575780109, 0.05137238575780109, 0.05137238575780109, 0.05137238575780109, 0.05137238575780109, 0.05137238575780109, 0.05137238575780109, 0.05137238575780109, 0.05137238575780109, 0.05137238575780109, 0.05137238575780109, 0.05137238575780109, 0.05137238575780109, 0.05137238575780109, 0.05137238575780109, 0.05137238575780109, 0.05137238575780109, 0.05137238575780109, 0.05137238575780109, 0.05137238575780109, 0.05137238575780109, 0.05137238575780109, 0.05137238575780109, 0.05137238575780109, 0.05137238575780109, 0.05137238575780109, 0.05137238575780109, 0.05137238575780109, 0.05137238575780109, 0.05137238575780109, 0.05137238575780109, 0.05137238575780109, 8569.078369843599, 8569.078369843599, 8569.078369843599, 6372.270889208406, 6082.376856859078, 814.2965325799075, 8238.101771013582, 0.05111200094990985, 0.05111200094990985, 0.05111200094990985, 0.05111200094990985, 0.05111200094990985, 0.05111200094990985, 0.05111200094990985, 0.05111200094990985, 0.05111200094990985, 0.05111200094990985, 0.05111200094990985, 0.05111200094990985, 0.05111200094990985, 0.05111200094990985, 0.05111200094990985, 0.05111200094990985, 0.05111200094990985, 0.05111200094990985, 0.05111200094990985, 0.05111200094990985, 0.05111200094990985, 0.05111200094990985, 0.05111200094990985, 0.05111200094990985, 0.05111200094990985, 0.05111200094990985, 0.05111200094990985, 0.05111200094990985, 0.05111200094990985, 0.05111200094990985, 0.05111200094990985, 0.05111200094990985, 0.05111200094990985, 0.05111200094990985, 0.05111200094990985, 0.05111200094990985, 0.05111200094990985, 0.05111200094990985, 0.05111200094990985, 0.05111200094990985, 0.05111200094990985, 0.05111200094990985, 0.05111200094990985, 0.05111200094990985, 0.05111200094990985, 0.05111200094990985, 15942.423250912754, 15909.607941768676, 2632.1372156283396, 2450.41719411266, 1298.2167721335477, 1134.6612786593475, 781.9083741242205, 781.9083741242205, 0.05072286858603389, 0.05072286858603389, 0.05072286858603389, 0.05072286858603389, 0.05072286858603389, 0.05072286858603389, 0.05072286858603389, 0.05072286858603389, 0.05072286858603389, 0.05072286858603389, 0.05072286858603389, 0.05072286858603389, 0.05072286858603389, 0.05072286858603389, 0.05072286858603389, 0.05072286858603389, 0.05072286858603389, 0.05072286858603389, 0.05072286858603389, 0.05072286858603389, 0.05072286858603389, 0.05072286858603389, 0.05072286858603389, 0.05072286858603389, 0.05072286858603389, 0.05072286858603389, 0.05072286858603389, 0.05072286858603389, 0.05072286858603389, 0.05072286858603389, 0.05072286858603389, 0.05072286858603389, 0.05072286858603389, 0.05072286858603389, 0.05072286858603389, 0.05072286858603389, 0.05072286858603389, 0.05072286858603389, 0.05072286858603389, 0.05072286858603389, 0.05072286858603389, 0.05072286858603389, 0.05072286858603389, 0.05072286858603389, 9340.069292748154, 8700.930466519418, 3875.5682490593017, 3675.31674735534, 3021.3931916625215, 751.2872296806588, 751.2872296806588, 440.89509682484646, 301.01902548187826, 301.01902548187826, 0.055257162187854814, 0.055257162187854814, 0.055257162187854814, 0.055257162187854814, 0.055257162187854814, 0.055257162187854814, 0.055257162187854814, 0.055257162187854814, 0.055257162187854814, 0.055257162187854814, 0.055257162187854814, 0.055257162187854814, 0.055257162187854814, 0.055257162187854814, 0.055257162187854814, 0.055257162187854814, 0.055257162187854814, 0.055257162187854814, 0.055257162187854814, 0.055257162187854814, 0.055257162187854814, 0.055257162187854814, 0.055257162187854814, 0.055257162187854814, 0.055257162187854814, 0.055257162187854814, 0.055257162187854814, 0.055257162187854814, 0.055257162187854814, 0.055257162187854814, 0.055257162187854814, 0.055257162187854814, 0.055257162187854814, 0.055257162187854814, 0.055257162187854814, 0.055257162187854814, 0.055257162187854814, 0.055257162187854814, 0.055257162187854814, 0.055257162187854814], \"Total\": [305406.0, 986323.0, 986323.0, 362415.0, 196326.0, 250096.0, 329641.0, 398591.0, 372338.0, 113373.0, 87579.0, 109519.0, 84795.0, 206188.0, 73545.0, 116186.0, 124221.0, 100787.0, 315613.0, 117511.0, 169642.0, 141840.0, 328507.0, 52474.0, 180468.0, 180468.0, 42090.0, 156686.0, 149106.0, 249659.0, 57902.75625332279, 305406.7348011425, 196326.25350755808, 109519.7144261845, 113373.43899038281, 109536.94041956881, 398591.37496389454, 329641.557616144, 206188.52605065657, 169642.89205811088, 328507.83892737346, 180468.7921449618, 180468.7921449618, 149106.06487652633, 20201.183884249713, 141840.30533440562, 156686.84312032541, 263798.81021756306, 986323.2052178595, 986323.2053057571, 249659.92190611354, 315613.0596712927, 65.43901146001308, 76.10399183484527, 77.31719547461854, 82.10615029381944, 149.91479754536314, 156.71925142441728, 172.66209351744905, 177.9929893321524, 29004.456873589876, 100787.48391272749, 64042.23265314873, 372338.2279011766, 770.7610261000082, 33871.561294449064, 116186.45300220675, 18392.004914981604, 362415.428577691, 275.26272195178467, 180468.7921449618, 180468.7921449618, 398591.37496389454, 986323.2052178595, 986323.2053057571, 263798.81021756306, 249659.92190611354, 315613.0596712927, 372338.2279011766, 141840.30533440562, 109536.94041956881, 65.43901146001308, 76.10399183484527, 77.31719547461854, 82.10615029381944, 149.91479754536314, 156.71925142441728, 172.66209351744905, 177.9929893321524, 178.98464472827618, 186.72659140996984, 205.38365407084862, 211.8436161392564, 213.84895176899218, 219.20418072270922, 223.97714570033662, 232.51659078263637, 241.5299204538797, 29004.456873589876, 100787.48391272749, 156686.84312032541, 64042.23265314873, 770.7610261000082, 329641.557616144, 305406.7348011425, 33871.561294449064, 116186.45300220675, 18392.004914981604, 57740.36653548943, 65313.51061499473, 11230.286376891, 328507.83892737346, 5253.5649171624145, 149106.06487652633, 169642.89205811088, 65313.51061499473, 64042.23265314873, 60282.98980012977, 25879.464116026495, 19745.517838090178, 9621.27793779675, 9621.27793779675, 9532.823202616299, 9532.823202616299, 9532.823202616299, 9532.823202616299, 7663.508007531385, 7663.508007531385, 7663.508007531385, 680.8097687571409, 323.2816417261037, 22254.597025753963, 2561.9995825488036, 149106.06487652633, 116186.45300220675, 29004.456873589876, 986323.2052178595, 986323.2053057571, 263798.81021756306, 328507.83892737346, 315613.0596712927, 249659.92190611354, 100787.48391272749, 372338.2279011766, 141840.30533440562, 329641.557616144, 29922.862951134077, 156686.84312032541, 250096.94730240945, 124221.09409799024, 117511.85526729883, 289.97379221304396, 169642.89205811088, 206188.52605065657, 2852.5101245715828, 29004.456873589876, 372338.2279011766, 22254.597025753963, 329641.557616144, 328507.83892737346, 100787.48391272749, 156686.84312032541, 141840.30533440562, 249659.92190611354, 19608.67514603188, 315613.0596712927, 65.43901146001308, 76.10399183484527, 77.31719547461854, 82.10615029381944, 149.91479754536314, 156.71925142441728, 172.66209351744905, 177.9929893321524, 178.98464472827618, 186.72659140996984, 205.38365407084862, 211.8436161392564, 64042.23265314873, 770.7610261000082, 263798.81021756306, 305406.7348011425, 33871.561294449064, 116186.45300220675, 18392.004914981604, 57740.36653548943, 986323.2052178595, 65313.51061499473, 11230.286376891, 5253.5649171624145, 39175.06624467193, 39175.06624467193, 5196.200460818098, 5181.539197582593, 5100.594359619615, 4874.660881717569, 4874.660881717569, 2658.888011733228, 307.9868664181628, 4831.444068786947, 15223.78332381393, 58599.82040028114, 149106.06487652633, 263798.81021756306, 986323.2052178595, 986323.2053057571, 315613.0596712927, 109536.94041956881, 249659.92190611354, 372338.2279011766, 328507.83892737346, 156686.84312032541, 398591.37496389454, 329641.557616144, 65.43901146001308, 76.10399183484527, 77.31719547461854, 82.10615029381944, 149.91479754536314, 156.71925142441728, 29004.456873589876, 100787.48391272749, 64042.23265314873, 770.7610261000082, 305406.7348011425, 33871.561294449064, 41894.13716668309, 26784.00854741344, 22255.170203414455, 22255.170203414455, 4529.95510258026, 4529.95510258026, 52474.41201777192, 33871.561294449064, 20221.68807882669, 57740.36653548943, 100787.48391272749, 29004.456873589876, 116186.45300220675, 156686.84312032541, 372338.2279011766, 329641.557616144, 305406.7348011425, 141840.30533440562, 249659.92190611354, 65.43901146001308, 76.10399183484527, 77.31719547461854, 82.10615029381944, 263798.81021756306, 149.91479754536314, 156.71925142441728, 315613.0596712927, 172.66209351744905, 177.9929893321524, 178.98464472827618, 986323.2053057571, 986323.2052178595, 64042.23265314873, 770.7610261000082, 18392.004914981604, 65313.51061499473, 11230.286376891, 328507.83892737346, 5253.5649171624145, 21409.493280409326, 18392.004914981604, 17993.002636789042, 16573.262545296577, 14314.487214842482, 12224.846633265211, 11975.554052339743, 11230.286376891, 10804.211112377197, 9658.744159854794, 6652.040714578343, 5712.205046584814, 5605.095518799234, 5337.7965884262585, 5253.5649171624145, 5041.614260633642, 5041.614260633642, 4126.668679839043, 3552.975152149678, 2476.193963911139, 2141.4326140410026, 1658.312001687956, 1437.8204665149226, 1328.4639975157324, 1027.049604846383, 770.7610261000082, 579.4160988563937, 421.66481099576873, 360.71393119678294, 308.820057103208, 19608.67514603188, 57740.36653548943, 20221.68807882669, 116186.45300220675, 29922.862951134077, 58599.82040028114, 156686.84312032541, 15223.78332381393, 315613.0596712927, 141840.30533440562, 87579.07300917017, 84795.55576763037, 73545.00342428603, 3712.283541421293, 141840.30533440562, 65.43901146001308, 76.10399183484527, 77.31719547461854, 82.10615029381944, 149.91479754536314, 156.71925142441728, 172.66209351744905, 177.9929893321524, 178.98464472827618, 186.72659140996984, 205.38365407084862, 211.8436161392564, 213.84895176899218, 219.20418072270922, 223.97714570033662, 232.51659078263637, 241.5299204538797, 275.26272195178467, 275.31840575863316, 275.31840575863316, 282.2352535484673, 282.4214978086455, 287.90144985644764, 289.97379221304396, 290.2713244603583, 329641.557616144, 29004.456873589876, 100787.48391272749, 156686.84312032541, 64042.23265314873, 372338.2279011766, 770.7610261000082, 263798.81021756306, 305406.7348011425, 33871.561294449064, 315613.0596712927, 116186.45300220675, 18392.004914981604, 57740.36653548943, 986323.2052178595, 65313.51061499473, 11230.286376891, 328507.83892737346, 5253.5649171624145, 986323.2053057571, 249659.92190611354, 149106.06487652633, 169642.89205811088, 398591.37496389454, 124221.09409799024, 719.171678977858, 113373.43899038281, 109519.7144261845, 196326.25350755808, 305406.7348011425, 329641.557616144, 109536.94041956881, 156686.84312032541, 315613.0596712927, 249659.92190611354, 65.43901146001308, 76.10399183484527, 77.31719547461854, 82.10615029381944, 149.91479754536314, 156.71925142441728, 172.66209351744905, 177.9929893321524, 178.98464472827618, 186.72659140996984, 205.38365407084862, 211.8436161392564, 213.84895176899218, 219.20418072270922, 223.97714570033662, 232.51659078263637, 241.5299204538797, 275.26272195178467, 275.31840575863316, 275.31840575863316, 29004.456873589876, 100787.48391272749, 64042.23265314873, 372338.2279011766, 770.7610261000082, 263798.81021756306, 33871.561294449064, 116186.45300220675, 18392.004914981604, 57740.36653548943, 986323.2052178595, 65313.51061499473, 11230.286376891, 328507.83892737346, 5253.5649171624145, 986323.2053057571, 149106.06487652633, 169642.89205811088, 398591.37496389454, 124221.09409799024, 16445.392008089024, 9220.517767637879, 8750.22874784683, 8750.22874784683, 8750.22874784683, 4900.772031237495, 3673.420388042983, 3536.3707728346826, 3536.3707728346826, 3130.345157282445, 2748.0399033623335, 1795.0213492550013, 1443.0536989073169, 1392.916796027431, 1250.6639212423943, 464.3861200415782, 464.3861200415782, 290.49257446256985, 30947.717700620313, 30947.717700620313, 33871.561294449064, 57740.36653548943, 58599.82040028114, 156686.84312032541, 372338.2279011766, 109536.94041956881, 315613.0596712927, 398591.37496389454, 65.43901146001308, 76.10399183484527, 29004.456873589876, 100787.48391272749, 41160.56027395241, 38688.70539033964, 10079.938240988182, 10079.938240988182, 10079.938240988182, 10079.938240988182, 8821.768089465573, 7781.077861413048, 5202.650679084683, 2542.6908825850837, 1954.4476915476655, 1826.134476479086, 1247.6520169813796, 1180.6241366817392, 914.8406175160856, 769.968522566918, 765.6607477387722, 722.9389069012642, 699.9536694720301, 675.2635691429281, 558.5393643883688, 552.409144717155, 456.362838766993, 442.93854896117534, 376.50527798889516, 352.9306629512844, 318.83201233808, 291.36029359340387, 290.2713244603583, 287.90144985644764, 39766.250015135614, 22182.763754456882, 11379.83458916303, 6221.7633517805425, 6221.7633517805425, 1241.272466047041, 1241.272466047041, 275.31840575863316, 275.31840575863316, 30947.717700620313, 30947.717700620313, 58599.82040028114, 249659.92190611354, 141840.30533440562, 180468.7921449618, 180468.7921449618, 398591.37496389454, 109536.94041956881, 372338.2279011766, 329641.557616144, 65.43901146001308, 76.10399183484527, 77.31719547461854, 82.10615029381944, 149.91479754536314, 156.71925142441728, 172.66209351744905, 177.9929893321524, 178.98464472827618, 186.72659140996984, 29004.456873589876, 100787.48391272749, 156686.84312032541, 64042.23265314873, 770.7610261000082, 263798.81021756306, 305406.7348011425, 33871.561294449064, 315613.0596712927, 116186.45300220675, 26642.279651611163, 17659.856280062613, 17659.856280062613, 17659.856280062613, 9739.760335445144, 3174.4843320623754, 3174.4843320623754, 3174.4843320623754, 3174.4843320623754, 1008.5540710258018, 116186.45300220675, 141840.30533440562, 58599.82040028114, 329641.557616144, 372338.2279011766, 65.43901146001308, 76.10399183484527, 77.31719547461854, 82.10615029381944, 149.91479754536314, 156.71925142441728, 172.66209351744905, 177.9929893321524, 178.98464472827618, 186.72659140996984, 205.38365407084862, 211.8436161392564, 213.84895176899218, 219.20418072270922, 223.97714570033662, 29004.456873589876, 100787.48391272749, 156686.84312032541, 64042.23265314873, 770.7610261000082, 263798.81021756306, 305406.7348011425, 33871.561294449064, 315613.0596712927, 18392.004914981604, 57740.36653548943, 986323.2052178595, 65313.51061499473, 11230.286376891, 328507.83892737346, 23285.462454958648, 20252.700507916954, 19098.510304278414, 19098.510304278414, 19098.510304278414, 29922.862951134077, 2852.5101245715828, 4831.444068786947, 141840.30533440562, 65.43901146001308, 76.10399183484527, 77.31719547461854, 82.10615029381944, 149.91479754536314, 156.71925142441728, 172.66209351744905, 177.9929893321524, 178.98464472827618, 186.72659140996984, 205.38365407084862, 211.8436161392564, 213.84895176899218, 219.20418072270922, 223.97714570033662, 232.51659078263637, 241.5299204538797, 275.26272195178467, 275.31840575863316, 275.31840575863316, 282.2352535484673, 29004.456873589876, 100787.48391272749, 156686.84312032541, 64042.23265314873, 372338.2279011766, 770.7610261000082, 329641.557616144, 263798.81021756306, 305406.7348011425, 33871.561294449064, 315613.0596712927, 116186.45300220675, 18392.004914981604, 57740.36653548943, 986323.2052178595, 65313.51061499473, 11230.286376891, 328507.83892737346, 5253.5649171624145, 986323.2053057571, 249659.92190611354, 27351.432960223003, 20293.908137819726, 20293.908137819726, 20293.908137819726, 5245.60190417702, 2191.251993754653, 33992.83107122682, 65.43901146001308, 76.10399183484527, 77.31719547461854, 82.10615029381944, 149.91479754536314, 156.71925142441728, 172.66209351744905, 177.9929893321524, 178.98464472827618, 186.72659140996984, 205.38365407084862, 211.8436161392564, 213.84895176899218, 219.20418072270922, 223.97714570033662, 232.51659078263637, 241.5299204538797, 275.26272195178467, 275.31840575863316, 275.31840575863316, 282.2352535484673, 282.4214978086455, 287.90144985644764, 29004.456873589876, 100787.48391272749, 156686.84312032541, 64042.23265314873, 372338.2279011766, 770.7610261000082, 329641.557616144, 263798.81021756306, 305406.7348011425, 33871.561294449064, 315613.0596712927, 116186.45300220675, 18392.004914981604, 57740.36653548943, 986323.2052178595, 65313.51061499473, 11230.286376891, 328507.83892737346, 5253.5649171624145, 986323.2053057571, 249659.92190611354, 149106.06487652633, 169642.89205811088, 19725.24041926229, 8806.461860149857, 8806.461860149857, 6436.439853892149, 3031.4483267377373, 2411.572771942239, 2382.677569090509, 2137.609009284546, 1304.6432313954394, 1134.934642283725, 1033.3765191252187, 558.5929966287864, 528.329807615133, 379.4400734410463, 351.86978437141215, 282.4214978086455, 149.91479754536314, 20201.183884249713, 16193.696582776221, 30947.717700620313, 30947.717700620313, 100787.48391272749, 249659.92190611354, 329641.557616144, 65.43901146001308, 76.10399183484527, 77.31719547461854, 82.10615029381944, 156.71925142441728, 172.66209351744905, 372338.2279011766, 29004.456873589876, 156686.84312032541, 64042.23265314873, 770.7610261000082, 263798.81021756306, 26433.06582015703, 26433.06582015703, 14174.990393230313, 12259.197730675209, 116186.45300220675, 141840.30533440562, 65.43901146001308, 76.10399183484527, 77.31719547461854, 82.10615029381944, 149.91479754536314, 156.71925142441728, 172.66209351744905, 177.9929893321524, 178.98464472827618, 186.72659140996984, 205.38365407084862, 211.8436161392564, 213.84895176899218, 219.20418072270922, 223.97714570033662, 232.51659078263637, 241.5299204538797, 275.26272195178467, 275.31840575863316, 275.31840575863316, 282.2352535484673, 282.4214978086455, 287.90144985644764, 289.97379221304396, 372338.2279011766, 29004.456873589876, 100787.48391272749, 156686.84312032541, 64042.23265314873, 770.7610261000082, 329641.557616144, 263798.81021756306, 305406.7348011425, 33871.561294449064, 315613.0596712927, 18392.004914981604, 57740.36653548943, 986323.2052178595, 65313.51061499473, 11230.286376891, 328507.83892737346, 5253.5649171624145, 986323.2053057571, 249659.92190611354, 149106.06487652633, 169642.89205811088, 398591.37496389454, 124221.09409799024, 13162.787973613771, 10975.031411958676, 10975.031411958676, 8091.473436105818, 8091.473436105818, 7658.560436908843, 5620.771471897756, 13267.003234848426, 65.43901146001308, 76.10399183484527, 77.31719547461854, 82.10615029381944, 149.91479754536314, 156.71925142441728, 172.66209351744905, 177.9929893321524, 178.98464472827618, 186.72659140996984, 205.38365407084862, 211.8436161392564, 213.84895176899218, 219.20418072270922, 223.97714570033662, 232.51659078263637, 241.5299204538797, 275.26272195178467, 275.31840575863316, 275.31840575863316, 282.2352535484673, 282.4214978086455, 29004.456873589876, 100787.48391272749, 156686.84312032541, 64042.23265314873, 372338.2279011766, 770.7610261000082, 329641.557616144, 263798.81021756306, 305406.7348011425, 33871.561294449064, 315613.0596712927, 116186.45300220675, 18392.004914981604, 57740.36653548943, 986323.2052178595, 65313.51061499473, 11230.286376891, 328507.83892737346, 5253.5649171624145, 986323.2053057571, 249659.92190611354, 149106.06487652633, 42090.442706325295, 4630.451140879859, 4299.524194816899, 3567.946392299728, 2551.390348393273, 2551.390348393273, 13267.003234848426, 65.43901146001308, 76.10399183484527, 77.31719547461854, 82.10615029381944, 149.91479754536314, 156.71925142441728, 172.66209351744905, 177.9929893321524, 178.98464472827618, 186.72659140996984, 205.38365407084862, 211.8436161392564, 213.84895176899218, 219.20418072270922, 223.97714570033662, 232.51659078263637, 241.5299204538797, 275.26272195178467, 275.31840575863316, 275.31840575863316, 282.2352535484673, 282.4214978086455, 287.90144985644764, 29004.456873589876, 100787.48391272749, 156686.84312032541, 64042.23265314873, 372338.2279011766, 770.7610261000082, 329641.557616144, 263798.81021756306, 305406.7348011425, 33871.561294449064, 315613.0596712927, 116186.45300220675, 18392.004914981604, 57740.36653548943, 986323.2052178595, 65313.51061499473, 11230.286376891, 328507.83892737346, 5253.5649171624145, 986323.2053057571, 249659.92190611354, 149106.06487652633, 169642.89205811088, 14490.101443357873, 7416.534870199892, 7416.534870199892, 3154.9231620944433, 1964.7538569936746, 16193.696582776221, 58599.82040028114, 100787.48391272749, 141840.30533440562, 116186.45300220675, 65.43901146001308, 76.10399183484527, 77.31719547461854, 82.10615029381944, 149.91479754536314, 156.71925142441728, 172.66209351744905, 177.9929893321524, 178.98464472827618, 186.72659140996984, 205.38365407084862, 211.8436161392564, 213.84895176899218, 219.20418072270922, 223.97714570033662, 232.51659078263637, 241.5299204538797, 275.26272195178467, 275.31840575863316, 275.31840575863316, 29004.456873589876, 156686.84312032541, 64042.23265314873, 372338.2279011766, 770.7610261000082, 329641.557616144, 263798.81021756306, 305406.7348011425, 33871.561294449064, 315613.0596712927, 18392.004914981604, 57740.36653548943, 986323.2052178595, 65313.51061499473, 11230.286376891, 328507.83892737346, 5253.5649171624145, 986323.2053057571, 249659.92190611354, 149106.06487652633, 21315.643437533752, 15026.982620560522, 6289.789716006591, 6086.814569745021, 3214.1991542678697, 65.43901146001308, 76.10399183484527, 77.31719547461854, 82.10615029381944, 149.91479754536314, 156.71925142441728, 172.66209351744905, 177.9929893321524, 178.98464472827618, 186.72659140996984, 205.38365407084862, 211.8436161392564, 213.84895176899218, 219.20418072270922, 223.97714570033662, 232.51659078263637, 241.5299204538797, 275.26272195178467, 275.31840575863316, 275.31840575863316, 282.2352535484673, 282.4214978086455, 287.90144985644764, 289.97379221304396, 290.2713244603583, 29004.456873589876, 100787.48391272749, 156686.84312032541, 64042.23265314873, 372338.2279011766, 770.7610261000082, 329641.557616144, 263798.81021756306, 305406.7348011425, 33871.561294449064, 315613.0596712927, 116186.45300220675, 18392.004914981604, 57740.36653548943, 986323.2052178595, 65313.51061499473, 11230.286376891, 328507.83892737346, 5253.5649171624145, 986323.2053057571, 249659.92190611354, 149106.06487652633, 169642.89205811088, 398591.37496389454, 9982.243615157471, 9210.931779898749, 1926.1483080967369, 1150.7858760399747, 1109.8088676052628, 52474.41201777192, 100787.48391272749, 141840.30533440562, 305406.7348011425, 329641.557616144, 65.43901146001308, 76.10399183484527, 77.31719547461854, 82.10615029381944, 149.91479754536314, 156.71925142441728, 172.66209351744905, 177.9929893321524, 178.98464472827618, 186.72659140996984, 205.38365407084862, 211.8436161392564, 213.84895176899218, 219.20418072270922, 223.97714570033662, 232.51659078263637, 241.5299204538797, 275.26272195178467, 275.31840575863316, 275.31840575863316, 29004.456873589876, 156686.84312032541, 64042.23265314873, 372338.2279011766, 770.7610261000082, 263798.81021756306, 33871.561294449064, 315613.0596712927, 116186.45300220675, 18392.004914981604, 57740.36653548943, 986323.2052178595, 65313.51061499473, 11230.286376891, 328507.83892737346, 5253.5649171624145, 986323.2053057571, 249659.92190611354, 149106.06487652633, 169642.89205811088, 8570.135789565797, 8570.135789565797, 8570.135789565797, 6373.328308930602, 6083.434276581274, 815.3539523021057, 33992.83107122682, 65.43901146001308, 76.10399183484527, 77.31719547461854, 82.10615029381944, 149.91479754536314, 156.71925142441728, 172.66209351744905, 177.9929893321524, 178.98464472827618, 186.72659140996984, 205.38365407084862, 211.8436161392564, 213.84895176899218, 219.20418072270922, 223.97714570033662, 232.51659078263637, 241.5299204538797, 275.26272195178467, 275.31840575863316, 275.31840575863316, 282.2352535484673, 282.4214978086455, 287.90144985644764, 29004.456873589876, 100787.48391272749, 156686.84312032541, 64042.23265314873, 372338.2279011766, 770.7610261000082, 329641.557616144, 263798.81021756306, 305406.7348011425, 33871.561294449064, 315613.0596712927, 116186.45300220675, 18392.004914981604, 57740.36653548943, 986323.2052178595, 65313.51061499473, 11230.286376891, 328507.83892737346, 5253.5649171624145, 986323.2053057571, 249659.92190611354, 149106.06487652633, 169642.89205811088, 15943.481059767317, 15910.665750623239, 2633.1950244829018, 2451.4750029672223, 1299.2745809881096, 1135.7190875139095, 782.9661829787824, 782.9661829787824, 65.43901146001308, 76.10399183484527, 77.31719547461854, 82.10615029381944, 149.91479754536314, 156.71925142441728, 172.66209351744905, 177.9929893321524, 178.98464472827618, 186.72659140996984, 205.38365407084862, 211.8436161392564, 213.84895176899218, 219.20418072270922, 223.97714570033662, 232.51659078263637, 241.5299204538797, 275.26272195178467, 275.31840575863316, 275.31840575863316, 282.2352535484673, 282.4214978086455, 29004.456873589876, 100787.48391272749, 156686.84312032541, 64042.23265314873, 372338.2279011766, 770.7610261000082, 329641.557616144, 263798.81021756306, 305406.7348011425, 33871.561294449064, 315613.0596712927, 116186.45300220675, 18392.004914981604, 57740.36653548943, 986323.2052178595, 65313.51061499473, 11230.286376891, 328507.83892737346, 5253.5649171624145, 986323.2053057571, 249659.92190611354, 149106.06487652633, 9341.122567309114, 8701.983741080378, 3876.621523620262, 3676.3700219163, 3022.446466223482, 752.3405042416189, 752.3405042416189, 441.9483713858065, 302.0723000428383, 302.0723000428383, 65.43901146001308, 76.10399183484527, 77.31719547461854, 82.10615029381944, 149.91479754536314, 156.71925142441728, 172.66209351744905, 177.9929893321524, 178.98464472827618, 186.72659140996984, 205.38365407084862, 211.8436161392564, 213.84895176899218, 219.20418072270922, 223.97714570033662, 232.51659078263637, 241.5299204538797, 275.26272195178467, 275.31840575863316, 275.31840575863316, 29004.456873589876, 100787.48391272749, 156686.84312032541, 64042.23265314873, 372338.2279011766, 770.7610261000082, 329641.557616144, 263798.81021756306, 305406.7348011425, 33871.561294449064, 315613.0596712927, 116186.45300220675, 18392.004914981604, 57740.36653548943, 986323.2052178595, 65313.51061499473, 11230.286376891, 328507.83892737346, 5253.5649171624145, 986323.2053057571], \"Category\": [\"Default\", \"Default\", \"Default\", \"Default\", \"Default\", \"Default\", \"Default\", \"Default\", \"Default\", \"Default\", \"Default\", \"Default\", \"Default\", \"Default\", \"Default\", \"Default\", \"Default\", \"Default\", \"Default\", \"Default\", \"Default\", \"Default\", \"Default\", \"Default\", \"Default\", \"Default\", \"Default\", \"Default\", \"Default\", \"Default\", \"Topic1\", \"Topic1\", \"Topic1\", \"Topic1\", \"Topic1\", \"Topic1\", \"Topic1\", \"Topic1\", \"Topic1\", \"Topic1\", \"Topic1\", \"Topic1\", \"Topic1\", \"Topic1\", \"Topic1\", \"Topic1\", \"Topic1\", \"Topic1\", \"Topic1\", \"Topic1\", \"Topic1\", \"Topic1\", \"Topic1\", \"Topic1\", \"Topic1\", \"Topic1\", \"Topic1\", \"Topic1\", \"Topic1\", \"Topic1\", \"Topic1\", \"Topic1\", \"Topic1\", \"Topic1\", \"Topic1\", \"Topic1\", \"Topic1\", \"Topic1\", \"Topic2\", \"Topic2\", \"Topic2\", \"Topic2\", \"Topic2\", \"Topic2\", \"Topic2\", \"Topic2\", \"Topic2\", \"Topic2\", \"Topic2\", \"Topic2\", \"Topic2\", \"Topic2\", \"Topic2\", \"Topic2\", \"Topic2\", \"Topic2\", \"Topic2\", \"Topic2\", \"Topic2\", \"Topic2\", \"Topic2\", \"Topic2\", \"Topic2\", \"Topic2\", \"Topic2\", \"Topic2\", \"Topic2\", \"Topic2\", \"Topic2\", \"Topic2\", \"Topic2\", \"Topic2\", \"Topic2\", \"Topic2\", \"Topic2\", \"Topic2\", \"Topic2\", \"Topic2\", \"Topic2\", \"Topic2\", \"Topic2\", \"Topic2\", \"Topic2\", \"Topic2\", \"Topic2\", \"Topic3\", \"Topic3\", \"Topic3\", \"Topic3\", \"Topic3\", \"Topic3\", \"Topic3\", \"Topic3\", \"Topic3\", \"Topic3\", \"Topic3\", \"Topic3\", \"Topic3\", \"Topic3\", \"Topic3\", \"Topic3\", \"Topic3\", \"Topic3\", \"Topic3\", \"Topic3\", \"Topic3\", \"Topic3\", \"Topic3\", \"Topic3\", \"Topic3\", \"Topic3\", \"Topic3\", \"Topic3\", \"Topic3\", \"Topic3\", \"Topic3\", \"Topic3\", \"Topic3\", \"Topic4\", \"Topic4\", \"Topic4\", \"Topic4\", \"Topic4\", \"Topic4\", \"Topic4\", \"Topic4\", \"Topic4\", \"Topic4\", \"Topic4\", \"Topic4\", \"Topic4\", \"Topic4\", \"Topic4\", \"Topic4\", \"Topic4\", \"Topic4\", \"Topic4\", \"Topic4\", \"Topic4\", \"Topic4\", \"Topic4\", \"Topic4\", \"Topic4\", \"Topic4\", \"Topic4\", \"Topic4\", \"Topic4\", \"Topic4\", \"Topic4\", \"Topic4\", \"Topic4\", \"Topic4\", \"Topic4\", \"Topic4\", \"Topic4\", \"Topic4\", \"Topic4\", \"Topic4\", \"Topic4\", \"Topic4\", \"Topic5\", \"Topic5\", \"Topic5\", \"Topic5\", \"Topic5\", \"Topic5\", \"Topic5\", \"Topic5\", \"Topic5\", \"Topic5\", \"Topic5\", \"Topic5\", \"Topic5\", \"Topic5\", \"Topic5\", \"Topic5\", \"Topic5\", \"Topic5\", \"Topic5\", \"Topic5\", \"Topic5\", \"Topic5\", \"Topic5\", \"Topic5\", \"Topic5\", \"Topic5\", \"Topic5\", \"Topic5\", \"Topic5\", \"Topic5\", \"Topic5\", \"Topic5\", \"Topic5\", \"Topic5\", \"Topic5\", \"Topic5\", \"Topic6\", \"Topic6\", \"Topic6\", \"Topic6\", \"Topic6\", \"Topic6\", \"Topic6\", \"Topic6\", \"Topic6\", \"Topic6\", \"Topic6\", \"Topic6\", \"Topic6\", \"Topic6\", \"Topic6\", \"Topic6\", \"Topic6\", \"Topic6\", \"Topic6\", \"Topic6\", \"Topic6\", \"Topic6\", \"Topic6\", \"Topic6\", \"Topic6\", \"Topic6\", \"Topic6\", \"Topic6\", \"Topic6\", \"Topic6\", \"Topic6\", \"Topic6\", \"Topic6\", \"Topic6\", \"Topic6\", \"Topic6\", \"Topic6\", \"Topic6\", \"Topic6\", \"Topic7\", \"Topic7\", \"Topic7\", \"Topic7\", \"Topic7\", \"Topic7\", \"Topic7\", \"Topic7\", \"Topic7\", \"Topic7\", \"Topic7\", \"Topic7\", \"Topic7\", \"Topic7\", \"Topic7\", \"Topic7\", \"Topic7\", \"Topic7\", \"Topic7\", \"Topic7\", \"Topic7\", \"Topic7\", \"Topic7\", \"Topic7\", \"Topic7\", \"Topic7\", \"Topic7\", \"Topic7\", \"Topic7\", \"Topic7\", \"Topic7\", \"Topic7\", \"Topic7\", \"Topic7\", \"Topic7\", \"Topic7\", \"Topic7\", \"Topic7\", \"Topic7\", \"Topic7\", \"Topic8\", \"Topic8\", \"Topic8\", \"Topic8\", \"Topic8\", \"Topic8\", \"Topic8\", \"Topic8\", \"Topic8\", \"Topic8\", \"Topic8\", \"Topic8\", \"Topic8\", \"Topic8\", \"Topic8\", \"Topic8\", \"Topic8\", \"Topic8\", \"Topic8\", \"Topic8\", \"Topic8\", \"Topic8\", \"Topic8\", \"Topic8\", \"Topic8\", \"Topic8\", \"Topic8\", \"Topic8\", \"Topic8\", \"Topic8\", \"Topic8\", \"Topic8\", \"Topic8\", \"Topic8\", \"Topic8\", \"Topic8\", \"Topic8\", \"Topic8\", \"Topic8\", \"Topic8\", \"Topic8\", \"Topic8\", \"Topic8\", \"Topic8\", \"Topic8\", \"Topic8\", \"Topic8\", \"Topic8\", \"Topic8\", \"Topic8\", \"Topic8\", \"Topic8\", \"Topic8\", \"Topic8\", \"Topic8\", \"Topic9\", \"Topic9\", \"Topic9\", \"Topic9\", \"Topic9\", \"Topic9\", \"Topic9\", \"Topic9\", \"Topic9\", \"Topic9\", \"Topic9\", \"Topic9\", \"Topic9\", \"Topic9\", \"Topic9\", \"Topic9\", \"Topic9\", \"Topic9\", \"Topic9\", \"Topic9\", \"Topic9\", \"Topic9\", \"Topic9\", \"Topic9\", \"Topic9\", \"Topic9\", \"Topic9\", \"Topic9\", \"Topic9\", \"Topic9\", \"Topic9\", \"Topic9\", \"Topic9\", \"Topic9\", \"Topic9\", \"Topic9\", \"Topic9\", \"Topic9\", \"Topic9\", \"Topic9\", \"Topic9\", \"Topic9\", \"Topic9\", \"Topic9\", \"Topic9\", \"Topic9\", \"Topic9\", \"Topic9\", \"Topic9\", \"Topic9\", \"Topic10\", \"Topic10\", \"Topic10\", \"Topic10\", \"Topic10\", \"Topic10\", \"Topic10\", \"Topic10\", \"Topic10\", \"Topic10\", \"Topic10\", \"Topic10\", \"Topic10\", \"Topic10\", \"Topic10\", \"Topic10\", \"Topic10\", \"Topic10\", \"Topic10\", \"Topic10\", \"Topic10\", \"Topic10\", \"Topic10\", \"Topic10\", \"Topic10\", \"Topic10\", \"Topic10\", \"Topic10\", \"Topic10\", \"Topic10\", \"Topic10\", \"Topic10\", \"Topic11\", \"Topic11\", \"Topic11\", \"Topic11\", \"Topic11\", \"Topic11\", \"Topic11\", \"Topic11\", \"Topic11\", \"Topic11\", \"Topic11\", \"Topic11\", \"Topic11\", \"Topic11\", \"Topic11\", \"Topic11\", \"Topic11\", \"Topic11\", \"Topic11\", \"Topic11\", \"Topic11\", \"Topic11\", \"Topic11\", \"Topic11\", \"Topic11\", \"Topic11\", \"Topic11\", \"Topic11\", \"Topic11\", \"Topic11\", \"Topic12\", \"Topic12\", \"Topic12\", \"Topic12\", \"Topic12\", \"Topic12\", \"Topic12\", \"Topic12\", \"Topic12\", \"Topic12\", \"Topic12\", \"Topic12\", \"Topic12\", \"Topic12\", \"Topic12\", \"Topic12\", \"Topic12\", \"Topic12\", \"Topic12\", \"Topic12\", \"Topic12\", \"Topic12\", \"Topic12\", \"Topic12\", \"Topic12\", \"Topic12\", \"Topic12\", \"Topic12\", \"Topic12\", \"Topic12\", \"Topic12\", \"Topic12\", \"Topic12\", \"Topic12\", \"Topic12\", \"Topic12\", \"Topic12\", \"Topic12\", \"Topic12\", \"Topic12\", \"Topic13\", \"Topic13\", \"Topic13\", \"Topic13\", \"Topic13\", \"Topic13\", \"Topic13\", \"Topic13\", \"Topic13\", \"Topic13\", \"Topic13\", \"Topic13\", \"Topic13\", \"Topic13\", \"Topic13\", \"Topic13\", \"Topic13\", \"Topic13\", \"Topic13\", \"Topic13\", \"Topic13\", \"Topic13\", \"Topic13\", \"Topic13\", \"Topic13\", \"Topic13\", \"Topic13\", \"Topic13\", \"Topic13\", \"Topic13\", \"Topic13\", \"Topic13\", \"Topic13\", \"Topic13\", \"Topic13\", \"Topic13\", \"Topic13\", \"Topic13\", \"Topic13\", \"Topic13\", \"Topic13\", \"Topic13\", \"Topic13\", \"Topic13\", \"Topic13\", \"Topic14\", \"Topic14\", \"Topic14\", \"Topic14\", \"Topic14\", \"Topic14\", \"Topic14\", \"Topic14\", \"Topic14\", \"Topic14\", \"Topic14\", \"Topic14\", \"Topic14\", \"Topic14\", \"Topic14\", \"Topic14\", \"Topic14\", \"Topic14\", \"Topic14\", \"Topic14\", \"Topic14\", \"Topic14\", \"Topic14\", \"Topic14\", \"Topic14\", \"Topic14\", \"Topic14\", \"Topic14\", \"Topic14\", \"Topic14\", \"Topic14\", \"Topic14\", \"Topic14\", \"Topic14\", \"Topic14\", \"Topic14\", \"Topic14\", \"Topic14\", \"Topic14\", \"Topic14\", \"Topic14\", \"Topic14\", \"Topic14\", \"Topic14\", \"Topic14\", \"Topic14\", \"Topic14\", \"Topic14\", \"Topic14\", \"Topic14\", \"Topic14\", \"Topic15\", \"Topic15\", \"Topic15\", \"Topic15\", \"Topic15\", \"Topic15\", \"Topic15\", \"Topic15\", \"Topic15\", \"Topic15\", \"Topic15\", \"Topic15\", \"Topic15\", \"Topic15\", \"Topic15\", \"Topic15\", \"Topic15\", \"Topic15\", \"Topic15\", \"Topic15\", \"Topic15\", \"Topic15\", \"Topic15\", \"Topic15\", \"Topic15\", \"Topic15\", \"Topic15\", \"Topic15\", \"Topic15\", \"Topic15\", \"Topic15\", \"Topic15\", \"Topic15\", \"Topic15\", \"Topic15\", \"Topic15\", \"Topic15\", \"Topic15\", \"Topic15\", \"Topic15\", \"Topic15\", \"Topic15\", \"Topic15\", \"Topic15\", \"Topic15\", \"Topic15\", \"Topic15\", \"Topic15\", \"Topic15\", \"Topic15\", \"Topic15\", \"Topic15\", \"Topic15\", \"Topic16\", \"Topic16\", \"Topic16\", \"Topic16\", \"Topic16\", \"Topic16\", \"Topic16\", \"Topic16\", \"Topic16\", \"Topic16\", \"Topic16\", \"Topic16\", \"Topic16\", \"Topic16\", \"Topic16\", \"Topic16\", \"Topic16\", \"Topic16\", \"Topic16\", \"Topic16\", \"Topic16\", \"Topic16\", \"Topic16\", \"Topic16\", \"Topic16\", \"Topic16\", \"Topic16\", \"Topic16\", \"Topic16\", \"Topic16\", \"Topic16\", \"Topic16\", \"Topic16\", \"Topic16\", \"Topic16\", \"Topic16\", \"Topic17\", \"Topic17\", \"Topic17\", \"Topic17\", \"Topic17\", \"Topic17\", \"Topic17\", \"Topic17\", \"Topic17\", \"Topic17\", \"Topic17\", \"Topic17\", \"Topic17\", \"Topic17\", \"Topic17\", \"Topic17\", \"Topic17\", \"Topic17\", \"Topic17\", \"Topic17\", \"Topic17\", \"Topic17\", \"Topic17\", \"Topic17\", \"Topic17\", \"Topic17\", \"Topic17\", \"Topic17\", \"Topic17\", \"Topic17\", \"Topic17\", \"Topic17\", \"Topic17\", \"Topic17\", \"Topic17\", \"Topic17\", \"Topic17\", \"Topic17\", \"Topic17\", \"Topic17\", \"Topic17\", \"Topic17\", \"Topic17\", \"Topic17\", \"Topic17\", \"Topic17\", \"Topic17\", \"Topic17\", \"Topic17\", \"Topic17\", \"Topic17\", \"Topic17\", \"Topic17\", \"Topic17\", \"Topic18\", \"Topic18\", \"Topic18\", \"Topic18\", \"Topic18\", \"Topic18\", \"Topic18\", \"Topic18\", \"Topic18\", \"Topic18\", \"Topic18\", \"Topic18\", \"Topic18\", \"Topic18\", \"Topic18\", \"Topic18\", \"Topic18\", \"Topic18\", \"Topic18\", \"Topic18\", \"Topic18\", \"Topic18\", \"Topic18\", \"Topic18\", \"Topic18\", \"Topic18\", \"Topic18\", \"Topic18\", \"Topic18\", \"Topic18\", \"Topic18\", \"Topic18\", \"Topic18\", \"Topic18\", \"Topic18\", \"Topic18\", \"Topic18\", \"Topic18\", \"Topic18\", \"Topic18\", \"Topic18\", \"Topic18\", \"Topic18\", \"Topic18\", \"Topic18\", \"Topic18\", \"Topic18\", \"Topic18\", \"Topic18\", \"Topic18\", \"Topic18\", \"Topic18\", \"Topic19\", \"Topic19\", \"Topic19\", \"Topic19\", \"Topic19\", \"Topic19\", \"Topic19\", \"Topic19\", \"Topic19\", \"Topic19\", \"Topic19\", \"Topic19\", \"Topic19\", \"Topic19\", \"Topic19\", \"Topic19\", \"Topic19\", \"Topic19\", \"Topic19\", \"Topic19\", \"Topic19\", \"Topic19\", \"Topic19\", \"Topic19\", \"Topic19\", \"Topic19\", \"Topic19\", \"Topic19\", \"Topic19\", \"Topic19\", \"Topic19\", \"Topic19\", \"Topic19\", \"Topic19\", \"Topic19\", \"Topic19\", \"Topic19\", \"Topic19\", \"Topic19\", \"Topic19\", \"Topic19\", \"Topic19\", \"Topic19\", \"Topic19\", \"Topic19\", \"Topic19\", \"Topic19\", \"Topic19\", \"Topic19\", \"Topic19\", \"Topic19\", \"Topic19\", \"Topic19\", \"Topic20\", \"Topic20\", \"Topic20\", \"Topic20\", \"Topic20\", \"Topic20\", \"Topic20\", \"Topic20\", \"Topic20\", \"Topic20\", \"Topic20\", \"Topic20\", \"Topic20\", \"Topic20\", \"Topic20\", \"Topic20\", \"Topic20\", \"Topic20\", \"Topic20\", \"Topic20\", \"Topic20\", \"Topic20\", \"Topic20\", \"Topic20\", \"Topic20\", \"Topic20\", \"Topic20\", \"Topic20\", \"Topic20\", \"Topic20\", \"Topic20\", \"Topic20\", \"Topic20\", \"Topic20\", \"Topic20\", \"Topic20\", \"Topic20\", \"Topic20\", \"Topic20\", \"Topic20\", \"Topic20\", \"Topic20\", \"Topic20\", \"Topic20\", \"Topic20\", \"Topic20\", \"Topic20\", \"Topic20\", \"Topic20\", \"Topic20\", \"Topic21\", \"Topic21\", \"Topic21\", \"Topic21\", \"Topic21\", \"Topic21\", \"Topic21\", \"Topic21\", \"Topic21\", \"Topic21\", \"Topic21\", \"Topic21\", \"Topic21\", \"Topic21\", \"Topic21\", \"Topic21\", \"Topic21\", \"Topic21\", \"Topic21\", \"Topic21\", \"Topic21\", \"Topic21\", \"Topic21\", \"Topic21\", \"Topic21\", \"Topic21\", \"Topic21\", \"Topic21\", \"Topic21\", \"Topic21\", \"Topic21\", \"Topic21\", \"Topic21\", \"Topic21\", \"Topic21\", \"Topic21\", \"Topic21\", \"Topic21\", \"Topic21\", \"Topic21\", \"Topic21\", \"Topic21\", \"Topic21\", \"Topic21\", \"Topic21\", \"Topic21\", \"Topic21\", \"Topic21\", \"Topic21\", \"Topic21\", \"Topic21\", \"Topic21\", \"Topic21\", \"Topic21\", \"Topic22\", \"Topic22\", \"Topic22\", \"Topic22\", \"Topic22\", \"Topic22\", \"Topic22\", \"Topic22\", \"Topic22\", \"Topic22\", \"Topic22\", \"Topic22\", \"Topic22\", \"Topic22\", \"Topic22\", \"Topic22\", \"Topic22\", \"Topic22\", \"Topic22\", \"Topic22\", \"Topic22\", \"Topic22\", \"Topic22\", \"Topic22\", \"Topic22\", \"Topic22\", \"Topic22\", \"Topic22\", \"Topic22\", \"Topic22\", \"Topic22\", \"Topic22\", \"Topic22\", \"Topic22\", \"Topic22\", \"Topic22\", \"Topic22\", \"Topic22\", \"Topic22\", \"Topic22\", \"Topic22\", \"Topic22\", \"Topic22\", \"Topic22\", \"Topic22\", \"Topic22\", \"Topic22\", \"Topic22\", \"Topic22\", \"Topic22\", \"Topic23\", \"Topic23\", \"Topic23\", \"Topic23\", \"Topic23\", \"Topic23\", \"Topic23\", \"Topic23\", \"Topic23\", \"Topic23\", \"Topic23\", \"Topic23\", \"Topic23\", \"Topic23\", \"Topic23\", \"Topic23\", \"Topic23\", \"Topic23\", \"Topic23\", \"Topic23\", \"Topic23\", \"Topic23\", \"Topic23\", \"Topic23\", \"Topic23\", \"Topic23\", \"Topic23\", \"Topic23\", \"Topic23\", \"Topic23\", \"Topic23\", \"Topic23\", \"Topic23\", \"Topic23\", \"Topic23\", \"Topic23\", \"Topic23\", \"Topic23\", \"Topic23\", \"Topic23\", \"Topic23\", \"Topic23\", \"Topic23\", \"Topic23\", \"Topic23\", \"Topic23\", \"Topic23\", \"Topic23\", \"Topic23\", \"Topic23\", \"Topic23\", \"Topic23\", \"Topic23\", \"Topic24\", \"Topic24\", \"Topic24\", \"Topic24\", \"Topic24\", \"Topic24\", \"Topic24\", \"Topic24\", \"Topic24\", \"Topic24\", \"Topic24\", \"Topic24\", \"Topic24\", \"Topic24\", \"Topic24\", \"Topic24\", \"Topic24\", \"Topic24\", \"Topic24\", \"Topic24\", \"Topic24\", \"Topic24\", \"Topic24\", \"Topic24\", \"Topic24\", \"Topic24\", \"Topic24\", \"Topic24\", \"Topic24\", \"Topic24\", \"Topic24\", \"Topic24\", \"Topic24\", \"Topic24\", \"Topic24\", \"Topic24\", \"Topic24\", \"Topic24\", \"Topic24\", \"Topic24\", \"Topic24\", \"Topic24\", \"Topic24\", \"Topic24\", \"Topic24\", \"Topic24\", \"Topic24\", \"Topic24\", \"Topic24\", \"Topic24\", \"Topic24\", \"Topic24\", \"Topic25\", \"Topic25\", \"Topic25\", \"Topic25\", \"Topic25\", \"Topic25\", \"Topic25\", \"Topic25\", \"Topic25\", \"Topic25\", \"Topic25\", \"Topic25\", \"Topic25\", \"Topic25\", \"Topic25\", \"Topic25\", \"Topic25\", \"Topic25\", \"Topic25\", \"Topic25\", \"Topic25\", \"Topic25\", \"Topic25\", \"Topic25\", \"Topic25\", \"Topic25\", \"Topic25\", \"Topic25\", \"Topic25\", \"Topic25\", \"Topic25\", \"Topic25\", \"Topic25\", \"Topic25\", \"Topic25\", \"Topic25\", \"Topic25\", \"Topic25\", \"Topic25\", \"Topic25\", \"Topic25\", \"Topic25\", \"Topic25\", \"Topic25\", \"Topic25\", \"Topic25\", \"Topic25\", \"Topic25\", \"Topic25\", \"Topic25\"], \"logprob\": [30.0, 29.0, 28.0, 27.0, 26.0, 25.0, 24.0, 23.0, 22.0, 21.0, 20.0, 19.0, 18.0, 17.0, 16.0, 15.0, 14.0, 13.0, 12.0, 11.0, 10.0, 9.0, 8.0, 7.0, 6.0, 5.0, 4.0, 3.0, 2.0, 1.0, -3.5898, -2.1993, -2.6624, -3.3246, -3.2988, -3.3449, -2.3921, -2.6109, -3.254, -3.5873, -2.9291, -3.5618, -3.5618, -4.0445, -6.0599, -4.1314, -4.0673, -3.5537, -2.251, -2.251, -3.7444, -3.6402, -17.8245, -17.8245, -17.8245, -17.8245, -17.8245, -17.8245, -17.8245, -17.8245, -17.8245, -17.8245, -17.8245, -17.8245, -17.8245, -17.8245, -17.8245, -17.8245, -1.6408, -8.8275, -2.7715, -2.7715, -2.5053, -1.6244, -1.6244, -2.9503, -3.1639, -2.972, -3.2133, -4.2348, -5.3653, -17.6824, -17.6824, -17.6824, -17.6824, -17.6824, -17.6824, -17.6824, -17.6824, -17.6824, -17.6824, -17.6824, -17.6824, -17.6824, -17.6824, -17.6824, -17.6824, -17.6824, -17.6824, -17.6824, -17.6824, -17.6824, -17.6824, -17.6824, -17.6824, -17.6824, -17.6824, -17.6824, -17.6824, -17.6824, -17.6824, -17.6824, -17.6824, -17.6824, -17.6824, -3.0605, -3.0802, -3.1406, -3.9863, -4.2568, -4.9758, -4.9758, -4.985, -4.985, -4.985, -4.985, -5.2033, -5.2033, -5.2033, -7.6257, -8.3722, -4.5293, -6.973, -2.9787, -3.5402, -5.1764, -1.6751, -1.6751, -3.015, -2.8695, -2.9103, -3.2061, -4.2521, -2.984, -4.0603, -4.4927, -5.9626, -5.7308, -1.5776, -2.2774, -2.3329, -8.3411, -2.3846, -2.2697, -6.7483, -4.4485, -2.2439, -5.1228, -2.4282, -2.4809, -3.6795, -3.3438, -4.1119, -4.0511, -6.6117, -5.1402, -17.242, -17.242, -17.242, -17.242, -17.242, -17.242, -17.242, -17.242, -17.242, -17.242, -17.242, -17.242, -17.242, -17.242, -17.242, -17.242, -17.242, -17.242, -17.242, -17.242, -17.242, -17.242, -17.242, -17.242, -2.8981, -2.8981, -4.9184, -4.9212, -4.9369, -4.9822, -4.9822, -5.5886, -7.7472, -5.3248, -4.226, -3.5722, -2.841, -2.9427, -1.6534, -1.6534, -2.8294, -3.9423, -3.1601, -2.8274, -2.9827, -3.8089, -2.9627, -5.5121, -16.6855, -16.6855, -16.6855, -16.6855, -16.6855, -16.6855, -16.6855, -16.6855, -16.6855, -16.6855, -16.6855, -16.6855, -2.1985, -2.6459, -2.8311, -2.8311, -4.4231, -4.4231, -2.2621, -2.9371, -3.546, -2.6501, -2.266, -3.9928, -2.9021, -2.8716, -2.5962, -3.0349, -3.1531, -4.5896, -4.658, -16.0187, -16.0187, -16.0187, -16.0187, -8.085, -16.0187, -16.0187, -8.4284, -16.0187, -16.0187, -16.0187, -8.7629, -8.7629, -16.0187, -16.0187, -16.0187, -16.0187, -16.0187, -16.0187, -16.0187, -2.8107, -2.9626, -2.9845, -3.0667, -3.2133, -3.3711, -3.3917, -3.4559, -3.4946, -3.6067, -3.9797, -4.132, -4.151, -4.1998, -4.2158, -4.2569, -4.2569, -4.4572, -4.607, -4.9682, -5.1135, -5.3693, -5.5121, -5.5912, -5.8488, -6.1362, -6.422, -6.7405, -6.8971, -7.0529, -3.08, -2.752, -3.6409, -2.3236, -3.6403, -3.2122, -3.0571, -4.2974, -3.0558, -4.167, -1.0688, -1.1011, -1.2434, -4.2299, -3.8603, -15.662, -15.662, -15.662, -15.662, -15.662, -15.662, -15.662, -15.662, -15.662, -15.662, -15.662, -15.662, -15.662, -15.662, -15.662, -15.662, -15.662, -15.662, -15.662, -15.662, -15.662, -15.662, -15.662, -15.662, -15.662, -15.662, -15.662, -15.662, -15.662, -15.662, -15.662, -15.662, -15.662, -15.662, -15.662, -15.662, -15.662, -15.662, -15.662, -15.662, -15.662, -15.662, -15.662, -15.662, -15.662, -15.662, -15.662, -15.662, -15.662, -15.662, -5.7174, -1.805, -1.8589, -1.4751, -1.3988, -2.215, -3.6222, -3.7659, -3.2325, -6.1146, -15.4762, -15.4762, -15.4762, -15.4762, -15.4762, -15.4762, -15.4762, -15.4762, -15.4762, -15.4762, -15.4762, -15.4762, -15.4762, -15.4762, -15.4762, -15.4762, -15.4762, -15.4762, -15.4762, -15.4762, -15.4762, -15.4762, -15.4762, -15.4762, -15.4762, -15.4762, -15.4762, -15.4762, -15.4762, -15.4762, -15.4762, -15.4762, -15.4762, -15.4762, -15.4762, -15.4762, -15.4762, -15.4762, -15.4762, -15.4762, -2.527, -3.1057, -3.1581, -3.1581, -3.1581, -3.7378, -4.0262, -4.0642, -4.0642, -4.1862, -4.3165, -4.7426, -4.961, -4.9964, -5.1042, -6.0964, -6.0964, -6.5669, -2.6143, -2.6143, -2.6984, -3.2027, -3.2925, -2.6477, -2.267, -3.627, -2.6586, -3.0774, -15.3742, -15.3742, -15.3742, -15.3742, -1.368, -1.4299, -2.775, -2.775, -2.775, -2.775, -2.9084, -3.0339, -3.4365, -4.1527, -4.4159, -4.4838, -4.8651, -4.9203, -5.1756, -5.3483, -5.3539, -5.4114, -5.4437, -5.4797, -5.6698, -5.6809, -5.8723, -5.9022, -6.0651, -6.13, -6.2319, -6.3223, -6.3261, -6.3343, -1.3603, -1.944, -2.6115, -3.2154, -3.2154, -4.828, -4.828, -6.337, -6.337, -2.6095, -2.6095, -3.0313, -3.0612, -3.7841, -3.6754, -3.6754, -2.9739, -4.4966, -3.5069, -3.9584, -15.1593, -15.1593, -15.1593, -15.1593, -15.1593, -15.1593, -15.1593, -15.1593, -15.1593, -15.1593, -15.1593, -15.1593, -15.1593, -15.1593, -15.1593, -15.1593, -15.1593, -15.1593, -15.1593, -15.1593, -1.5462, -1.9574, -1.9574, -1.9574, -2.5526, -3.6739, -3.6739, -3.6739, -3.6739, -4.8212, -2.755, -2.6968, -4.4669, -4.0471, -4.1497, -14.9141, -14.9141, -14.9141, -14.9141, -14.9141, -14.9141, -14.9141, -14.9141, -14.9141, -14.9141, -14.9141, -14.9141, -14.9141, -14.9141, -14.9141, -14.9141, -14.9141, -14.9141, -14.9141, -14.9141, -14.9141, -14.9141, -14.9141, -14.9141, -14.9141, -14.9141, -14.9141, -14.9141, -14.9141, -14.9141, -1.6692, -1.8087, -1.8674, -1.8674, -1.8674, -1.9839, -4.4587, -4.5017, -3.7351, -14.8657, -14.8657, -14.8657, -14.8657, -14.8657, -14.8657, -14.8657, -14.8657, -14.8657, -14.8657, -14.8657, -14.8657, -14.8657, -14.8657, -14.8657, -14.8657, -14.8657, -14.8657, -14.8657, -14.8657, -14.8657, -14.8657, -14.8657, -14.8657, -14.8657, -14.8657, -14.8657, -14.8657, -14.8657, -14.8657, -14.8657, -14.8657, -14.8657, -14.8657, -14.8657, -14.8657, -14.8657, -14.8657, -14.8657, -14.8657, -14.8657, -14.8657, -1.4906, -1.7891, -1.7891, -1.7891, -3.1421, -4.0153, -1.5508, -14.8366, -14.8366, -14.8366, -14.8366, -14.8366, -14.8366, -14.8366, -14.8366, -14.8366, -14.8366, -14.8366, -14.8366, -14.8366, -14.8366, -14.8366, -14.8366, -14.8366, -14.8366, -14.8366, -14.8366, -14.8366, -14.8366, -14.8366, -14.8366, -14.8366, -14.8366, -14.8366, -14.8366, -14.8366, -14.8366, -14.8366, -14.8366, -14.8366, -14.8366, -14.8366, -14.8366, -14.8366, -14.8366, -14.8366, -14.8366, -14.8366, -14.8366, -14.8366, -14.8366, -14.8366, -14.8366, -1.6136, -2.4201, -2.4201, -2.7336, -3.4868, -3.7156, -3.7277, -3.8363, -4.3303, -4.4698, -4.5637, -5.1797, -5.2355, -5.5673, -5.643, -5.8636, -6.5003, -1.8674, -2.3983, -3.0971, -3.0971, -3.241, -3.8909, -5.5411, -14.6152, -14.6152, -14.6152, -14.6152, -14.6152, -14.6152, -7.7724, -14.6152, -14.6152, -14.6152, -14.6152, -14.6152, -1.2652, -1.2652, -1.8884, -2.0336, -2.1162, -3.4161, -14.5519, -14.5519, -14.5519, -14.5519, -14.5519, -14.5519, -14.5519, -14.5519, -14.5519, -14.5519, -14.5519, -14.5519, -14.5519, -14.5519, -14.5519, -14.5519, -14.5519, -14.5519, -14.5519, -14.5519, -14.5519, -14.5519, -14.5519, -14.5519, -14.5517, -14.5519, -14.5519, -14.5519, -14.5519, -14.5519, -14.5519, -14.5519, -14.5519, -14.5519, -14.5519, -14.5519, -14.5519, -14.5519, -14.5519, -14.5519, -14.5519, -14.5519, -14.5519, -14.5519, -14.5519, -14.5519, -14.5519, -14.5519, -1.7042, -1.886, -1.886, -2.1908, -2.1908, -2.2458, -2.5552, -2.2313, -14.2705, -14.2705, -14.2705, -14.2705, -14.2705, -14.2705, -14.2705, -14.2705, -14.2705, -14.2705, -14.2705, -14.2705, -14.2705, -14.2705, -14.2705, -14.2705, -14.2705, -14.2705, -14.2705, -14.2705, -14.2705, -14.2705, -14.2705, -14.2705, -14.2705, -14.2705, -14.2705, -14.2705, -14.2705, -14.2705, -14.2705, -14.2705, -14.2705, -14.2705, -14.2705, -14.2705, -14.2705, -14.2705, -14.2705, -14.2705, -14.2705, -14.2705, -14.2705, -14.2705, -0.4376, -2.6449, -2.7191, -2.9057, -3.2411, -3.2411, -2.4733, -14.1323, -14.1323, -14.1323, -14.1323, -14.1323, -14.1323, -14.1323, -14.1323, -14.1323, -14.1323, -14.1323, -14.1323, -14.1323, -14.1323, -14.1323, -14.1323, -14.1323, -14.1323, -14.1323, -14.1323, -14.1323, -14.1323, -14.1323, -14.1323, -14.1323, -14.1323, -14.1323, -14.1323, -14.1323, -14.1323, -14.1323, -14.1323, -14.1323, -14.1323, -14.1323, -14.1323, -14.1323, -14.1323, -14.1323, -14.1323, -14.1323, -14.1323, -14.1323, -14.1323, -14.1323, -14.1323, -1.3274, -1.9973, -1.9973, -2.8522, -3.326, -2.0277, -1.9537, -2.9042, -3.7282, -4.0569, -13.8848, -13.8848, -13.8848, -13.8848, -13.8848, -13.8848, -13.8848, -13.8848, -13.8848, -13.8848, -13.8848, -13.8848, -13.8848, -13.8848, -13.8848, -13.8848, -13.8848, -13.8848, -13.8848, -13.8848, -13.8848, -13.8848, -13.8848, -13.8848, -13.8848, -13.8848, -13.8848, -13.8848, -13.8848, -13.8848, -13.8848, -13.8848, -13.8848, -13.8848, -13.8848, -13.8848, -13.8848, -13.8848, -13.8848, -13.8848, -0.892, -1.2416, -2.1126, -2.1454, -2.7841, -6.6943, -13.8065, -13.8065, -13.8065, -13.8065, -13.8065, -13.8065, -13.8065, -13.8065, -13.8065, -13.8065, -13.8065, -13.8065, -13.8065, -13.8065, -13.8065, -13.8065, -13.8065, -13.8065, -13.8065, -13.8065, -13.8065, -13.8065, -13.8065, -13.8065, -13.8065, -13.8065, -13.8065, -13.8065, -13.8065, -13.8065, -13.8065, -13.8065, -13.8065, -13.8065, -13.8065, -13.8065, -13.8065, -13.8065, -13.8065, -13.8065, -13.8065, -13.8065, -13.8065, -13.8065, -13.8065, -13.8065, -13.8065, -13.8065, -1.6034, -1.6838, -3.2491, -3.7646, -3.8009, -1.3267, -2.4336, -2.7442, -2.8787, -2.9019, -13.7805, -13.7805, -13.7805, -13.7805, -13.7805, -13.7805, -13.7805, -13.7805, -13.7805, -13.7805, -13.7805, -13.7805, -13.7805, -13.7805, -13.7805, -13.7805, -13.7805, -13.7805, -13.7805, -13.7805, -13.7805, -13.7805, -13.7805, -13.7805, -13.7805, -13.7805, -13.7805, -13.7805, -13.7805, -13.7805, -13.7805, -13.7805, -13.7805, -13.7805, -13.7805, -13.7805, -13.7805, -13.7805, -13.7805, -13.7805, -1.7068, -1.7068, -1.7068, -2.003, -2.0496, -4.0604, -1.7462, -13.7365, -13.7365, -13.7365, -13.7365, -13.7365, -13.7365, -13.7365, -13.7365, -13.7365, -13.7365, -13.7365, -13.7365, -13.7365, -13.7365, -13.7365, -13.7365, -13.7365, -13.7365, -13.7365, -13.7365, -13.7365, -13.7365, -13.7365, -13.7365, -13.7365, -13.7365, -13.7365, -13.7365, -13.7365, -13.7365, -13.7365, -13.7365, -13.7365, -13.7365, -13.7365, -13.7365, -13.7365, -13.7365, -13.7365, -13.7365, -13.7365, -13.7365, -13.7365, -13.7365, -13.7365, -13.7365, -0.9433, -0.9453, -2.7444, -2.816, -3.4512, -3.5859, -3.9583, -3.9583, -13.6014, -13.6014, -13.6014, -13.6014, -13.6014, -13.6014, -13.6014, -13.6014, -13.6014, -13.6014, -13.6014, -13.6014, -13.6014, -13.6014, -13.6014, -13.6014, -13.6014, -13.6014, -13.6014, -13.6014, -13.6014, -13.6014, -13.6014, -13.6014, -13.6014, -13.6014, -13.6014, -13.6014, -13.6014, -13.6014, -13.6014, -13.6014, -13.6014, -13.6014, -13.6014, -13.6014, -13.6014, -13.6014, -13.6014, -13.6014, -13.6014, -13.6014, -13.6014, -13.6014, -1.2053, -1.2762, -2.0849, -2.1379, -2.3339, -3.7255, -3.7255, -4.2585, -4.6402, -4.6402, -13.2431, -13.2431, -13.2431, -13.2431, -13.2431, -13.2431, -13.2431, -13.2431, -13.2431, -13.2431, -13.2431, -13.2431, -13.2431, -13.2431, -13.2431, -13.2431, -13.2431, -13.2431, -13.2431, -13.2431, -13.2431, -13.2431, -13.2431, -13.2431, -13.2431, -13.2431, -13.2431, -13.2431, -13.2431, -13.2431, -13.2431, -13.2431, -13.2431, -13.2431, -13.2431, -13.2431, -13.2431, -13.2431, -13.2431, -13.2431], \"loglift\": [30.0, 29.0, 28.0, 27.0, 26.0, 25.0, 24.0, 23.0, 22.0, 21.0, 20.0, 19.0, 18.0, 17.0, 16.0, 15.0, 14.0, 13.0, 12.0, 11.0, 10.0, 9.0, 8.0, 7.0, 6.0, 5.0, 4.0, 3.0, 2.0, 1.0, 1.5606, 1.2882, 1.267, 1.1884, 1.1796, 1.168, 0.8291, 0.8002, 0.6264, 0.4882, 0.4855, 0.4518, 0.4518, 0.16, 0.1435, 0.1231, 0.0876, 0.0803, 0.0641, 0.0641, -0.0553, -0.1856, -5.8888, -6.0397, -6.0555, -6.1156, -6.7177, -6.7621, -6.859, -6.8894, -11.9828, -13.2284, -12.7749, -14.5352, -8.355, -12.138, -13.3706, -11.5273, 1.6756, 1.6717, 1.2421, 1.2421, 0.7159, 0.6907, 0.6907, 0.6837, 0.5252, 0.4827, 0.076, 0.0196, -0.8525, -5.7466, -5.8976, -5.9134, -5.9735, -6.5756, -6.62, -6.7168, -6.7472, -6.7528, -6.7952, -6.8904, -6.9214, -6.9308, -6.9555, -6.977, -7.0145, -7.0525, -11.8407, -13.0863, -13.5275, -12.6328, -8.2129, -14.2713, -14.1949, -11.9958, -13.2285, -11.3852, -12.5292, -12.6525, -10.8919, -14.2678, -10.1322, -13.4779, -13.607, 1.9694, 1.9694, 1.9694, 1.9694, 1.9694, 1.9693, 1.9693, 1.9693, 1.9693, 1.9693, 1.9693, 1.9693, 1.9693, 1.9693, 1.9679, 1.9661, 1.5773, 1.2954, 1.2258, 0.9138, 0.6653, 0.64, 0.64, 0.619, 0.5451, 0.5443, 0.4829, 0.3441, 0.3053, 0.1942, -1.0815, -0.1521, -1.5759, 2.1097, 2.1097, 2.1097, 2.106, 1.6909, 1.6106, 1.4126, 1.3932, 1.0454, 0.9838, 0.9829, 0.9337, 0.9166, 0.811, 0.1425, -0.3621, -0.3785, -1.6855, -5.3062, -5.4572, -5.473, -5.5331, -6.1352, -6.1796, -6.2765, -6.3069, -6.3124, -6.3548, -6.45, -6.481, -12.1924, -7.7725, -13.6081, -13.7545, -11.5554, -12.7881, -10.9448, -12.0888, -14.9269, -12.2121, -10.4515, -9.6918, 2.643, 2.643, 2.6429, 2.6429, 2.6429, 2.6428, 2.6428, 2.6427, 2.6396, 2.3091, 2.2603, 1.5662, 1.3635, 0.6912, 0.6618, 0.6618, 0.6252, 0.5706, 0.5289, 0.462, 0.4319, 0.3459, 0.2585, -2.1009, -4.7498, -4.9008, -4.9166, -4.9767, -5.5787, -5.6231, -10.8439, -12.0894, -11.636, -7.216, -13.1981, -10.999, 3.2755, 3.2755, 3.2755, 3.2755, 3.2753, 3.2753, 2.9867, 2.7495, 2.6564, 2.5031, 2.3302, 1.8489, 1.5519, 1.2832, 0.6931, 0.3763, 0.3344, -0.3351, -0.9689, -4.0829, -4.2339, -4.2497, -4.3098, -4.451, -4.9118, -4.9562, -4.9738, -5.0531, -5.0835, -5.0891, -6.4478, -6.4478, -10.9691, -6.5491, -9.7214, -10.9887, -9.2281, -12.6041, -8.4684, 3.3346, 3.3346, 3.3346, 3.3346, 3.3346, 3.3346, 3.3346, 3.3346, 3.3346, 3.3346, 3.3345, 3.3345, 3.3345, 3.3345, 3.3345, 3.3345, 3.3345, 3.3344, 3.3344, 3.3342, 3.3342, 3.334, 3.3339, 3.3339, 3.3336, 3.3333, 3.3328, 3.3321, 3.3317, 3.3312, 3.1532, 2.4012, 2.5615, 2.1303, 2.1702, 1.9262, 1.0978, 2.1889, 0.3988, 0.0874, 3.6678, 3.6678, 3.6678, 3.6675, 0.3941, -3.7262, -3.8772, -3.893, -3.9531, -4.5551, -4.5995, -4.6964, -4.7268, -4.7324, -4.7747, -4.87, -4.9009, -4.9103, -4.9351, -4.9566, -4.994, -5.0321, -5.1628, -5.163, -5.163, -5.1878, -5.1885, -5.2077, -5.2149, -5.2159, -12.2508, -9.8203, -11.0658, -11.5071, -10.6124, -12.3726, -6.1924, -12.028, -12.1745, -9.9754, -12.2073, -11.208, -9.3647, -10.5088, -13.3468, -10.632, -8.8714, -12.2474, -8.1117, -13.3468, -11.9729, -11.4575, -11.5865, -12.4408, -11.2749, 3.8214, 2.6734, 2.6542, 2.4542, 2.0887, 1.1961, 0.8907, 0.389, 0.2221, -2.4256, -3.5404, -3.6914, -3.7072, -3.7673, -4.3693, -4.4137, -4.5106, -4.541, -4.5466, -4.5889, -4.6842, -4.7151, -4.7245, -4.7493, -4.7708, -4.8082, -4.8463, -4.977, -4.9772, -4.9772, -9.6345, -10.88, -10.4266, -12.1868, -6.0067, -11.8422, -9.7896, -11.0222, -9.1789, -10.323, -13.161, -10.4462, -8.6856, -12.0616, -7.9259, -13.161, -11.2717, -11.4007, -12.255, -11.0891, 3.8821, 3.882, 3.882, 3.882, 3.882, 3.8819, 3.8818, 3.8818, 3.8818, 3.8818, 3.8817, 3.8815, 3.8814, 3.8814, 3.8813, 3.8798, 3.8798, 3.8784, 3.1626, 3.1626, 2.9881, 1.9505, 1.8459, 1.5072, 1.0223, 0.8859, 0.796, 0.1438, -3.4385, -3.5895, -9.5326, -10.7781, 4.1236, 4.1236, 4.1236, 4.1236, 4.1236, 4.1236, 4.1235, 4.1235, 4.1235, 4.1233, 4.1231, 4.1231, 4.1228, 4.1228, 4.1225, 4.1223, 4.1223, 4.1222, 4.1221, 4.1221, 4.1218, 4.1217, 4.1213, 4.1213, 4.1208, 4.1206, 4.1203, 4.12, 4.12, 4.12, 4.1658, 4.1658, 4.1658, 4.1657, 4.1657, 4.165, 4.165, 4.162, 4.162, 3.1673, 3.1673, 2.1071, 0.6279, 0.4703, 0.3382, 0.3382, 0.2473, 0.0163, -0.2176, -0.5473, -3.2236, -3.3746, -3.3904, -3.4505, -4.0525, -4.0969, -4.1938, -4.2242, -4.2298, -4.2721, -9.3177, -10.5632, -11.0045, -10.1098, -5.6898, -11.5254, -11.6719, -9.4728, -11.7047, -10.7054, 4.3804, 4.3804, 4.3804, 4.3804, 4.3803, 4.3801, 4.3801, 4.3801, 4.3801, 4.3794, 1.6989, 1.5576, 0.6715, -0.636, -0.8604, -2.9784, -3.1294, -3.1452, -3.2053, -3.8073, -3.8517, -3.9486, -3.979, -3.9846, -4.0269, -4.1221, -4.1531, -4.1625, -4.1873, -4.2088, -9.0725, -10.318, -10.7593, -9.8646, -5.4446, -11.2802, -11.4267, -9.2276, -11.4595, -8.6169, -9.761, -12.599, -9.8842, -8.1236, -11.4996, 4.3921, 4.3921, 4.3921, 4.3921, 4.3921, 3.8266, 3.7022, 3.1323, 0.5194, -2.9299, -3.0809, -3.0967, -3.1568, -3.7589, -3.8032, -3.9001, -3.9305, -3.9361, -3.9784, -4.0737, -4.1046, -4.1141, -4.1388, -4.1603, -4.1978, -4.2358, -4.3665, -4.3667, -4.3667, -4.3915, -9.024, -10.2696, -10.7108, -9.8161, -11.5763, -5.3962, -11.4546, -11.2317, -11.3782, -9.1791, -11.4111, -10.4117, -8.5685, -9.7125, -12.5505, -9.8357, -8.0752, -11.4511, -7.3155, -12.5505, -11.1766, 4.4098, 4.4098, 4.4098, 4.4098, 4.4096, 4.4093, 4.1322, -2.9008, -3.0518, -3.0676, -3.1277, -3.7298, -3.7742, -3.8711, -3.9015, -3.907, -3.9494, -4.0446, -4.0756, -4.085, -4.1097, -4.1313, -4.1687, -4.2067, -4.3375, -4.3377, -4.3377, -4.3625, -4.3631, -4.3823, -8.9949, -10.2405, -10.6817, -9.787, -11.5473, -5.3671, -11.4255, -11.2027, -11.3491, -9.1501, -11.382, -10.3827, -8.5394, -9.6834, -12.5215, -9.8067, -8.0461, -11.422, -7.2864, -12.5215, -11.1476, -10.6321, -10.7612, 4.6136, 4.6136, 4.6136, 4.6135, 4.6133, 4.6132, 4.6132, 4.6132, 4.6129, 4.6127, 4.6126, 4.6118, 4.6117, 4.6109, 4.6106, 4.6099, 4.6066, 4.336, 4.0262, 2.6797, 2.6797, 1.3551, -0.2018, -2.13, -2.6794, -2.8304, -2.8462, -2.9063, -3.5528, -3.6497, -4.4831, -8.7735, -10.4603, -9.5656, -5.1457, -10.9813, 4.6693, 4.6693, 4.6693, 4.6693, 2.3377, 0.8383, -2.6162, -2.7671, -2.783, -2.8431, -3.4451, -3.4895, -3.5864, -3.6168, -3.6223, -3.6647, -3.7599, -3.7909, -3.8003, -3.825, -3.8466, -3.884, -3.922, -4.0528, -4.053, -4.053, -4.0778, -4.0784, -4.0977, -4.1048, -11.2623, -8.7103, -9.9558, -10.3971, -9.5023, -5.0824, -11.1408, -10.918, -11.0644, -8.8654, -11.0973, -8.2547, -9.3988, -12.2368, -9.522, -7.7614, -11.1374, -7.0017, -12.2368, -10.8629, -10.3475, -10.4765, -11.3307, -10.1649, 4.9275, 4.9275, 4.9275, 4.9275, 4.9275, 4.9275, 4.9274, 4.3926, -2.3347, -2.4857, -2.5015, -2.5616, -3.1636, -3.208, -3.3049, -3.3353, -3.3409, -3.3832, -3.4785, -3.5094, -3.5188, -3.5436, -3.5651, -3.6025, -3.6406, -3.7713, -3.7715, -3.7715, -3.7963, -3.797, -8.4288, -9.6743, -10.1156, -9.2209, -10.9811, -4.801, -10.8593, -10.6365, -10.783, -8.5839, -10.8158, -9.8165, -7.9732, -9.1173, -11.9553, -9.2405, -7.4799, -10.8559, -6.7202, -11.9553, -10.5814, -10.066, 5.0317, 5.0315, 5.0315, 5.0315, 5.0314, 5.0314, 4.1505, -2.1965, -2.3475, -2.3633, -2.4234, -3.0255, -3.0699, -3.1668, -3.1972, -3.2027, -3.2451, -3.3403, -3.3713, -3.3807, -3.4054, -3.427, -3.4644, -3.5024, -3.6331, -3.6333, -3.6333, -3.6582, -3.6588, -3.678, -8.2906, -9.5362, -9.9774, -9.0827, -10.843, -4.6628, -10.7212, -10.4984, -10.6448, -8.4457, -10.6777, -9.6784, -7.8351, -8.9791, -11.8172, -9.1024, -7.3418, -10.7177, -6.5821, -11.8172, -10.4433, -9.9278, -10.0569, 5.2082, 5.2082, 5.2082, 5.208, 5.2078, 4.3968, 3.1848, 1.6919, 0.5262, 0.397, -1.9491, -2.1, -2.1159, -2.176, -2.778, -2.8224, -2.9193, -2.9497, -2.9552, -2.9976, -3.0928, -3.1238, -3.1332, -3.1579, -3.1795, -3.2169, -3.2549, -3.3857, -3.3859, -3.3859, -8.0431, -9.7299, -8.8352, -10.5955, -4.4153, -10.4737, -10.2509, -10.3973, -8.1983, -10.4302, -7.5876, -8.7316, -11.5697, -8.8549, -7.0943, -10.4703, -6.3346, -11.5697, -10.1958, -9.6804, 5.2577, 5.2577, 5.2576, 5.2576, 5.2574, 5.2415, -2.0217, -2.0375, -2.0976, -2.6996, -2.744, -2.8409, -2.8713, -2.8769, -2.9192, -3.0145, -3.0454, -3.0548, -3.0796, -3.1011, -3.1385, -3.1766, -3.3073, -3.3075, -3.3075, -3.3323, -3.333, -3.3522, -3.3594, -3.3604, -7.9648, -9.2103, -9.6516, -8.7569, -10.5171, -4.337, -10.3953, -10.1725, -10.319, -8.1199, -10.3518, -9.3525, -7.5092, -8.6533, -11.4913, -8.7765, -7.0159, -10.3919, -6.2562, -11.4913, -10.1174, -9.602, -9.731, -10.5853, 5.3049, 5.3049, 5.3045, 5.3041, 5.3041, 3.9221, 2.1625, 1.5103, 0.6088, 0.5092, -1.8447, -1.9957, -2.0115, -2.0716, -2.6737, -2.7181, -2.815, -2.8454, -2.8509, -2.8933, -2.9885, -3.0195, -3.0289, -3.0536, -3.0752, -3.1126, -3.1506, -3.2813, -3.2815, -3.2815, -7.9388, -9.6256, -8.7309, -10.4912, -4.311, -10.1466, -8.0939, -10.3259, -9.3266, -7.4833, -8.6273, -11.4654, -8.7506, -6.99, -10.3659, -6.2303, -11.4654, -10.0915, -9.576, -9.7051, 5.354, 5.354, 5.354, 5.354, 5.354, 5.3528, 3.9368, -1.8007, -1.9517, -1.9675, -2.0276, -2.6297, -2.6741, -2.7709, -2.8013, -2.8069, -2.8492, -2.9445, -2.9754, -2.9849, -3.0096, -3.0311, -3.0686, -3.1066, -3.2373, -3.2375, -3.2375, -3.2623, -3.263, -3.2822, -7.8948, -9.1404, -9.5816, -8.6869, -10.4472, -4.267, -10.3254, -10.1025, -10.249, -8.0499, -10.2819, -9.2825, -7.4393, -8.5833, -11.4213, -8.7065, -6.946, -10.3219, -6.1863, -11.4213, -10.0475, -9.532, -9.661, 5.4968, 5.4968, 5.4965, 5.4965, 5.4961, 5.496, 5.4955, 5.4955, -1.6656, -1.8166, -1.8324, -1.8925, -2.4945, -2.5389, -2.6358, -2.6662, -2.6718, -2.7141, -2.8094, -2.8403, -2.8497, -2.8745, -2.896, -2.9334, -2.9715, -3.1022, -3.1024, -3.1024, -3.1272, -3.1279, -7.7597, -9.0052, -9.4465, -8.5518, -10.312, -4.1319, -10.1902, -9.9674, -10.1139, -7.9148, -10.1468, -9.1474, -7.3041, -8.4482, -11.2862, -8.5714, -6.8108, -10.1868, -6.0511, -11.2862, -9.9123, -9.3969, 5.7694, 5.7694, 5.7693, 5.7693, 5.7692, 5.7682, 5.7682, 5.7672, 5.7661, 5.7661, -1.3073, -1.4583, -1.4741, -1.5342, -2.1363, -2.1807, -2.2775, -2.3079, -2.3135, -2.3558, -2.4511, -2.4821, -2.4915, -2.5162, -2.5377, -2.5752, -2.6132, -2.7439, -2.7441, -2.7441, -7.4014, -8.647, -9.0882, -8.1935, -9.9538, -3.7736, -9.832, -9.6091, -9.7556, -7.5565, -9.7885, -8.7892, -6.9459, -8.0899, -10.9279, -8.2132, -6.4526, -9.8285, -5.6929, -10.9279]}, \"token.table\": {\"Topic\": [20, 7, 10, 22, 16, 20, 15, 18, 5, 14, 11, 11, 13, 13, 1, 16, 11, 11, 1, 2, 12, 10, 3, 16, 20, 3, 4, 6, 3, 7, 14, 1, 4, 11, 11, 10, 23, 11, 16, 3, 1, 9, 1, 2, 5, 10, 12, 10, 10, 12, 16, 4, 23, 6, 6, 22, 11, 16, 15, 11, 13, 11, 13, 25, 25, 11, 3, 4, 6, 16, 20, 22, 11, 7, 10, 16, 7, 6, 7, 20, 12, 17, 3, 16, 24, 14, 10, 3, 7, 7, 23, 13, 11, 7, 18, 15, 5, 25, 18, 1, 3, 4, 5, 6, 7, 9, 10, 11, 5, 5, 16, 5, 1, 2, 12, 10, 12, 16, 5, 7, 3, 16, 10, 17, 3, 4, 5, 7, 10, 12, 13, 20, 8, 5, 9, 12, 10, 16, 24, 11, 23, 7, 8, 25, 3, 25, 18, 19, 7, 2, 3, 4, 5, 6, 10, 12, 13, 16, 24, 21, 11, 11, 6, 14, 10, 13, 11, 18, 3, 11, 11, 24, 10, 10, 25, 24, 10, 11, 4, 7, 7, 4, 25, 25, 5, 10, 7, 7, 12, 24, 7, 11, 3, 11, 1, 2, 3, 4, 6, 7, 8, 12, 13, 14, 17, 20, 22, 15, 17, 1, 9, 1, 3, 4, 5, 6, 9, 12, 13, 16, 22, 11, 11, 3, 7, 18, 3, 12, 12, 12, 11, 7, 13, 11, 7, 16, 7, 14, 7, 22, 1, 2, 3, 5, 6, 10, 11, 5, 25, 7, 1, 6, 9, 22, 16, 17, 6, 10, 1, 2, 5, 9, 10, 12, 2, 7, 7, 11, 11, 16, 7, 11, 7, 14, 3, 16, 1, 2, 3, 4, 5, 6, 7, 9, 10, 21, 10, 16, 5, 1, 7, 11, 15, 16, 21, 8, 20, 13, 1, 4, 3, 6, 7, 13, 17, 20, 13, 4, 14, 3, 20, 19, 18, 21, 12, 11, 3, 7, 6, 5, 7, 13, 12, 15, 21, 21, 7, 7, 11, 19, 3, 8, 23, 18, 14, 7, 7, 19, 6, 7, 10, 19, 6, 16, 19, 3, 4, 3, 4, 7, 1, 2, 3, 5, 6, 1, 9, 6, 22, 6, 11, 11, 25, 12, 3, 24, 15, 23, 7, 24, 1, 3, 4, 5, 7, 1, 2, 3, 5, 6, 22, 7, 7, 3, 10, 11, 19, 11, 10, 11, 16, 11, 1, 2, 3, 4, 5, 6, 9, 12, 16, 23, 10, 11, 2, 16, 11, 1, 3, 5, 11, 22], \"Freq\": [0.9999239864978048, 0.9998879036734288, 0.9996123786438875, 0.9998988397785356, 0.9997150979052292, 0.9997930475313938, 0.9999552507179219, 0.9998179026208943, 0.7161419962104038, 0.2837660915619837, 0.9973904366378438, 0.9970136946937329, 0.9995324178962285, 0.9995324178962285, 0.24241153528719925, 0.7575298600163386, 0.9974490923428205, 0.9953312320748064, 0.3299628666665425, 0.6482727490414255, 0.02175999491837698, 0.9998595753457151, 0.9999136454543631, 0.5557100538472128, 0.44418517805567304, 0.27140656466378726, 0.4884421749989678, 0.24013550849635143, 0.11984147392100028, 0.3121024888310713, 0.5680271980577919, 0.3421717190491901, 0.6578230225040806, 0.9999129324804524, 0.999728286835881, 0.9994691449628332, 0.9997642324193761, 0.9994774047791329, 0.9997762965358438, 0.9988105799970832, 0.7455396177789597, 0.2544539974022212, 0.4811744860695318, 0.3830313689397557, 0.09212943958791475, 0.023793791325412112, 0.019869973354835927, 0.9996133336528521, 0.4869825990333988, 0.36842781462270674, 0.14456639559919224, 0.9999911923333297, 0.9998674712287313, 0.9999474188063376, 0.749127021884239, 0.250846069424122, 0.9944211885205243, 0.9997156270326716, 0.9994286399929257, 0.996868894349448, 0.9999219348917265, 0.99998176753829, 0.999951512625639, 0.9998869520893571, 0.9995214253619886, 0.9994713502270982, 0.1968299954504058, 0.3032916272269384, 0.3885403075833195, 0.03843731234876863, 0.029706069481727743, 0.04317004285738057, 0.9854936408954597, 0.9999238203526236, 0.9996123786438875, 0.99620474076977, 0.9995178229458032, 0.5383823525296751, 0.461534168839851, 0.9997073899911304, 0.9998773094157746, 0.999930130941691, 0.9998032222932496, 0.9995069675908628, 0.999958156960012, 0.9999209203097859, 0.9995702846763349, 0.509758084621047, 0.4898517581925068, 0.999725539271197, 0.9998674712287313, 0.9995324178962285, 0.999906919966596, 0.9998435495777916, 0.999940136267837, 0.9999552507179219, 0.9998644250885127, 0.9998396738973678, 0.9998627462615028, 0.22922792548968554, 0.02886011301234396, 0.2729010244157071, 0.10055088025419705, 0.13638669063993597, 0.10679262959653947, 0.03226180258235266, 0.09301993523991889, 0.999906919966596, 0.9967957516187625, 0.9998644250885127, 0.9986679403879005, 0.9999727825687577, 0.3299628666665425, 0.6482727490414255, 0.02175999491837698, 0.4869825990333988, 0.36842781462270674, 0.14456639559919224, 0.9997029458769102, 0.9984233661941133, 0.9999807524956945, 0.9989384101978269, 0.999842467425015, 0.9999596785267255, 0.6755907546922041, 0.324382418232326, 0.3406495082006127, 0.24450586882568773, 0.13052941029087697, 0.1276113126101684, 0.024505194558465074, 0.13218470546648362, 0.999986356322805, 0.9997689733436672, 0.9983707937727424, 0.9952113417372139, 0.997015156177678, 0.9995222327476398, 0.9993668438597052, 0.9987421270629492, 0.9998674712287313, 0.9998702312784068, 0.9999816527220526, 0.9964501874462297, 0.9960355258057321, 0.9982182213584657, 0.5856635339916514, 0.41426084720953876, 0.9998961042180442, 0.20199376363783336, 0.1893466604205676, 0.34497935042568884, 0.11291615216893269, 0.07559256044874961, 0.05728125237159567, 0.012483273678881126, 0.005296259831057138, 0.00011280066577302222, 0.9993983202090835, 0.9780098838917761, 0.9987012638380626, 0.9956372972908407, 0.9999474188063376, 0.9999209203097859, 0.9996215836018024, 0.9995324178962285, 0.9986375248625392, 0.9999060219583925, 0.9999136454543631, 0.999906919966596, 0.9932630759876766, 0.9990190056768906, 0.9994310099679733, 0.9998595753457151, 0.9998798252243213, 0.9995461693980922, 0.99934181565615, 0.9829637447849366, 0.9999927218637057, 0.9960177410363792, 0.9975559897987152, 0.9966417923302237, 0.9982182213584657, 0.9996273438451154, 0.9999727825687577, 0.994861918707109, 0.9992088330262215, 0.9990126302780786, 0.9989748696745903, 0.9999071056213028, 0.9998045494861667, 0.9934774943261828, 0.9999136454543631, 0.996030133596777, 0.23751358910694756, 0.1909118845744021, 0.16942997932316672, 0.13984741469100928, 0.027037448847550948, 0.038881754991980044, 0.03786652875102898, 0.024837791992156973, 0.059440086371239126, 0.02079803757503919, 0.021686360535871373, 0.009256889266449646, 0.022490081309957635, 0.9999552507179219, 0.9999596785267255, 0.6892275093620307, 0.31076596737237977, 0.4674835330666844, 0.04731199583203339, 0.3240762504963, 0.008703392923961516, 0.055062838955324316, 0.07231491130059066, 0.0089764167521792, 0.006628411829507115, 0.0011770360594273502, 0.008263521200721912, 0.9936657104386707, 0.9960019737387598, 0.9998671758777771, 0.9998781619136478, 0.9997962493184329, 0.9998671758777771, 0.9999655699143111, 0.9999266606947147, 0.9999685659287678, 0.9981287763761166, 0.9997890400335796, 0.9984591098579165, 0.9991370228384783, 0.9954105738900613, 0.9975281072429508, 0.998020782855782, 0.999965411629097, 0.9998781619136478, 0.9994038319417514, 0.22755978296676696, 0.37087733610060936, 0.25911034224766655, 0.1420097382892058, 0.0004397290492111439, 0.9998353923634087, 0.9945065795791892, 0.9996660213858917, 0.9964501874462297, 0.9865278022430591, 0.761518897582379, 0.05280499138468793, 0.17654162091450482, 0.009128809820829042, 0.9991764792007368, 0.9999022994243569, 0.5909382158678425, 0.4090156895799905, 0.6752699109239112, 0.07981782188283634, 0.12587534348856771, 0.05327882975045555, 0.049974008576763825, 0.01577549996723564, 0.9999960581763955, 0.9999229548021484, 0.9999307448763481, 0.9992592835541589, 0.9998749331591108, 0.9998340014215616, 0.9973445471421115, 0.99908113227595, 0.9999302514828461, 0.999937194506595, 0.9999136454543631, 0.9949667506911651, 0.17444145073508738, 0.30333662396514566, 0.24047800835316152, 0.02247688992143835, 0.13293809845415688, 0.0002629802457681679, 0.05308398840481789, 0.027302419009449432, 0.045679351846261165, 0.9996269197363588, 0.9998595753457151, 0.9938978835956048, 0.9998834724783605, 0.9999869392517433, 0.9988979772741526, 0.9973630430875516, 0.999885255460095, 0.9997624902930972, 0.9998661747067062, 0.9996542447776492, 0.9996163097015989, 0.999951512625639, 0.3928880115283313, 0.607109437162599, 0.34795794996196455, 0.1784115055100812, 0.29988866257358093, 0.0684589278222387, 0.09713697000273899, 0.008133478349511638, 0.999951512625639, 0.4981577410574202, 0.5016634253716877, 0.9999434255663127, 0.9997930475313938, 0.99973475153613, 0.9998179026208943, 0.9999698138348186, 0.9952113417372139, 0.999906919966596, 0.9998032222932496, 0.9993310020443281, 0.9997891584886314, 0.6819592593491441, 0.3179892866990182, 0.9999519691397322, 0.9998773094157746, 0.9999476093181265, 0.9998744447680689, 0.9999346095896073, 0.9999442762939971, 0.9998379613458406, 0.9999620929855662, 0.9994550624548106, 0.9999835807724028, 0.9999877481099845, 0.9983394300128394, 0.9999060219583925, 0.9999209203097859, 0.9998507645592967, 0.9999453613139921, 0.9999657236599918, 0.4618952320575866, 0.3931738117049618, 0.14490728933730135, 0.9996454968624816, 0.9999728561856146, 0.9999371151258021, 0.9996866091800327, 0.9999231299932154, 0.9999962122592072, 0.08287148356011415, 0.08307547490426212, 0.8340186105489888, 0.22391443173155204, 0.37350028677326863, 0.2646323219601706, 0.13789191948491056, 5.981812015359413e-05, 0.6831847096617605, 0.31681141826390957, 0.999962345165338, 0.9992711649466199, 0.9997891584886314, 0.9961087951936393, 0.9961653799976534, 0.9978541127262609, 0.9989748696745903, 0.9999768713244701, 0.9987659965400976, 0.7576303352326377, 0.2423452163410138, 0.9998854546671538, 0.9987659965400976, 0.34125821887855895, 0.2406578797575608, 0.308504053756859, 0.1095742497881702, 0.9997021228085899, 0.22391443171159758, 0.3735002867399836, 0.2646323219365875, 0.13789191947262214, 5.981812014826335e-05, 0.9998754172703637, 0.9989780388002388, 0.9994293678981275, 0.9998032222932496, 0.997015156177678, 0.9993787552375258, 0.9994550624548106, 0.9956202202793479, 0.999269813099738, 0.9972439464673104, 0.9998340014215616, 0.9998614765933146, 0.19870630264258365, 0.31651055322253946, 0.2261556423190461, 0.08443485778196827, 0.12074024444875006, 0.014343511656415007, 0.0019346317034483241, 0.029071546384322848, 0.008103022641979213, 0.9997915831624834, 0.9999153557368325, 0.9944987195422769, 0.9954126663326178, 0.9974829971809925, 0.997881085393501, 0.24644872782626198, 0.4753797242164286, 0.2781644062187945, 0.9956233194367577, 0.9993170962067426], \"Term\": [\"10th\", \"11th\", \"12th\", \"abroad\", \"absent\", \"academic\", \"admin\", \"administration\", \"agriculture\", \"agriculture\", \"alabama\", \"alaska\", \"aleut\", \"amer\", \"american\", \"american\", \"arizona\", \"arkansas\", \"armed\", \"armed\", \"armed\", \"asian\", \"assmblrs\", \"associates\", \"associates\", \"bachelors\", \"bachelors\", \"bachelors\", \"black\", \"black\", \"black\", \"both\", \"both\", \"business\", \"california\", \"cambodia\", \"canada\", \"carolina\", \"central\", \"chicano\", \"child\", \"child\", \"children\", \"children\", \"children\", \"children\", \"children\", \"china\", \"citizen\", \"citizen\", \"citizen\", \"civilian\", \"cleaners\", \"clerical\", \"college\", \"college\", \"colorado\", \"columbia\", \"communications\", \"connecticut\", \"construction\", \"county\", \"craft\", \"cuba\", \"cuban\", \"dakota\", \"degree\", \"degree\", \"degree\", \"degree\", \"degree\", \"degree\", \"delaware\", \"different\", \"diploma\", \"district\", \"division\", \"divorced\", \"divorced\", \"doctorate\", \"dominican\", \"durable\", \"econ\", \"ecuador\", \"education\", \"employed\", \"england\", \"entertainment\", \"entertainment\", \"entrant\", \"equip\", \"eskimo\", \"estate\", \"ever\", \"except\", \"executive\", \"farming\", \"father\", \"federal\", \"female\", \"female\", \"female\", \"female\", \"female\", \"female\", \"female\", \"female\", \"finance\", \"fisheries\", \"fishing\", \"florida\", \"force\", \"forces\", \"forces\", \"forces\", \"foreign\", \"foreign\", \"foreign\", \"forestry\", \"france\", \"full\", \"georgia\", \"germany\", \"goods\", \"government\", \"government\", \"grade\", \"grade\", \"grade\", \"grade\", \"grade\", \"grade\", \"graduate\", \"grandchild\", \"greece\", \"group\", \"guam\", \"guatemala\", \"haiti\", \"hampshire\", \"handlers\", \"head\", \"high\", \"holand\", \"honduras\", \"hong\", \"hospital\", \"hospital\", \"household\", \"householder\", \"householder\", \"householder\", \"householder\", \"householder\", \"householder\", \"householder\", \"householder\", \"householder\", \"hungary\", \"idaho\", \"identifiable\", \"illinois\", \"including\", \"incorporated\", \"india\", \"indian\", \"indiana\", \"individual\", \"inspctrs\", \"insurance\", \"iowa\", \"iran\", \"ireland\", \"islander\", \"italy\", \"jamaica\", \"japan\", \"jersey\", \"joint\", \"kansas\", \"kentucky\", \"know\", \"kong\", \"korea\", \"labor\", \"laos\", \"layoff\", \"leaver\", \"less\", \"local\", \"loser\", \"louisiana\", \"machine\", \"maine\", \"male\", \"male\", \"male\", \"male\", \"male\", \"male\", \"male\", \"male\", \"male\", \"male\", \"male\", \"male\", \"male\", \"managerial\", \"manufacturing\", \"marr\", \"marr\", \"married\", \"married\", \"married\", \"married\", \"married\", \"married\", \"married\", \"married\", \"married\", \"married\", \"maryland\", \"massachusetts\", \"masters\", \"material\", \"medical\", \"meng\", \"mexican\", \"mexicano\", \"mexico\", \"michigan\", \"midwest\", \"mining\", \"minnesota\", \"mississippi\", \"missouri\", \"montana\", \"mother\", \"moving\", \"nanvalue\", \"native\", \"native\", \"native\", \"native\", \"native\", \"naturalization\", \"nebraska\", \"neither\", \"netherlands\", \"nevada\", \"never\", \"never\", \"never\", \"never\", \"nicaragua\", \"nondurable\", \"nonfamily\", \"nonfamily\", \"nonfiler\", \"nonfiler\", \"nonfiler\", \"nonfiler\", \"nonfiler\", \"nonfiler\", \"nonmover\", \"nonmsa\", \"nonrelative\", \"north\", \"northeast\", \"occup\", \"ohio\", \"oklahoma\", \"older\", \"only\", \"operators\", \"oregon\", \"other\", \"other\", \"other\", \"other\", \"other\", \"other\", \"other\", \"other\", \"other\", \"outlying\", \"pacific\", \"panama\", \"parent\", \"parents\", \"part\", \"pennsylvania\", \"personal\", \"peru\", \"philippines\", \"poland\", \"portugal\", \"precision\", \"present\", \"present\", \"private\", \"private\", \"private\", \"private\", \"private\", \"private\", \"production\", \"prof\", \"prof\", \"professional\", \"program\", \"protective\", \"public\", \"puerto\", \"quarters\", \"real\", \"reasons\", \"region\", \"related\", \"relative\", \"relative\", \"repair\", \"republic\", \"retail\", \"rican\", \"rico\", \"sales\", \"salvador\", \"same\", \"sanitary\", \"schedules\", \"school\", \"scotland\", \"secondary\", \"self\", \"separated\", \"service\", \"services\", \"single\", \"single\", \"single\", \"social\", \"some\", \"south\", \"spanish\", \"specialty\", \"spouse\", \"state\", \"state\", \"state\", \"states\", \"states\", \"states\", \"states\", \"states\", \"subfamily\", \"subfamily\", \"support\", \"taiwan\", \"technicians\", \"tennessee\", \"texas\", \"thailand\", \"than\", \"time\", \"tobago\", \"trade\", \"trade\", \"transportation\", \"trinadad\", \"under\", \"under\", \"under\", \"under\", \"unemployed\", \"united\", \"united\", \"united\", \"united\", \"united\", \"university\", \"unrel\", \"unrelated\", \"usually\", \"usvi\", \"utah\", \"utilities\", \"vermont\", \"vietnam\", \"virginia\", \"vocational\", \"west\", \"white\", \"white\", \"white\", \"white\", \"white\", \"white\", \"white\", \"white\", \"white\", \"wholesale\", \"widowed\", \"wisconsin\", \"without\", \"worked\", \"wyoming\", \"year\", \"year\", \"year\", \"york\", \"yugoslavia\"]}, \"R\": 30, \"lambda.step\": 0.01, \"plot.opts\": {\"xlab\": \"PC1\", \"ylab\": \"PC2\"}, \"topic.order\": [5, 22, 16, 13, 24, 11, 25, 20, 3, 2, 6, 15, 4, 12, 14, 19, 10, 8, 21, 9, 18, 23, 17, 1, 7]};\n",
              "\n",
              "function LDAvis_load_lib(url, callback){\n",
              "  var s = document.createElement('script');\n",
              "  s.src = url;\n",
              "  s.async = true;\n",
              "  s.onreadystatechange = s.onload = callback;\n",
              "  s.onerror = function(){console.warn(\"failed to load library \" + url);};\n",
              "  document.getElementsByTagName(\"head\")[0].appendChild(s);\n",
              "}\n",
              "\n",
              "if(typeof(LDAvis) !== \"undefined\"){\n",
              "   // already loaded: just create the visualization\n",
              "   !function(LDAvis){\n",
              "       new LDAvis(\"#\" + \"ldavis_el581405138513727527535865200\", ldavis_el581405138513727527535865200_data);\n",
              "   }(LDAvis);\n",
              "}else if(typeof define === \"function\" && define.amd){\n",
              "   // require.js is available: use it to load d3/LDAvis\n",
              "   require.config({paths: {d3: \"https://d3js.org/d3.v5\"}});\n",
              "   require([\"d3\"], function(d3){\n",
              "      window.d3 = d3;\n",
              "      LDAvis_load_lib(\"https://cdn.jsdelivr.net/gh/bmabey/pyLDAvis@3.2.2/pyLDAvis/js/ldavis.v3.0.0.js\", function(){\n",
              "        new LDAvis(\"#\" + \"ldavis_el581405138513727527535865200\", ldavis_el581405138513727527535865200_data);\n",
              "      });\n",
              "    });\n",
              "}else{\n",
              "    // require.js not available: dynamically load d3 & LDAvis\n",
              "    LDAvis_load_lib(\"https://d3js.org/d3.v5.js\", function(){\n",
              "         LDAvis_load_lib(\"https://cdn.jsdelivr.net/gh/bmabey/pyLDAvis@3.2.2/pyLDAvis/js/ldavis.v3.0.0.js\", function(){\n",
              "                 new LDAvis(\"#\" + \"ldavis_el581405138513727527535865200\", ldavis_el581405138513727527535865200_data);\n",
              "            })\n",
              "         });\n",
              "}\n",
              "</script>"
            ],
            "text/plain": [
              "<IPython.core.display.HTML object>"
            ]
          },
          "metadata": {
            "tags": []
          },
          "execution_count": 26
        }
      ]
    },
    {
      "cell_type": "code",
      "metadata": {
        "id": "Qm4yHC-ATfDX"
      },
      "source": [
        ""
      ],
      "execution_count": null,
      "outputs": []
    },
    {
      "cell_type": "markdown",
      "metadata": {
        "id": "GOPPzXcqHWe7"
      },
      "source": [
        "For example if we take a look at theme #28, it is connected with people from Cuba(take a look at words connected with this group). We found anomaly."
      ]
    },
    {
      "cell_type": "code",
      "metadata": {
        "id": "CyANTLxWHVL_"
      },
      "source": [
        ""
      ],
      "execution_count": null,
      "outputs": []
    },
    {
      "cell_type": "code",
      "metadata": {
        "id": "lI1qMPOuHVlC"
      },
      "source": [
        ""
      ],
      "execution_count": null,
      "outputs": []
    }
  ]
}